{
 "cells": [
  {
   "cell_type": "code",
   "execution_count": 1,
   "metadata": {
    "collapsed": false,
    "scrolled": true
   },
   "outputs": [
    {
     "name": "stdout",
     "output_type": "stream",
     "text": [
      "[ 0.79801395  0.20087926]\n",
      "[[ 0.82538528  0.52692826 -0.20269618]\n",
      " [ 0.08508058  0.23883512  0.96732574]]\n"
     ]
    }
   ],
   "source": [
    "import numpy as np\n",
    "from sklearn.decomposition import PCA, TruncatedSVD\n",
    "X = np.array([[-1, -1, 0], [-2, -1, 4], [-3, -2, 1], [1, 1, 2], [2, 1, 0], [3, 2, 1]])\n",
    "pca = PCA(n_components=2, whiten=True)\n",
    "pca.fit(X)\n",
    "\n",
    "print(pca.explained_variance_ratio_) \n",
    "print pca.components_"
   ]
  },
  {
   "cell_type": "code",
   "execution_count": 2,
   "metadata": {
    "collapsed": false
   },
   "outputs": [
    {
     "name": "stdout",
     "output_type": "stream",
     "text": [
      "[  9.40409193e-01   5.95889981e-02   1.80896615e-06] \n",
      "\n",
      "[[-0.82538528 -0.52692826  0.20269618]\n",
      " [-0.08508058 -0.23883512 -0.96732574]\n",
      " [ 0.55812224 -0.81566193  0.15229963]] \n",
      "\n",
      "[  1.11873864e+01   7.08888377e-01   2.15199973e-05]\n"
     ]
    }
   ],
   "source": [
    "from scipy import linalg\n",
    "n_samples, n_features = X.shape\n",
    "U, S, V = linalg.svd(np.cov(X.transpose()), full_matrices=False)\n",
    "explained_variance_ = (S ** 2) / n_samples\n",
    "explained_variance_ratio_ = (explained_variance_ / explained_variance_.sum())\n",
    "components_ = V\n",
    "\n",
    "print explained_variance_ratio_ , '\\n'\n",
    "print components_, '\\n'\n",
    "print explained_variance_"
   ]
  },
  {
   "cell_type": "code",
   "execution_count": 3,
   "metadata": {
    "collapsed": false
   },
   "outputs": [
    {
     "name": "stdout",
     "output_type": "stream",
     "text": [
      "[ 8.19294321  0.0113631   2.06236036] \n",
      "\n",
      "[ 0.79801395  0.0011068   0.20087926] \n",
      "\n",
      "[[ 0.82538528  0.55812224  0.08508058]\n",
      " [ 0.52692826 -0.81566193  0.23883512]\n",
      " [-0.20269618  0.15229963  0.96732574]]\n"
     ]
    }
   ],
   "source": [
    "eigenvalues, eigenvectors = np.linalg.eig(np.cov(X.transpose()))\n",
    "print eigenvalues, '\\n'\n",
    "print eigenvalues / eigenvalues.sum(), '\\n'\n",
    "print eigenvectors"
   ]
  },
  {
   "cell_type": "code",
   "execution_count": 4,
   "metadata": {
    "collapsed": false
   },
   "outputs": [
    {
     "name": "stdout",
     "output_type": "stream",
     "text": [
      "[ 0.79211518  0.2055658 ]\n",
      "[[-0.80642175 -0.51033815  0.29872887]\n",
      " [ 0.20899656  0.22659823  0.95130105]]\n"
     ]
    }
   ],
   "source": [
    "#svd = TruncatedSVD(n_components=2, algorithm='arpack').fit(np.cov(X.transpose()))\n",
    "svd = TruncatedSVD(n_components=2, algorithm='arpack').fit(X)\n",
    "print svd.explained_variance_ratio_\n",
    "print svd.components_"
   ]
  },
  {
   "cell_type": "code",
   "execution_count": 5,
   "metadata": {
    "collapsed": true
   },
   "outputs": [],
   "source": [
    "import time"
   ]
  },
  {
   "cell_type": "code",
   "execution_count": 6,
   "metadata": {
    "collapsed": false
   },
   "outputs": [
    {
     "name": "stdout",
     "output_type": "stream",
     "text": [
      "1000 loops, best of 3: 108 µs per loop\n"
     ]
    }
   ],
   "source": [
    "%timeit U, S, V = linalg.svd(X, full_matrices=False)"
   ]
  },
  {
   "cell_type": "code",
   "execution_count": 7,
   "metadata": {
    "collapsed": false
   },
   "outputs": [
    {
     "name": "stdout",
     "output_type": "stream",
     "text": [
      "1000 loops, best of 3: 111 µs per loop\n"
     ]
    }
   ],
   "source": [
    "%timeit eigenvalues, eigenvectors = np.linalg.eig(np.cov(X.transpose()))"
   ]
  }
 ],
 "metadata": {
  "kernelspec": {
   "display_name": "Python 2",
   "language": "python",
   "name": "python2"
  },
  "language_info": {
   "codemirror_mode": {
    "name": "ipython",
    "version": 2
   },
   "file_extension": ".py",
   "mimetype": "text/x-python",
   "name": "python",
   "nbconvert_exporter": "python",
   "pygments_lexer": "ipython2",
   "version": "2.7.11"
  }
 },
 "nbformat": 4,
 "nbformat_minor": 0
}
