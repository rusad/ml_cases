{
 "cells": [
  {
   "cell_type": "markdown",
   "metadata": {},
   "source": [
    "# Statlog (Image Segmentation) Data Set \n",
    "\n",
    "#### Data Set Information:\n",
    "\n",
    "The instances were drawn randomly from a database of 7 outdoor images. The images were handsegmented to create a classification for every pixel. \n",
    "\n",
    "Each instance is a 3x3 region. \n",
    "\n",
    "\n",
    "#### Attribute Information:\n",
    "\n",
    "1. region-centroid-col: the column of the center pixel of the region. \n",
    "2. region-centroid-row: the row of the center pixel of the region. \n",
    "3. region-pixel-count: the number of pixels in a region = 9. \n",
    "4. short-line-density-5: the results of a line extractoin algorithm that counts how many lines of length 5 (any orientation) with low contrast, less than or equal to 5, go through the region. \n",
    "5. short-line-density-2: same as short-line-density-5 but counts lines of high contrast, greater than 5. \n",
    "6. vedge-mean: measure the contrast of horizontally adjacent pixels in the region. There are 6, the mean and standard deviation are given. This attribute is used as a vertical edge detector. \n",
    "7. vegde-sd: (see 6) \n",
    "8. hedge-mean: measures the contrast of vertically adjacent pixels. Used for horizontal line detection. \n",
    "9. hedge-sd: (see 8). \n",
    "10. intensity-mean: the average over the region of (R + G + B)/3 \n",
    "11. rawred-mean: the average over the region of the R value. \n",
    "12. rawblue-mean: the average over the region of the B value. \n",
    "13. rawgreen-mean: the average over the region of the G value. \n",
    "14. exred-mean: measure the excess red: (2R - (G + B)) \n",
    "15. exblue-mean: measure the excess blue: (2B - (G + R)) \n",
    "16. exgreen-mean: measure the excess green: (2G - (R + B)) \n",
    "17. value-mean: 3-d nonlinear transformation of RGB. (Algorithm can be found in Foley and VanDam, Fundamentals of Interactive Computer Graphics) \n",
    "18. saturatoin-mean: (see 17) \n",
    "19. hue-mean: (see 17) \n",
    "\n",
    "#### Classes: \n",
    "1. brickface, \n",
    "2. sky, \n",
    "3. foliage, \n",
    "4. cement, \n",
    "5. window, \n",
    "6. path, \n",
    "7. grass. "
   ]
  },
  {
   "cell_type": "markdown",
   "metadata": {},
   "source": [
    "# Contents Navigation\n",
    "<ul>\n",
    "    <li><a href=\"#Data-Load\">Data Load</a></li>\n",
    "    <li><a href=\"#Data-Preprocessing\">Data Preprocessing</a></li>\n",
    "    <li><a href=\"#Linear-Models\">Linear Models</a></li>\n",
    "    <li><a href=\"#SVM-with-non-linear-kernel\">SVM with non-linear kernel</a></li>\n",
    "    <li><a href=\"#KNN\">KNN</a></li>\n",
    "    <li><a href=\"#Random-Forest\">Random Forest</a></li>\n",
    "    <li><a href=\"#Neural-Network\">Neural Network</a></li>\n",
    "    <li><a href=\"#Summary\">Summary</a></li>\n",
    "</ul>"
   ]
  },
  {
   "cell_type": "code",
   "execution_count": 1,
   "metadata": {
    "collapsed": true
   },
   "outputs": [],
   "source": [
    "import pandas as pd"
   ]
  },
  {
   "cell_type": "markdown",
   "metadata": {},
   "source": [
    "## Data Load"
   ]
  },
  {
   "cell_type": "code",
   "execution_count": 2,
   "metadata": {
    "collapsed": true
   },
   "outputs": [],
   "source": [
    "column_names = [\n",
    "    'region-centroid-col', \n",
    "    'region-centroid-row', \n",
    "    'region-pixel-count',\n",
    "    'short-line-density-5',\n",
    "    'short-line-density-2',\n",
    "    'vedge-mean',\n",
    "    'vegde-sd',\n",
    "    'hedge-mean',\n",
    "    'hedge-sd',\n",
    "    'intensity-mean',\n",
    "    'rawred-mean',\n",
    "    'rawblue-mean',\n",
    "    'rawgreen-mean',\n",
    "    'exred-mean',\n",
    "    'exblue-mean',\n",
    "    'exgreen-mean',\n",
    "    'value-mean',\n",
    "    'saturatoin-mean',\n",
    "    'hue-mean',\n",
    "    'classes',\n",
    "]\n",
    "# try to load data from local path\n",
    "# if error occurred then trying to load data from UCI repo\n",
    "try:\n",
    "    df = pd.read_csv('data/segment.dat', sep='\\s+', names=column_names)\n",
    "except IOError:\n",
    "    import urllib\n",
    "    \n",
    "    url = \"https://archive.ics.uci.edu/ml/machine-learning-databases/statlog/segment/segment.dat\"\n",
    "    raw_data = urllib.urlopen(url)\n",
    "    df = pd.read_csv(raw_data, names=column_names)"
   ]
  },
  {
   "cell_type": "code",
   "execution_count": 3,
   "metadata": {
    "collapsed": false
   },
   "outputs": [
    {
     "data": {
      "text/plain": [
       "((2310, 19), (2310,))"
      ]
     },
     "execution_count": 3,
     "metadata": {},
     "output_type": "execute_result"
    }
   ],
   "source": [
    "X = df.ix[:,:19]\n",
    "y = df.ix[:,19]\n",
    "X.shape, y.shape"
   ]
  },
  {
   "cell_type": "markdown",
   "metadata": {},
   "source": [
    "## Data Preprocessing"
   ]
  },
  {
   "cell_type": "code",
   "execution_count": 4,
   "metadata": {
    "collapsed": false
   },
   "outputs": [],
   "source": [
    "from sklearn import preprocessing, cross_validation"
   ]
  },
  {
   "cell_type": "code",
   "execution_count": 5,
   "metadata": {
    "collapsed": false
   },
   "outputs": [
    {
     "data": {
      "text/plain": [
       "((2310, 19), (2310, 7))"
      ]
     },
     "execution_count": 5,
     "metadata": {},
     "output_type": "execute_result"
    }
   ],
   "source": [
    "# preprocess continuous data\n",
    "X_encoded = preprocessing.scale(X) # standardize of data, set zero mean and unit variance\n",
    "\n",
    "# preprocess categorical data\n",
    "encoder = preprocessing.OneHotEncoder()\n",
    "y_encoded = encoder.fit_transform(y.values.reshape(-1,1)) # one-hot encoding\n",
    "\n",
    "X_encoded.shape, y_encoded.shape"
   ]
  },
  {
   "cell_type": "markdown",
   "metadata": {},
   "source": [
    "### split data to train/test samples"
   ]
  },
  {
   "cell_type": "code",
   "execution_count": 6,
   "metadata": {
    "collapsed": true
   },
   "outputs": [],
   "source": [
    "# fix random seed for reproducibility\n",
    "seed = 10"
   ]
  },
  {
   "cell_type": "code",
   "execution_count": 7,
   "metadata": {
    "collapsed": false
   },
   "outputs": [
    {
     "data": {
      "text/plain": [
       "((1617, 19), (693, 19), (1617,), (693,))"
      ]
     },
     "execution_count": 7,
     "metadata": {},
     "output_type": "execute_result"
    }
   ],
   "source": [
    "# split to train / test samples\n",
    "X_train, X_test, y_train, y_test = cross_validation.train_test_split(\n",
    "    X, y, test_size=0.3, random_state=seed)\n",
    "\n",
    "X_train.shape, X_test.shape, y_train.shape, y_test.shape"
   ]
  },
  {
   "cell_type": "code",
   "execution_count": 8,
   "metadata": {
    "collapsed": false
   },
   "outputs": [
    {
     "data": {
      "text/plain": [
       "((1617, 19), (693, 19), (1617, 7), (693, 7))"
      ]
     },
     "execution_count": 8,
     "metadata": {},
     "output_type": "execute_result"
    }
   ],
   "source": [
    "X_train_encoded, X_test_encoded, y_train_encoded, y_test_encoded = cross_validation.train_test_split(\n",
    "    X_encoded, y_encoded, test_size=0.3, random_state=seed)\n",
    "\n",
    "X_train_encoded.shape, X_test_encoded.shape, y_train_encoded.shape, y_test_encoded.shape"
   ]
  },
  {
   "cell_type": "markdown",
   "metadata": {},
   "source": [
    "## Linear Models"
   ]
  },
  {
   "cell_type": "code",
   "execution_count": 9,
   "metadata": {
    "collapsed": true
   },
   "outputs": [],
   "source": [
    "from sklearn import grid_search, linear_model"
   ]
  },
  {
   "cell_type": "code",
   "execution_count": 10,
   "metadata": {
    "collapsed": true
   },
   "outputs": [],
   "source": [
    "# let's select most accurate linear model using grid search\n",
    "cv = cross_validation.StratifiedShuffleSplit(y_train, n_iter=5, test_size=0.2, random_state=seed)\n",
    "\n",
    "parameters = {'loss':['hinge', 'log', 'modified_huber', 'squared_hinge', 'perceptron'],\n",
    "              'penalty':['l2', 'l1', 'elasticnet']}\n",
    "\n",
    "sgd = linear_model.SGDClassifier(random_state=seed)"
   ]
  },
  {
   "cell_type": "markdown",
   "metadata": {},
   "source": [
    "### with raw data"
   ]
  },
  {
   "cell_type": "code",
   "execution_count": 11,
   "metadata": {
    "collapsed": true
   },
   "outputs": [],
   "source": [
    "grid = grid_search.GridSearchCV(\n",
    "    sgd, parameters, scoring='accuracy', cv=cv).fit(X_train, y_train)"
   ]
  },
  {
   "cell_type": "code",
   "execution_count": 13,
   "metadata": {
    "collapsed": false
   },
   "outputs": [
    {
     "name": "stdout",
     "output_type": "stream",
     "text": [
      "Best training score: 0.804347826087\n",
      "Best linear model params: {'penalty': 'l1', 'loss': 'log'}\n",
      "Accuracy score on test data: 0.777777777778\n"
     ]
    }
   ],
   "source": [
    "print 'Best training score: {}'.format(grid.best_score_)\n",
    "print 'Best linear model params: {}'.format(grid.best_params_)\n",
    "\n",
    "linear_score = grid.score(X_test, y_test)\n",
    "print 'Accuracy score on test data: {}'.format(linear_score)"
   ]
  },
  {
   "cell_type": "markdown",
   "metadata": {},
   "source": [
    "### with encoded data"
   ]
  },
  {
   "cell_type": "code",
   "execution_count": 14,
   "metadata": {
    "collapsed": true
   },
   "outputs": [],
   "source": [
    "grid2 = grid_search.GridSearchCV(\n",
    "    sgd, parameters, scoring='accuracy', cv=cv).fit(X_train_encoded, y_train)"
   ]
  },
  {
   "cell_type": "code",
   "execution_count": 15,
   "metadata": {
    "collapsed": false
   },
   "outputs": [
    {
     "name": "stdout",
     "output_type": "stream",
     "text": [
      "Best training score: 0.91801242236\n",
      "Best linear model params: {'penalty': 'l1', 'loss': 'log'}\n",
      "Accuracy score on test data: 0.901875901876\n"
     ]
    }
   ],
   "source": [
    "print 'Best training score: {}'.format(grid2.best_score_)\n",
    "print 'Best linear model params: {}'.format(grid2.best_params_)\n",
    "\n",
    "linear_score2 = grid2.score(X_test_encoded, y_test)\n",
    "print 'Accuracy score on test data: {}'.format(linear_score2)"
   ]
  },
  {
   "cell_type": "markdown",
   "metadata": {},
   "source": [
    "## SVM with non-linear kernel"
   ]
  },
  {
   "cell_type": "code",
   "execution_count": 16,
   "metadata": {
    "collapsed": true
   },
   "outputs": [],
   "source": [
    "from sklearn import svm"
   ]
  },
  {
   "cell_type": "code",
   "execution_count": 17,
   "metadata": {
    "collapsed": true
   },
   "outputs": [],
   "source": [
    "# we ignore linear svm because it implemented in SGDClassifier with loss='hinge'\n",
    "parameters = {'kernel':('rbf', 'poly', 'sigmoid')}"
   ]
  },
  {
   "cell_type": "markdown",
   "metadata": {},
   "source": [
    "### with raw data"
   ]
  },
  {
   "cell_type": "code",
   "execution_count": 18,
   "metadata": {
    "collapsed": true
   },
   "outputs": [],
   "source": [
    "svm_clf = grid_search.GridSearchCV(\n",
    "    svm.SVC(), parameters, scoring='accuracy', cv=cv).fit(X_train, y_train)"
   ]
  },
  {
   "cell_type": "code",
   "execution_count": 19,
   "metadata": {
    "collapsed": false
   },
   "outputs": [
    {
     "name": "stdout",
     "output_type": "stream",
     "text": [
      "Best training score: 0.963354037267\n",
      "Best linear model params: {'kernel': 'poly'}\n",
      "Accuracy score on test data: 0.962481962482\n"
     ]
    }
   ],
   "source": [
    "print 'Best training score: {}'.format(svm_clf.best_score_)\n",
    "print 'Best linear model params: {}'.format(svm_clf.best_params_)\n",
    "\n",
    "svm_score = svm_clf.score(X_test, y_test)\n",
    "print 'Accuracy score on test data: {}'.format(svm_score)"
   ]
  },
  {
   "cell_type": "markdown",
   "metadata": {},
   "source": [
    "### with encoded data"
   ]
  },
  {
   "cell_type": "code",
   "execution_count": 20,
   "metadata": {
    "collapsed": false
   },
   "outputs": [],
   "source": [
    "svm_clf2 = grid_search.GridSearchCV(\n",
    "    svm.SVC(), parameters, scoring='accuracy', cv=cv).fit(X_train_encoded, y_train)"
   ]
  },
  {
   "cell_type": "code",
   "execution_count": 21,
   "metadata": {
    "collapsed": false
   },
   "outputs": [
    {
     "name": "stdout",
     "output_type": "stream",
     "text": [
      "Best training score: 0.93850931677\n",
      "Best linear model params: {'kernel': 'rbf'}\n",
      "Accuracy score on test data: 0.929292929293\n"
     ]
    }
   ],
   "source": [
    "print 'Best training score: {}'.format(svm_clf2.best_score_)\n",
    "print 'Best linear model params: {}'.format(svm_clf2.best_params_)\n",
    "\n",
    "svm_score2 = svm_clf2.score(X_test_encoded, y_test)\n",
    "print 'Accuracy score on test data: {}'.format(svm_score2)"
   ]
  },
  {
   "cell_type": "markdown",
   "metadata": {},
   "source": [
    "## KNN"
   ]
  },
  {
   "cell_type": "code",
   "execution_count": 22,
   "metadata": {
    "collapsed": true
   },
   "outputs": [],
   "source": [
    "from sklearn import neighbors"
   ]
  },
  {
   "cell_type": "markdown",
   "metadata": {},
   "source": [
    "### with raw data"
   ]
  },
  {
   "cell_type": "code",
   "execution_count": 23,
   "metadata": {
    "collapsed": true
   },
   "outputs": [],
   "source": [
    "knn = neighbors.KNeighborsClassifier(n_neighbors=2, \n",
    "    algorithm='ball_tree').fit(X_train, y_train)"
   ]
  },
  {
   "cell_type": "code",
   "execution_count": 24,
   "metadata": {
    "collapsed": false
   },
   "outputs": [
    {
     "name": "stdout",
     "output_type": "stream",
     "text": [
      "Accuracy score on test data: 0.939393939394\n"
     ]
    }
   ],
   "source": [
    "knn_score = knn.score(X_test, y_test)\n",
    "print 'Accuracy score on test data: {}'.format(knn_score)"
   ]
  },
  {
   "cell_type": "markdown",
   "metadata": {},
   "source": [
    "### with encoded data"
   ]
  },
  {
   "cell_type": "code",
   "execution_count": 25,
   "metadata": {
    "collapsed": true
   },
   "outputs": [],
   "source": [
    "knn2 = neighbors.KNeighborsClassifier(n_neighbors=2, \n",
    "    algorithm='ball_tree').fit(X_train_encoded, y_train)"
   ]
  },
  {
   "cell_type": "code",
   "execution_count": 26,
   "metadata": {
    "collapsed": false
   },
   "outputs": [
    {
     "name": "stdout",
     "output_type": "stream",
     "text": [
      "Accuracy score on test data: 0.943722943723\n"
     ]
    }
   ],
   "source": [
    "knn_score2 = knn2.score(X_test_encoded, y_test)\n",
    "print 'Accuracy score on test data: {}'.format(knn_score2)"
   ]
  },
  {
   "cell_type": "markdown",
   "metadata": {},
   "source": [
    "## Random Forest"
   ]
  },
  {
   "cell_type": "code",
   "execution_count": 27,
   "metadata": {
    "collapsed": true
   },
   "outputs": [],
   "source": [
    "from sklearn import ensemble"
   ]
  },
  {
   "cell_type": "markdown",
   "metadata": {},
   "source": [
    "### with raw data"
   ]
  },
  {
   "cell_type": "code",
   "execution_count": 28,
   "metadata": {
    "collapsed": true
   },
   "outputs": [],
   "source": [
    "tree = ensemble.RandomForestClassifier(\n",
    "    n_estimators=60, criterion='entropy', max_depth=10, random_state=seed).fit(X_train, y_train)"
   ]
  },
  {
   "cell_type": "code",
   "execution_count": 29,
   "metadata": {
    "collapsed": false
   },
   "outputs": [
    {
     "name": "stdout",
     "output_type": "stream",
     "text": [
      "Accuracy score on test data: 0.972582972583\n"
     ]
    }
   ],
   "source": [
    "tree_score = tree.score(X_test, y_test)\n",
    "print 'Accuracy score on test data: {}'.format(tree_score)"
   ]
  },
  {
   "cell_type": "markdown",
   "metadata": {},
   "source": [
    "### with encoded data"
   ]
  },
  {
   "cell_type": "code",
   "execution_count": 30,
   "metadata": {
    "collapsed": true
   },
   "outputs": [],
   "source": [
    "tree2 = ensemble.RandomForestClassifier(\n",
    "    n_estimators=60, criterion='entropy', max_depth=10, random_state=seed).fit(X_train_encoded, y_train)"
   ]
  },
  {
   "cell_type": "code",
   "execution_count": 31,
   "metadata": {
    "collapsed": false
   },
   "outputs": [
    {
     "name": "stdout",
     "output_type": "stream",
     "text": [
      "Accuracy score on test data: 0.974025974026\n"
     ]
    }
   ],
   "source": [
    "tree_score2 = tree2.score(X_test_encoded, y_test)\n",
    "print 'Accuracy score on test data: {}'.format(tree_score2)"
   ]
  },
  {
   "cell_type": "markdown",
   "metadata": {},
   "source": [
    "## Neural Network"
   ]
  },
  {
   "cell_type": "code",
   "execution_count": 32,
   "metadata": {
    "collapsed": false
   },
   "outputs": [
    {
     "name": "stderr",
     "output_type": "stream",
     "text": [
      "Using TensorFlow backend.\n"
     ]
    }
   ],
   "source": [
    "from keras.models import Sequential\n",
    "from keras.layers import Dense, Dropout"
   ]
  },
  {
   "cell_type": "code",
   "execution_count": 33,
   "metadata": {
    "collapsed": true
   },
   "outputs": [],
   "source": [
    "# to avoid AttributeError: 'module' object has no attribute 'control_flow_ops'\n",
    "# https://github.com/fchollet/keras/issues/3857#issuecomment-255156966\n",
    "import tensorflow\n",
    "from tensorflow.python.ops import control_flow_ops\n",
    "tensorflow.python.control_flow_ops = control_flow_ops"
   ]
  },
  {
   "cell_type": "code",
   "execution_count": 34,
   "metadata": {
    "collapsed": true
   },
   "outputs": [],
   "source": [
    "batch_size = 100\n",
    "epochs = 300"
   ]
  },
  {
   "cell_type": "code",
   "execution_count": 35,
   "metadata": {
    "collapsed": false
   },
   "outputs": [],
   "source": [
    "# we apply diamond shape of network based on arguments contained \n",
    "# in unit 4.4. of this paper https://arxiv.org/pdf/1601.02376.pdf\n",
    "model = Sequential()\n",
    "model.add(Dense(38, activation='relu', input_dim=X_train.shape[1]))\n",
    "model.add(Dropout(0.2))\n",
    "model.add(Dense(38*2, activation='relu'))\n",
    "model.add(Dropout(0.2))\n",
    "model.add(Dense(38, activation='relu'))\n",
    "model.add(Dropout(0.2))\n",
    "model.add(Dense(7,activation='softmax'))\n",
    "model.compile(loss='categorical_crossentropy', optimizer='adam', metrics=['accuracy'])"
   ]
  },
  {
   "cell_type": "markdown",
   "metadata": {},
   "source": [
    "### with raw data"
   ]
  },
  {
   "cell_type": "code",
   "execution_count": 36,
   "metadata": {
    "collapsed": false,
    "scrolled": true
   },
   "outputs": [
    {
     "name": "stdout",
     "output_type": "stream",
     "text": [
      "Epoch 1/300\n",
      "1617/1617 [==============================] - 0s - loss: 11.5452 - acc: 0.1775     \n",
      "Epoch 2/300\n",
      "1617/1617 [==============================] - 0s - loss: 9.7024 - acc: 0.2294     \n",
      "Epoch 3/300\n",
      "1617/1617 [==============================] - 0s - loss: 8.4000 - acc: 0.3006     \n",
      "Epoch 4/300\n",
      "1617/1617 [==============================] - 0s - loss: 7.3451 - acc: 0.2962     \n",
      "Epoch 5/300\n",
      "1617/1617 [==============================] - 0s - loss: 5.9415 - acc: 0.3315     \n",
      "Epoch 6/300\n",
      "1617/1617 [==============================] - 0s - loss: 4.5009 - acc: 0.3259     \n",
      "Epoch 7/300\n",
      "1617/1617 [==============================] - 0s - loss: 3.2806 - acc: 0.3383     \n",
      "Epoch 8/300\n",
      "1617/1617 [==============================] - 0s - loss: 2.3329 - acc: 0.3500     \n",
      "Epoch 9/300\n",
      "1617/1617 [==============================] - 0s - loss: 2.2292 - acc: 0.3228     \n",
      "Epoch 10/300\n",
      "1617/1617 [==============================] - 0s - loss: 1.9823 - acc: 0.3346     \n",
      "Epoch 11/300\n",
      "1617/1617 [==============================] - 0s - loss: 1.8290 - acc: 0.3333     \n",
      "Epoch 12/300\n",
      "1617/1617 [==============================] - 0s - loss: 1.7468 - acc: 0.3414     \n",
      "Epoch 13/300\n",
      "1617/1617 [==============================] - 0s - loss: 1.7720 - acc: 0.3469     \n",
      "Epoch 14/300\n",
      "1617/1617 [==============================] - 0s - loss: 1.6970 - acc: 0.3389     \n",
      "Epoch 15/300\n",
      "1617/1617 [==============================] - 0s - loss: 1.6777 - acc: 0.3506     \n",
      "Epoch 16/300\n",
      "1617/1617 [==============================] - 0s - loss: 1.6876 - acc: 0.3432     \n",
      "Epoch 17/300\n",
      "1617/1617 [==============================] - 0s - loss: 1.6273 - acc: 0.3445     \n",
      "Epoch 18/300\n",
      "1617/1617 [==============================] - 0s - loss: 1.5661 - acc: 0.3649     \n",
      "Epoch 19/300\n",
      "1617/1617 [==============================] - 0s - loss: 1.5712 - acc: 0.3834     \n",
      "Epoch 20/300\n",
      "1617/1617 [==============================] - 0s - loss: 1.5151 - acc: 0.3983     \n",
      "Epoch 21/300\n",
      "1617/1617 [==============================] - 0s - loss: 1.5187 - acc: 0.3921     \n",
      "Epoch 22/300\n",
      "1617/1617 [==============================] - 0s - loss: 1.4574 - acc: 0.4069     \n",
      "Epoch 23/300\n",
      "1617/1617 [==============================] - 0s - loss: 1.4442 - acc: 0.4193     \n",
      "Epoch 24/300\n",
      "1617/1617 [==============================] - 0s - loss: 1.4608 - acc: 0.4113     \n",
      "Epoch 25/300\n",
      "1617/1617 [==============================] - 0s - loss: 1.4179 - acc: 0.4348     \n",
      "Epoch 26/300\n",
      "1617/1617 [==============================] - 0s - loss: 1.4219 - acc: 0.4490     \n",
      "Epoch 27/300\n",
      "1617/1617 [==============================] - 0s - loss: 1.3777 - acc: 0.4372     \n",
      "Epoch 28/300\n",
      "1617/1617 [==============================] - 0s - loss: 1.3159 - acc: 0.4564     \n",
      "Epoch 29/300\n",
      "1617/1617 [==============================] - 0s - loss: 1.3217 - acc: 0.4583     \n",
      "Epoch 30/300\n",
      "1617/1617 [==============================] - 0s - loss: 1.3203 - acc: 0.4564     \n",
      "Epoch 31/300\n",
      "1617/1617 [==============================] - 0s - loss: 1.2860 - acc: 0.4440     \n",
      "Epoch 32/300\n",
      "1617/1617 [==============================] - 0s - loss: 1.2600 - acc: 0.4589     \n",
      "Epoch 33/300\n",
      "1617/1617 [==============================] - 0s - loss: 1.2369 - acc: 0.4750     \n",
      "Epoch 34/300\n",
      "1617/1617 [==============================] - 0s - loss: 1.2406 - acc: 0.4731     \n",
      "Epoch 35/300\n",
      "1617/1617 [==============================] - 0s - loss: 1.2051 - acc: 0.4886     \n",
      "Epoch 36/300\n",
      "1617/1617 [==============================] - 0s - loss: 1.2033 - acc: 0.4991     \n",
      "Epoch 37/300\n",
      "1617/1617 [==============================] - 0s - loss: 1.1862 - acc: 0.4848     \n",
      "Epoch 38/300\n",
      "1617/1617 [==============================] - 0s - loss: 1.1483 - acc: 0.5065     \n",
      "Epoch 39/300\n",
      "1617/1617 [==============================] - 0s - loss: 1.1433 - acc: 0.5108     \n",
      "Epoch 40/300\n",
      "1617/1617 [==============================] - 0s - loss: 1.1074 - acc: 0.5244     \n",
      "Epoch 41/300\n",
      "1617/1617 [==============================] - 0s - loss: 1.1120 - acc: 0.5312     \n",
      "Epoch 42/300\n",
      "1617/1617 [==============================] - 0s - loss: 1.0893 - acc: 0.5417     \n",
      "Epoch 43/300\n",
      "1617/1617 [==============================] - 0s - loss: 1.0856 - acc: 0.5405     \n",
      "Epoch 44/300\n",
      "1617/1617 [==============================] - 0s - loss: 1.0680 - acc: 0.5572     \n",
      "Epoch 45/300\n",
      "1617/1617 [==============================] - 0s - loss: 1.0847 - acc: 0.5442     \n",
      "Epoch 46/300\n",
      "1617/1617 [==============================] - 0s - loss: 1.0267 - acc: 0.5659     \n",
      "Epoch 47/300\n",
      "1617/1617 [==============================] - 0s - loss: 1.0204 - acc: 0.5652     \n",
      "Epoch 48/300\n",
      "1617/1617 [==============================] - 0s - loss: 0.9985 - acc: 0.6017     \n",
      "Epoch 49/300\n",
      "1617/1617 [==============================] - 0s - loss: 0.9908 - acc: 0.5844     \n",
      "Epoch 50/300\n",
      "1617/1617 [==============================] - 0s - loss: 0.9614 - acc: 0.5974     \n",
      "Epoch 51/300\n",
      "1617/1617 [==============================] - 0s - loss: 0.9422 - acc: 0.6092     \n",
      "Epoch 52/300\n",
      "1617/1617 [==============================] - 0s - loss: 0.9483 - acc: 0.6184     \n",
      "Epoch 53/300\n",
      "1617/1617 [==============================] - 0s - loss: 0.9101 - acc: 0.6166     \n",
      "Epoch 54/300\n",
      "1617/1617 [==============================] - 0s - loss: 0.9307 - acc: 0.6357     \n",
      "Epoch 55/300\n",
      "1617/1617 [==============================] - 0s - loss: 0.8690 - acc: 0.6388     \n",
      "Epoch 56/300\n",
      "1617/1617 [==============================] - 0s - loss: 0.8596 - acc: 0.6549     \n",
      "Epoch 57/300\n",
      "1617/1617 [==============================] - 0s - loss: 0.8399 - acc: 0.6592     \n",
      "Epoch 58/300\n",
      "1617/1617 [==============================] - 0s - loss: 0.8300 - acc: 0.6543     \n",
      "Epoch 59/300\n",
      "1617/1617 [==============================] - 0s - loss: 0.7995 - acc: 0.6729     \n",
      "Epoch 60/300\n",
      "1617/1617 [==============================] - 0s - loss: 0.8164 - acc: 0.6636     \n",
      "Epoch 61/300\n",
      "1617/1617 [==============================] - 0s - loss: 0.7926 - acc: 0.6821     \n",
      "Epoch 62/300\n",
      "1617/1617 [==============================] - 0s - loss: 0.7683 - acc: 0.7007     \n",
      "Epoch 63/300\n",
      "1617/1617 [==============================] - 0s - loss: 0.7540 - acc: 0.7019     \n",
      "Epoch 64/300\n",
      "1617/1617 [==============================] - 0s - loss: 0.7343 - acc: 0.7032     \n",
      "Epoch 65/300\n",
      "1617/1617 [==============================] - 0s - loss: 0.7319 - acc: 0.7056     \n",
      "Epoch 66/300\n",
      "1617/1617 [==============================] - 0s - loss: 0.7111 - acc: 0.6976     \n",
      "Epoch 67/300\n",
      "1617/1617 [==============================] - 0s - loss: 0.6903 - acc: 0.7192     \n",
      "Epoch 68/300\n",
      "1617/1617 [==============================] - 0s - loss: 0.6876 - acc: 0.7242     \n",
      "Epoch 69/300\n",
      "1617/1617 [==============================] - 0s - loss: 0.7091 - acc: 0.7069     \n",
      "Epoch 70/300\n",
      "1617/1617 [==============================] - 0s - loss: 0.6559 - acc: 0.7384     \n",
      "Epoch 71/300\n",
      "1617/1617 [==============================] - 0s - loss: 0.6886 - acc: 0.7390     \n",
      "Epoch 72/300\n",
      "1617/1617 [==============================] - 0s - loss: 0.6428 - acc: 0.7427     \n",
      "Epoch 73/300\n",
      "1617/1617 [==============================] - 0s - loss: 0.6370 - acc: 0.7514     \n",
      "Epoch 74/300\n",
      "1617/1617 [==============================] - 0s - loss: 0.6054 - acc: 0.7588     \n",
      "Epoch 75/300\n",
      "1617/1617 [==============================] - 0s - loss: 0.6258 - acc: 0.7483     \n",
      "Epoch 76/300\n",
      "1617/1617 [==============================] - 0s - loss: 0.6162 - acc: 0.7434     \n",
      "Epoch 77/300\n",
      "1617/1617 [==============================] - 0s - loss: 0.6241 - acc: 0.7514     \n",
      "Epoch 78/300\n",
      "1617/1617 [==============================] - 0s - loss: 0.5856 - acc: 0.7650     \n",
      "Epoch 79/300\n",
      "1617/1617 [==============================] - 0s - loss: 0.5952 - acc: 0.7767     \n",
      "Epoch 80/300\n",
      "1617/1617 [==============================] - 0s - loss: 0.5793 - acc: 0.7675     \n",
      "Epoch 81/300\n",
      "1617/1617 [==============================] - 0s - loss: 0.5548 - acc: 0.7792     \n",
      "Epoch 82/300\n",
      "1617/1617 [==============================] - 0s - loss: 0.5570 - acc: 0.7811     \n",
      "Epoch 83/300\n",
      "1617/1617 [==============================] - 0s - loss: 0.5368 - acc: 0.7904     \n",
      "Epoch 84/300\n",
      "1617/1617 [==============================] - 0s - loss: 0.5086 - acc: 0.7922     \n",
      "Epoch 85/300\n",
      "1617/1617 [==============================] - 0s - loss: 0.5143 - acc: 0.7904     \n",
      "Epoch 86/300\n",
      "1617/1617 [==============================] - 0s - loss: 0.5105 - acc: 0.8077     \n",
      "Epoch 87/300\n",
      "1617/1617 [==============================] - 0s - loss: 0.5064 - acc: 0.8040     \n",
      "Epoch 88/300\n",
      "1617/1617 [==============================] - 0s - loss: 0.5131 - acc: 0.7990     \n",
      "Epoch 89/300\n",
      "1617/1617 [==============================] - 0s - loss: 0.4884 - acc: 0.8095     \n",
      "Epoch 90/300\n",
      "1617/1617 [==============================] - 0s - loss: 0.4640 - acc: 0.8071     \n",
      "Epoch 91/300\n",
      "1617/1617 [==============================] - 0s - loss: 0.4604 - acc: 0.8225     \n",
      "Epoch 92/300\n",
      "1617/1617 [==============================] - 0s - loss: 0.4629 - acc: 0.8256     \n",
      "Epoch 93/300\n",
      "1617/1617 [==============================] - 0s - loss: 0.4627 - acc: 0.8132     \n",
      "Epoch 94/300\n",
      "1617/1617 [==============================] - 0s - loss: 0.4521 - acc: 0.8151     \n",
      "Epoch 95/300\n",
      "1617/1617 [==============================] - 0s - loss: 0.4567 - acc: 0.8169     \n",
      "Epoch 96/300\n",
      "1617/1617 [==============================] - 0s - loss: 0.4691 - acc: 0.8244     \n",
      "Epoch 97/300\n",
      "1617/1617 [==============================] - 0s - loss: 0.4374 - acc: 0.8281     \n",
      "Epoch 98/300\n",
      "1617/1617 [==============================] - 0s - loss: 0.4504 - acc: 0.8237     \n",
      "Epoch 99/300\n",
      "1617/1617 [==============================] - 0s - loss: 0.4340 - acc: 0.8237     \n",
      "Epoch 100/300\n",
      "1617/1617 [==============================] - 0s - loss: 0.4080 - acc: 0.8361     \n",
      "Epoch 101/300\n",
      "1617/1617 [==============================] - 0s - loss: 0.3912 - acc: 0.8417     \n",
      "Epoch 102/300\n",
      "1617/1617 [==============================] - 0s - loss: 0.4035 - acc: 0.8367     \n",
      "Epoch 103/300\n",
      "1617/1617 [==============================] - 0s - loss: 0.4220 - acc: 0.8380     \n",
      "Epoch 104/300\n",
      "1617/1617 [==============================] - 0s - loss: 0.4037 - acc: 0.8275     \n",
      "Epoch 105/300\n",
      "1617/1617 [==============================] - 0s - loss: 0.4097 - acc: 0.8330     \n",
      "Epoch 106/300\n",
      "1617/1617 [==============================] - 0s - loss: 0.3807 - acc: 0.8386     \n",
      "Epoch 107/300\n",
      "1617/1617 [==============================] - 0s - loss: 0.3939 - acc: 0.8355     \n",
      "Epoch 108/300\n",
      "1617/1617 [==============================] - 0s - loss: 0.4003 - acc: 0.8380     \n",
      "Epoch 109/300\n",
      "1617/1617 [==============================] - 0s - loss: 0.3729 - acc: 0.8460     \n",
      "Epoch 110/300\n",
      "1617/1617 [==============================] - 0s - loss: 0.3835 - acc: 0.8454     \n",
      "Epoch 111/300\n",
      "1617/1617 [==============================] - 0s - loss: 0.4045 - acc: 0.8343     \n",
      "Epoch 112/300\n",
      "1617/1617 [==============================] - 0s - loss: 0.3706 - acc: 0.8417     \n",
      "Epoch 113/300\n",
      "1617/1617 [==============================] - 0s - loss: 0.4054 - acc: 0.8361     \n",
      "Epoch 114/300\n",
      "1617/1617 [==============================] - 0s - loss: 0.3596 - acc: 0.8411     \n",
      "Epoch 115/300\n",
      "1617/1617 [==============================] - 0s - loss: 0.3745 - acc: 0.8491     \n",
      "Epoch 116/300\n",
      "1617/1617 [==============================] - 0s - loss: 0.3953 - acc: 0.8466     \n",
      "Epoch 117/300\n",
      "1617/1617 [==============================] - 0s - loss: 0.3709 - acc: 0.8466     \n",
      "Epoch 118/300\n",
      "1617/1617 [==============================] - 0s - loss: 0.3610 - acc: 0.8578     \n",
      "Epoch 119/300\n",
      "1617/1617 [==============================] - 0s - loss: 0.3525 - acc: 0.8547     \n",
      "Epoch 120/300\n",
      "1617/1617 [==============================] - 0s - loss: 0.3521 - acc: 0.8571     \n",
      "Epoch 121/300\n",
      "1617/1617 [==============================] - 0s - loss: 0.3504 - acc: 0.8639     \n",
      "Epoch 122/300\n",
      "1617/1617 [==============================] - 0s - loss: 0.3481 - acc: 0.8602     \n",
      "Epoch 123/300\n",
      "1617/1617 [==============================] - 0s - loss: 0.3506 - acc: 0.8590     \n",
      "Epoch 124/300\n",
      "1617/1617 [==============================] - 0s - loss: 0.3399 - acc: 0.8677     \n",
      "Epoch 125/300\n",
      "1617/1617 [==============================] - 0s - loss: 0.3516 - acc: 0.8497     \n",
      "Epoch 126/300\n",
      "1617/1617 [==============================] - 0s - loss: 0.3297 - acc: 0.8732     \n",
      "Epoch 127/300\n",
      "1617/1617 [==============================] - 0s - loss: 0.3364 - acc: 0.8670     \n",
      "Epoch 128/300\n",
      "1617/1617 [==============================] - 0s - loss: 0.3380 - acc: 0.8683     \n",
      "Epoch 129/300\n",
      "1617/1617 [==============================] - 0s - loss: 0.3337 - acc: 0.8584     \n",
      "Epoch 130/300\n",
      "1617/1617 [==============================] - 0s - loss: 0.3251 - acc: 0.8806     \n",
      "Epoch 131/300\n",
      "1617/1617 [==============================] - 0s - loss: 0.3020 - acc: 0.8726     \n",
      "Epoch 132/300\n",
      "1617/1617 [==============================] - 0s - loss: 0.3212 - acc: 0.8639     \n",
      "Epoch 133/300\n",
      "1617/1617 [==============================] - 0s - loss: 0.3243 - acc: 0.8670     \n",
      "Epoch 134/300\n",
      "1617/1617 [==============================] - 0s - loss: 0.3229 - acc: 0.8732     \n",
      "Epoch 135/300\n",
      "1617/1617 [==============================] - 0s - loss: 0.3105 - acc: 0.8738     \n",
      "Epoch 136/300\n",
      "1617/1617 [==============================] - 0s - loss: 0.3078 - acc: 0.8757     \n",
      "Epoch 137/300\n",
      "1617/1617 [==============================] - 0s - loss: 0.3070 - acc: 0.8751     \n",
      "Epoch 138/300\n",
      "1617/1617 [==============================] - 0s - loss: 0.2937 - acc: 0.8751     \n",
      "Epoch 139/300\n",
      "1617/1617 [==============================] - 0s - loss: 0.2933 - acc: 0.8800     \n",
      "Epoch 140/300\n",
      "1617/1617 [==============================] - 0s - loss: 0.3090 - acc: 0.8769     \n",
      "Epoch 141/300\n",
      "1617/1617 [==============================] - 0s - loss: 0.3151 - acc: 0.8782     \n",
      "Epoch 142/300\n",
      "1617/1617 [==============================] - 0s - loss: 0.2812 - acc: 0.8813     \n",
      "Epoch 143/300\n",
      "1617/1617 [==============================] - 0s - loss: 0.2918 - acc: 0.8819     \n",
      "Epoch 144/300\n",
      "1617/1617 [==============================] - 0s - loss: 0.2837 - acc: 0.8868     \n",
      "Epoch 145/300\n",
      "1617/1617 [==============================] - 0s - loss: 0.2898 - acc: 0.8881     \n",
      "Epoch 146/300\n",
      "1617/1617 [==============================] - 0s - loss: 0.2674 - acc: 0.8893     \n",
      "Epoch 147/300\n",
      "1617/1617 [==============================] - 0s - loss: 0.2815 - acc: 0.8973     \n",
      "Epoch 148/300\n",
      "1617/1617 [==============================] - 0s - loss: 0.2916 - acc: 0.8967     \n",
      "Epoch 149/300\n",
      "1617/1617 [==============================] - 0s - loss: 0.2948 - acc: 0.8763     \n",
      "Epoch 150/300\n",
      "1617/1617 [==============================] - 0s - loss: 0.2676 - acc: 0.8881     \n",
      "Epoch 151/300\n",
      "1617/1617 [==============================] - 0s - loss: 0.2703 - acc: 0.8924     \n",
      "Epoch 152/300\n",
      "1617/1617 [==============================] - 0s - loss: 0.2692 - acc: 0.8893     \n",
      "Epoch 153/300\n",
      "1617/1617 [==============================] - 0s - loss: 0.2784 - acc: 0.9017     \n",
      "Epoch 154/300\n",
      "1617/1617 [==============================] - 0s - loss: 0.2661 - acc: 0.8961     \n",
      "Epoch 155/300\n",
      "1617/1617 [==============================] - 0s - loss: 0.2614 - acc: 0.8973     \n",
      "Epoch 156/300\n",
      "1617/1617 [==============================] - 0s - loss: 0.2705 - acc: 0.9011     \n",
      "Epoch 157/300\n",
      "1617/1617 [==============================] - 0s - loss: 0.2561 - acc: 0.8955     \n",
      "Epoch 158/300\n",
      "1617/1617 [==============================] - 0s - loss: 0.2764 - acc: 0.8918     \n",
      "Epoch 159/300\n",
      "1617/1617 [==============================] - 0s - loss: 0.2463 - acc: 0.9011     \n",
      "Epoch 160/300\n",
      "1617/1617 [==============================] - 0s - loss: 0.2611 - acc: 0.8936     \n",
      "Epoch 161/300\n",
      "1617/1617 [==============================] - 0s - loss: 0.2739 - acc: 0.8961     \n",
      "Epoch 162/300\n",
      "1617/1617 [==============================] - 0s - loss: 0.2525 - acc: 0.8955     \n",
      "Epoch 163/300\n",
      "1617/1617 [==============================] - 0s - loss: 0.2514 - acc: 0.9029     \n",
      "Epoch 164/300\n",
      "1617/1617 [==============================] - 0s - loss: 0.2373 - acc: 0.9072     \n",
      "Epoch 165/300\n",
      "1617/1617 [==============================] - 0s - loss: 0.2598 - acc: 0.8961     \n",
      "Epoch 166/300\n",
      "1617/1617 [==============================] - 0s - loss: 0.2501 - acc: 0.8992     \n",
      "Epoch 167/300\n",
      "1617/1617 [==============================] - 0s - loss: 0.2296 - acc: 0.9079     \n",
      "Epoch 168/300\n",
      "1617/1617 [==============================] - 0s - loss: 0.2262 - acc: 0.9128     \n",
      "Epoch 169/300\n",
      "1617/1617 [==============================] - 0s - loss: 0.2640 - acc: 0.8912     \n",
      "Epoch 170/300\n",
      "1617/1617 [==============================] - 0s - loss: 0.2502 - acc: 0.9035     \n",
      "Epoch 171/300\n",
      "1617/1617 [==============================] - 0s - loss: 0.2442 - acc: 0.9072     \n",
      "Epoch 172/300\n",
      "1617/1617 [==============================] - 0s - loss: 0.2417 - acc: 0.9060     \n",
      "Epoch 173/300\n",
      "1617/1617 [==============================] - 0s - loss: 0.2405 - acc: 0.9060     \n",
      "Epoch 174/300\n",
      "1617/1617 [==============================] - 0s - loss: 0.2395 - acc: 0.9085     \n",
      "Epoch 175/300\n",
      "1617/1617 [==============================] - 0s - loss: 0.2206 - acc: 0.9233     \n",
      "Epoch 176/300\n",
      "1617/1617 [==============================] - 0s - loss: 0.2182 - acc: 0.9153     \n",
      "Epoch 177/300\n",
      "1617/1617 [==============================] - 0s - loss: 0.2510 - acc: 0.8992     \n",
      "Epoch 178/300\n",
      "1617/1617 [==============================] - 0s - loss: 0.2400 - acc: 0.9054     \n",
      "Epoch 179/300\n",
      "1617/1617 [==============================] - 0s - loss: 0.2495 - acc: 0.9035     \n",
      "Epoch 180/300\n",
      "1617/1617 [==============================] - 0s - loss: 0.2564 - acc: 0.9011     \n",
      "Epoch 181/300\n",
      "1617/1617 [==============================] - 0s - loss: 0.2334 - acc: 0.9103     \n",
      "Epoch 182/300\n",
      "1617/1617 [==============================] - 0s - loss: 0.2434 - acc: 0.9029     \n",
      "Epoch 183/300\n",
      "1617/1617 [==============================] - 0s - loss: 0.2122 - acc: 0.9184     \n",
      "Epoch 184/300\n",
      "1617/1617 [==============================] - 0s - loss: 0.2381 - acc: 0.9122     \n",
      "Epoch 185/300\n",
      "1617/1617 [==============================] - 0s - loss: 0.2262 - acc: 0.9134     \n",
      "Epoch 186/300\n",
      "1617/1617 [==============================] - 0s - loss: 0.2248 - acc: 0.9153     \n",
      "Epoch 187/300\n",
      "1617/1617 [==============================] - 0s - loss: 0.2121 - acc: 0.9227     \n",
      "Epoch 188/300\n",
      "1617/1617 [==============================] - 0s - loss: 0.2183 - acc: 0.9079     \n",
      "Epoch 189/300\n",
      "1617/1617 [==============================] - 0s - loss: 0.2476 - acc: 0.9103     \n",
      "Epoch 190/300\n",
      "1617/1617 [==============================] - 0s - loss: 0.2457 - acc: 0.9103     \n",
      "Epoch 191/300\n",
      "1617/1617 [==============================] - 0s - loss: 0.2096 - acc: 0.9066     \n",
      "Epoch 192/300\n",
      "1617/1617 [==============================] - 0s - loss: 0.2080 - acc: 0.9270     \n",
      "Epoch 193/300\n",
      "1617/1617 [==============================] - 0s - loss: 0.2048 - acc: 0.9270     \n",
      "Epoch 194/300\n",
      "1617/1617 [==============================] - 0s - loss: 0.2047 - acc: 0.9252     \n",
      "Epoch 195/300\n",
      "1617/1617 [==============================] - 0s - loss: 0.2294 - acc: 0.9079     \n",
      "Epoch 196/300\n",
      "1617/1617 [==============================] - 0s - loss: 0.2130 - acc: 0.9227     \n",
      "Epoch 197/300\n",
      "1617/1617 [==============================] - 0s - loss: 0.2020 - acc: 0.9190     \n",
      "Epoch 198/300\n",
      "1617/1617 [==============================] - 0s - loss: 0.1801 - acc: 0.9289     \n",
      "Epoch 199/300\n",
      "1617/1617 [==============================] - 0s - loss: 0.1967 - acc: 0.9202     \n",
      "Epoch 200/300\n",
      "1617/1617 [==============================] - 0s - loss: 0.1945 - acc: 0.9283     \n",
      "Epoch 201/300\n",
      "1617/1617 [==============================] - 0s - loss: 0.1857 - acc: 0.9289     \n",
      "Epoch 202/300\n",
      "1617/1617 [==============================] - 0s - loss: 0.2081 - acc: 0.9159     \n",
      "Epoch 203/300\n",
      "1617/1617 [==============================] - 0s - loss: 0.2072 - acc: 0.9258     \n",
      "Epoch 204/300\n",
      "1617/1617 [==============================] - 0s - loss: 0.1787 - acc: 0.9270     \n",
      "Epoch 205/300\n",
      "1617/1617 [==============================] - 0s - loss: 0.1826 - acc: 0.9289     \n",
      "Epoch 206/300\n",
      "1617/1617 [==============================] - 0s - loss: 0.1870 - acc: 0.9283     \n",
      "Epoch 207/300\n",
      "1617/1617 [==============================] - 0s - loss: 0.1893 - acc: 0.9227     \n",
      "Epoch 208/300\n",
      "1617/1617 [==============================] - 0s - loss: 0.1996 - acc: 0.9196     \n",
      "Epoch 209/300\n",
      "1617/1617 [==============================] - 0s - loss: 0.2143 - acc: 0.9233     \n",
      "Epoch 210/300\n",
      "1617/1617 [==============================] - 0s - loss: 0.2131 - acc: 0.9270     \n",
      "Epoch 211/300\n",
      "1617/1617 [==============================] - 0s - loss: 0.1896 - acc: 0.9258     \n",
      "Epoch 212/300\n",
      "1617/1617 [==============================] - 0s - loss: 0.2163 - acc: 0.9270     \n",
      "Epoch 213/300\n",
      "1617/1617 [==============================] - 0s - loss: 0.1863 - acc: 0.9276     \n",
      "Epoch 214/300\n",
      "1617/1617 [==============================] - 0s - loss: 0.1808 - acc: 0.9289     \n",
      "Epoch 215/300\n",
      "1617/1617 [==============================] - 0s - loss: 0.1826 - acc: 0.9252     \n",
      "Epoch 216/300\n",
      "1617/1617 [==============================] - 0s - loss: 0.1895 - acc: 0.9326     \n",
      "Epoch 217/300\n",
      "1617/1617 [==============================] - 0s - loss: 0.1915 - acc: 0.9246     \n",
      "Epoch 218/300\n",
      "1617/1617 [==============================] - 0s - loss: 0.1950 - acc: 0.9233     \n",
      "Epoch 219/300\n",
      "1617/1617 [==============================] - 0s - loss: 0.1789 - acc: 0.9283     \n",
      "Epoch 220/300\n",
      "1617/1617 [==============================] - 0s - loss: 0.1763 - acc: 0.9314     \n",
      "Epoch 221/300\n",
      "1617/1617 [==============================] - 0s - loss: 0.1866 - acc: 0.9283     \n",
      "Epoch 222/300\n",
      "1617/1617 [==============================] - 0s - loss: 0.1841 - acc: 0.9326     \n",
      "Epoch 223/300\n",
      "1617/1617 [==============================] - 0s - loss: 0.1909 - acc: 0.9276     \n",
      "Epoch 224/300\n",
      "1617/1617 [==============================] - 0s - loss: 0.1726 - acc: 0.9307     \n",
      "Epoch 225/300\n",
      "1617/1617 [==============================] - 0s - loss: 0.1870 - acc: 0.9258     \n",
      "Epoch 226/300\n",
      "1617/1617 [==============================] - 0s - loss: 0.1576 - acc: 0.9431     \n",
      "Epoch 227/300\n",
      "1617/1617 [==============================] - 0s - loss: 0.1746 - acc: 0.9431     \n",
      "Epoch 228/300\n",
      "1617/1617 [==============================] - 0s - loss: 0.1669 - acc: 0.9338     \n",
      "Epoch 229/300\n",
      "1617/1617 [==============================] - 0s - loss: 0.1661 - acc: 0.9369     \n",
      "Epoch 230/300\n",
      "1617/1617 [==============================] - 0s - loss: 0.1826 - acc: 0.9264     \n",
      "Epoch 231/300\n",
      "1617/1617 [==============================] - 0s - loss: 0.1762 - acc: 0.9320     \n",
      "Epoch 232/300\n",
      "1617/1617 [==============================] - 0s - loss: 0.1855 - acc: 0.9227     \n",
      "Epoch 233/300\n",
      "1617/1617 [==============================] - 0s - loss: 0.1715 - acc: 0.9369     \n",
      "Epoch 234/300\n",
      "1617/1617 [==============================] - 0s - loss: 0.1682 - acc: 0.9357     \n",
      "Epoch 235/300\n",
      "1617/1617 [==============================] - 0s - loss: 0.1696 - acc: 0.9357     \n",
      "Epoch 236/300\n",
      "1617/1617 [==============================] - 0s - loss: 0.1622 - acc: 0.9314     \n",
      "Epoch 237/300\n",
      "1617/1617 [==============================] - 0s - loss: 0.1819 - acc: 0.9382     \n",
      "Epoch 238/300\n",
      "1617/1617 [==============================] - 0s - loss: 0.1655 - acc: 0.9400     \n",
      "Epoch 239/300\n",
      "1617/1617 [==============================] - 0s - loss: 0.1566 - acc: 0.9351     \n",
      "Epoch 240/300\n",
      "1617/1617 [==============================] - 0s - loss: 0.1713 - acc: 0.9375     \n",
      "Epoch 241/300\n",
      "1617/1617 [==============================] - 0s - loss: 0.1483 - acc: 0.9493     \n",
      "Epoch 242/300\n",
      "1617/1617 [==============================] - 0s - loss: 0.1705 - acc: 0.9326     \n",
      "Epoch 243/300\n",
      "1617/1617 [==============================] - 0s - loss: 0.1660 - acc: 0.9431     \n",
      "Epoch 244/300\n",
      "1617/1617 [==============================] - 0s - loss: 0.1717 - acc: 0.9320     \n",
      "Epoch 245/300\n",
      "1617/1617 [==============================] - 0s - loss: 0.1492 - acc: 0.9462     \n",
      "Epoch 246/300\n",
      "1617/1617 [==============================] - 0s - loss: 0.1662 - acc: 0.9363     \n",
      "Epoch 247/300\n",
      "1617/1617 [==============================] - 0s - loss: 0.1563 - acc: 0.9394     \n",
      "Epoch 248/300\n",
      "1617/1617 [==============================] - 0s - loss: 0.1664 - acc: 0.9412     \n",
      "Epoch 249/300\n",
      "1617/1617 [==============================] - 0s - loss: 0.1587 - acc: 0.9400     \n",
      "Epoch 250/300\n",
      "1617/1617 [==============================] - 0s - loss: 0.1677 - acc: 0.9363     \n",
      "Epoch 251/300\n",
      "1617/1617 [==============================] - 0s - loss: 0.1511 - acc: 0.9382     \n",
      "Epoch 252/300\n",
      "1617/1617 [==============================] - 0s - loss: 0.1499 - acc: 0.9450     \n",
      "Epoch 253/300\n",
      "1617/1617 [==============================] - 0s - loss: 0.1650 - acc: 0.9481     \n",
      "Epoch 254/300\n",
      "1617/1617 [==============================] - 0s - loss: 0.1708 - acc: 0.9431     \n",
      "Epoch 255/300\n",
      "1617/1617 [==============================] - 0s - loss: 0.1626 - acc: 0.9394     \n",
      "Epoch 256/300\n",
      "1617/1617 [==============================] - 0s - loss: 0.1662 - acc: 0.9363     \n",
      "Epoch 257/300\n",
      "1617/1617 [==============================] - 0s - loss: 0.1803 - acc: 0.9431     \n",
      "Epoch 258/300\n",
      "1617/1617 [==============================] - 0s - loss: 0.1722 - acc: 0.9357     \n",
      "Epoch 259/300\n",
      "1617/1617 [==============================] - 0s - loss: 0.1621 - acc: 0.9412     \n",
      "Epoch 260/300\n",
      "1617/1617 [==============================] - 0s - loss: 0.1524 - acc: 0.9425     \n",
      "Epoch 261/300\n",
      "1617/1617 [==============================] - 0s - loss: 0.1403 - acc: 0.9462     \n",
      "Epoch 262/300\n",
      "1617/1617 [==============================] - 0s - loss: 0.1492 - acc: 0.9388     \n",
      "Epoch 263/300\n",
      "1617/1617 [==============================] - 0s - loss: 0.1632 - acc: 0.9375     \n",
      "Epoch 264/300\n",
      "1617/1617 [==============================] - 0s - loss: 0.1528 - acc: 0.9351     \n",
      "Epoch 265/300\n",
      "1617/1617 [==============================] - 0s - loss: 0.1450 - acc: 0.9431     \n",
      "Epoch 266/300\n",
      "1617/1617 [==============================] - 0s - loss: 0.1398 - acc: 0.9487     \n",
      "Epoch 267/300\n",
      "1617/1617 [==============================] - 0s - loss: 0.1618 - acc: 0.9468     \n",
      "Epoch 268/300\n",
      "1617/1617 [==============================] - 0s - loss: 0.1356 - acc: 0.9419     \n",
      "Epoch 269/300\n",
      "1617/1617 [==============================] - 0s - loss: 0.1482 - acc: 0.9481     \n",
      "Epoch 270/300\n",
      "1617/1617 [==============================] - 0s - loss: 0.1400 - acc: 0.9468     \n",
      "Epoch 271/300\n",
      "1617/1617 [==============================] - 0s - loss: 0.1475 - acc: 0.9493     \n",
      "Epoch 272/300\n",
      "1617/1617 [==============================] - 0s - loss: 0.1389 - acc: 0.9462     \n",
      "Epoch 273/300\n",
      "1617/1617 [==============================] - 0s - loss: 0.1447 - acc: 0.9481     \n",
      "Epoch 274/300\n",
      "1617/1617 [==============================] - 0s - loss: 0.1529 - acc: 0.9499     \n",
      "Epoch 275/300\n",
      "1617/1617 [==============================] - 0s - loss: 0.1363 - acc: 0.9487     \n",
      "Epoch 276/300\n",
      "1617/1617 [==============================] - 0s - loss: 0.1567 - acc: 0.9437     \n",
      "Epoch 277/300\n",
      "1617/1617 [==============================] - 0s - loss: 0.1444 - acc: 0.9518     \n",
      "Epoch 278/300\n",
      "1617/1617 [==============================] - 0s - loss: 0.1677 - acc: 0.9419     \n",
      "Epoch 279/300\n",
      "1617/1617 [==============================] - 0s - loss: 0.1399 - acc: 0.9493     \n",
      "Epoch 280/300\n",
      "1617/1617 [==============================] - 0s - loss: 0.1552 - acc: 0.9419     \n",
      "Epoch 281/300\n",
      "1617/1617 [==============================] - 0s - loss: 0.1349 - acc: 0.9567     \n",
      "Epoch 282/300\n",
      "1617/1617 [==============================] - 0s - loss: 0.1163 - acc: 0.9561     \n",
      "Epoch 283/300\n",
      "1617/1617 [==============================] - 0s - loss: 0.1347 - acc: 0.9499     \n",
      "Epoch 284/300\n",
      "1617/1617 [==============================] - 0s - loss: 0.1364 - acc: 0.9561     \n",
      "Epoch 285/300\n",
      "1617/1617 [==============================] - 0s - loss: 0.1504 - acc: 0.9450     \n",
      "Epoch 286/300\n",
      "1617/1617 [==============================] - 0s - loss: 0.1361 - acc: 0.9400     \n",
      "Epoch 287/300\n",
      "1617/1617 [==============================] - 0s - loss: 0.1177 - acc: 0.9586     \n",
      "Epoch 288/300\n",
      "1617/1617 [==============================] - 0s - loss: 0.1448 - acc: 0.9450     \n",
      "Epoch 289/300\n",
      "1617/1617 [==============================] - 0s - loss: 0.1405 - acc: 0.9462     \n",
      "Epoch 290/300\n",
      "1617/1617 [==============================] - 0s - loss: 0.1422 - acc: 0.9499     \n",
      "Epoch 291/300\n",
      "1617/1617 [==============================] - 0s - loss: 0.1365 - acc: 0.9468     \n",
      "Epoch 292/300\n",
      "1617/1617 [==============================] - 0s - loss: 0.1322 - acc: 0.9536     \n",
      "Epoch 293/300\n",
      "1617/1617 [==============================] - 0s - loss: 0.1384 - acc: 0.9518     \n",
      "Epoch 294/300\n",
      "1617/1617 [==============================] - 0s - loss: 0.1360 - acc: 0.9474     \n",
      "Epoch 295/300\n",
      "1617/1617 [==============================] - 0s - loss: 0.1442 - acc: 0.9499     \n",
      "Epoch 296/300\n",
      "1617/1617 [==============================] - 0s - loss: 0.1364 - acc: 0.9474     \n",
      "Epoch 297/300\n",
      "1617/1617 [==============================] - 0s - loss: 0.1452 - acc: 0.9450     \n",
      "Epoch 298/300\n",
      "1617/1617 [==============================] - 0s - loss: 0.1271 - acc: 0.9561     \n",
      "Epoch 299/300\n",
      "1617/1617 [==============================] - 0s - loss: 0.1410 - acc: 0.9511     \n",
      "Epoch 300/300\n",
      "1617/1617 [==============================] - 0s - loss: 0.1591 - acc: 0.9456     \n"
     ]
    }
   ],
   "source": [
    "history = model.fit(X_train.values, y_train_encoded.toarray(), nb_epoch=epochs, batch_size=batch_size, verbose=1)"
   ]
  },
  {
   "cell_type": "code",
   "execution_count": 37,
   "metadata": {
    "collapsed": false
   },
   "outputs": [
    {
     "name": "stdout",
     "output_type": "stream",
     "text": [
      "500/693 [====================>.........] - ETA: 0sLoss: 0.13, Accuracy: 95.82%\n"
     ]
    }
   ],
   "source": [
    "loss, accuracy = model.evaluate(X_test.values, y_test_encoded.toarray(), batch_size=batch_size)\n",
    "print(\"Loss: %.2f, Accuracy: %.2f%%\" % (loss, accuracy*100))"
   ]
  },
  {
   "cell_type": "markdown",
   "metadata": {},
   "source": [
    "### with encoded data"
   ]
  },
  {
   "cell_type": "code",
   "execution_count": 38,
   "metadata": {
    "collapsed": true
   },
   "outputs": [],
   "source": [
    "model2 = Sequential()\n",
    "model2.add(Dense(38, activation='relu', input_dim=X_train.shape[1]))\n",
    "model2.add(Dropout(0.2))\n",
    "model2.add(Dense(38*2, activation='relu'))\n",
    "model2.add(Dropout(0.2))\n",
    "model2.add(Dense(38, activation='relu'))\n",
    "model2.add(Dropout(0.2))\n",
    "model2.add(Dense(7,activation='softmax'))\n",
    "model2.compile(loss='categorical_crossentropy', optimizer='adam', metrics=['accuracy'])"
   ]
  },
  {
   "cell_type": "code",
   "execution_count": 39,
   "metadata": {
    "collapsed": false
   },
   "outputs": [
    {
     "name": "stdout",
     "output_type": "stream",
     "text": [
      "Epoch 1/300\n",
      "1617/1617 [==============================] - 0s - loss: 1.8242 - acc: 0.2820     \n",
      "Epoch 2/300\n",
      "1617/1617 [==============================] - 0s - loss: 1.5336 - acc: 0.4607     \n",
      "Epoch 3/300\n",
      "1617/1617 [==============================] - 0s - loss: 1.2531 - acc: 0.5999     \n",
      "Epoch 4/300\n",
      "1617/1617 [==============================] - 0s - loss: 1.0278 - acc: 0.6685     \n",
      "Epoch 5/300\n",
      "1617/1617 [==============================] - 0s - loss: 0.8326 - acc: 0.7186     \n",
      "Epoch 6/300\n",
      "1617/1617 [==============================] - 0s - loss: 0.7214 - acc: 0.7489     \n",
      "Epoch 7/300\n",
      "1617/1617 [==============================] - 0s - loss: 0.6352 - acc: 0.7706     \n",
      "Epoch 8/300\n",
      "1617/1617 [==============================] - 0s - loss: 0.5667 - acc: 0.7984     \n",
      "Epoch 9/300\n",
      "1617/1617 [==============================] - 0s - loss: 0.5185 - acc: 0.8169     \n",
      "Epoch 10/300\n",
      "1617/1617 [==============================] - 0s - loss: 0.4680 - acc: 0.8355     \n",
      "Epoch 11/300\n",
      "1617/1617 [==============================] - 0s - loss: 0.4365 - acc: 0.8448     \n",
      "Epoch 12/300\n",
      "1617/1617 [==============================] - 0s - loss: 0.4052 - acc: 0.8627     \n",
      "Epoch 13/300\n",
      "1617/1617 [==============================] - 0s - loss: 0.4001 - acc: 0.8596     \n",
      "Epoch 14/300\n",
      "1617/1617 [==============================] - 0s - loss: 0.3577 - acc: 0.8670     \n",
      "Epoch 15/300\n",
      "1617/1617 [==============================] - 0s - loss: 0.3596 - acc: 0.8689     \n",
      "Epoch 16/300\n",
      "1617/1617 [==============================] - 0s - loss: 0.3308 - acc: 0.8732     \n",
      "Epoch 17/300\n",
      "1617/1617 [==============================] - 0s - loss: 0.3318 - acc: 0.8769     \n",
      "Epoch 18/300\n",
      "1617/1617 [==============================] - 0s - loss: 0.3071 - acc: 0.8924     \n",
      "Epoch 19/300\n",
      "1617/1617 [==============================] - 0s - loss: 0.2872 - acc: 0.8955     \n",
      "Epoch 20/300\n",
      "1617/1617 [==============================] - 0s - loss: 0.2879 - acc: 0.8967     \n",
      "Epoch 21/300\n",
      "1617/1617 [==============================] - 0s - loss: 0.2656 - acc: 0.8980     \n",
      "Epoch 22/300\n",
      "1617/1617 [==============================] - 0s - loss: 0.2666 - acc: 0.9029     \n",
      "Epoch 23/300\n",
      "1617/1617 [==============================] - 0s - loss: 0.2608 - acc: 0.9085     \n",
      "Epoch 24/300\n",
      "1617/1617 [==============================] - 0s - loss: 0.2418 - acc: 0.9097     \n",
      "Epoch 25/300\n",
      "1617/1617 [==============================] - 0s - loss: 0.2358 - acc: 0.9140     \n",
      "Epoch 26/300\n",
      "1617/1617 [==============================] - 0s - loss: 0.2455 - acc: 0.9109     \n",
      "Epoch 27/300\n",
      "1617/1617 [==============================] - 0s - loss: 0.2234 - acc: 0.9153     \n",
      "Epoch 28/300\n",
      "1617/1617 [==============================] - 0s - loss: 0.2165 - acc: 0.9140     \n",
      "Epoch 29/300\n",
      "1617/1617 [==============================] - 0s - loss: 0.2234 - acc: 0.9159     \n",
      "Epoch 30/300\n",
      "1617/1617 [==============================] - 0s - loss: 0.2151 - acc: 0.9134     \n",
      "Epoch 31/300\n",
      "1617/1617 [==============================] - 0s - loss: 0.2127 - acc: 0.9159     \n",
      "Epoch 32/300\n",
      "1617/1617 [==============================] - 0s - loss: 0.1987 - acc: 0.9177     \n",
      "Epoch 33/300\n",
      "1617/1617 [==============================] - 0s - loss: 0.1952 - acc: 0.9270     \n",
      "Epoch 34/300\n",
      "1617/1617 [==============================] - 0s - loss: 0.1901 - acc: 0.9295     \n",
      "Epoch 35/300\n",
      "1617/1617 [==============================] - 0s - loss: 0.2104 - acc: 0.9184     \n",
      "Epoch 36/300\n",
      "1617/1617 [==============================] - 0s - loss: 0.1937 - acc: 0.9283     \n",
      "Epoch 37/300\n",
      "1617/1617 [==============================] - 0s - loss: 0.1993 - acc: 0.9239     \n",
      "Epoch 38/300\n",
      "1617/1617 [==============================] - 0s - loss: 0.1812 - acc: 0.9351     \n",
      "Epoch 39/300\n",
      "1617/1617 [==============================] - 0s - loss: 0.1735 - acc: 0.9276     \n",
      "Epoch 40/300\n",
      "1617/1617 [==============================] - 0s - loss: 0.1699 - acc: 0.9394     \n",
      "Epoch 41/300\n",
      "1617/1617 [==============================] - 0s - loss: 0.1734 - acc: 0.9388     \n",
      "Epoch 42/300\n",
      "1617/1617 [==============================] - 0s - loss: 0.1708 - acc: 0.9326     \n",
      "Epoch 43/300\n",
      "1617/1617 [==============================] - 0s - loss: 0.1738 - acc: 0.9363     \n",
      "Epoch 44/300\n",
      "1617/1617 [==============================] - 0s - loss: 0.1635 - acc: 0.9388     \n",
      "Epoch 45/300\n",
      "1617/1617 [==============================] - 0s - loss: 0.1677 - acc: 0.9332     \n",
      "Epoch 46/300\n",
      "1617/1617 [==============================] - 0s - loss: 0.1770 - acc: 0.9320     \n",
      "Epoch 47/300\n",
      "1617/1617 [==============================] - 0s - loss: 0.1507 - acc: 0.9425     \n",
      "Epoch 48/300\n",
      "1617/1617 [==============================] - 0s - loss: 0.1616 - acc: 0.9314     \n",
      "Epoch 49/300\n",
      "1617/1617 [==============================] - 0s - loss: 0.1466 - acc: 0.9481     \n",
      "Epoch 50/300\n",
      "1617/1617 [==============================] - 0s - loss: 0.1599 - acc: 0.9369     \n",
      "Epoch 51/300\n",
      "1617/1617 [==============================] - 0s - loss: 0.1620 - acc: 0.9425     \n",
      "Epoch 52/300\n",
      "1617/1617 [==============================] - 0s - loss: 0.1519 - acc: 0.9388     \n",
      "Epoch 53/300\n",
      "1617/1617 [==============================] - 0s - loss: 0.1463 - acc: 0.9431     \n",
      "Epoch 54/300\n",
      "1617/1617 [==============================] - 0s - loss: 0.1305 - acc: 0.9493     \n",
      "Epoch 55/300\n",
      "1617/1617 [==============================] - 0s - loss: 0.1459 - acc: 0.9394     \n",
      "Epoch 56/300\n",
      "1617/1617 [==============================] - 0s - loss: 0.1324 - acc: 0.9468     \n",
      "Epoch 57/300\n",
      "1617/1617 [==============================] - 0s - loss: 0.1440 - acc: 0.9505     \n",
      "Epoch 58/300\n",
      "1617/1617 [==============================] - 0s - loss: 0.1448 - acc: 0.9524     \n",
      "Epoch 59/300\n",
      "1617/1617 [==============================] - 0s - loss: 0.1466 - acc: 0.9481     \n",
      "Epoch 60/300\n",
      "1617/1617 [==============================] - 0s - loss: 0.1353 - acc: 0.9536     \n",
      "Epoch 61/300\n",
      "1617/1617 [==============================] - 0s - loss: 0.1381 - acc: 0.9462     \n",
      "Epoch 62/300\n",
      "1617/1617 [==============================] - 0s - loss: 0.1382 - acc: 0.9443     \n",
      "Epoch 63/300\n",
      "1617/1617 [==============================] - 0s - loss: 0.1441 - acc: 0.9425     \n",
      "Epoch 64/300\n",
      "1617/1617 [==============================] - 0s - loss: 0.1286 - acc: 0.9462     \n",
      "Epoch 65/300\n",
      "1617/1617 [==============================] - 0s - loss: 0.1396 - acc: 0.9462     \n",
      "Epoch 66/300\n",
      "1617/1617 [==============================] - 0s - loss: 0.1394 - acc: 0.9518     \n",
      "Epoch 67/300\n",
      "1617/1617 [==============================] - 0s - loss: 0.1267 - acc: 0.9487     \n",
      "Epoch 68/300\n",
      "1617/1617 [==============================] - 0s - loss: 0.1356 - acc: 0.9481     \n",
      "Epoch 69/300\n",
      "1617/1617 [==============================] - 0s - loss: 0.1145 - acc: 0.9530     \n",
      "Epoch 70/300\n",
      "1617/1617 [==============================] - 0s - loss: 0.1122 - acc: 0.9604     \n",
      "Epoch 71/300\n",
      "1617/1617 [==============================] - 0s - loss: 0.1174 - acc: 0.9579     \n",
      "Epoch 72/300\n",
      "1617/1617 [==============================] - 0s - loss: 0.1321 - acc: 0.9549     \n",
      "Epoch 73/300\n",
      "1617/1617 [==============================] - 0s - loss: 0.1160 - acc: 0.9610     \n",
      "Epoch 74/300\n",
      "1617/1617 [==============================] - 0s - loss: 0.1252 - acc: 0.9493     \n",
      "Epoch 75/300\n",
      "1617/1617 [==============================] - 0s - loss: 0.1262 - acc: 0.9555     \n",
      "Epoch 76/300\n",
      "1617/1617 [==============================] - 0s - loss: 0.1159 - acc: 0.9592     \n",
      "Epoch 77/300\n",
      "1617/1617 [==============================] - 0s - loss: 0.1087 - acc: 0.9567     \n",
      "Epoch 78/300\n",
      "1617/1617 [==============================] - 0s - loss: 0.1139 - acc: 0.9586     \n",
      "Epoch 79/300\n",
      "1617/1617 [==============================] - 0s - loss: 0.1122 - acc: 0.9555     \n",
      "Epoch 80/300\n",
      "1617/1617 [==============================] - 0s - loss: 0.1277 - acc: 0.9468     \n",
      "Epoch 81/300\n",
      "1617/1617 [==============================] - 0s - loss: 0.1206 - acc: 0.9542     \n",
      "Epoch 82/300\n",
      "1617/1617 [==============================] - 0s - loss: 0.1129 - acc: 0.9555     \n",
      "Epoch 83/300\n",
      "1617/1617 [==============================] - 0s - loss: 0.1165 - acc: 0.9561     \n",
      "Epoch 84/300\n",
      "1617/1617 [==============================] - 0s - loss: 0.1144 - acc: 0.9561     \n",
      "Epoch 85/300\n",
      "1617/1617 [==============================] - 0s - loss: 0.1193 - acc: 0.9592     \n",
      "Epoch 86/300\n",
      "1617/1617 [==============================] - 0s - loss: 0.1009 - acc: 0.9647     \n",
      "Epoch 87/300\n",
      "1617/1617 [==============================] - 0s - loss: 0.1082 - acc: 0.9573     \n",
      "Epoch 88/300\n",
      "1617/1617 [==============================] - 0s - loss: 0.1088 - acc: 0.9604     \n",
      "Epoch 89/300\n",
      "1617/1617 [==============================] - 0s - loss: 0.1032 - acc: 0.9555     \n",
      "Epoch 90/300\n",
      "1617/1617 [==============================] - 0s - loss: 0.1030 - acc: 0.9623     \n",
      "Epoch 91/300\n",
      "1617/1617 [==============================] - 0s - loss: 0.1032 - acc: 0.9586     \n",
      "Epoch 92/300\n",
      "1617/1617 [==============================] - 0s - loss: 0.1094 - acc: 0.9623     \n",
      "Epoch 93/300\n",
      "1617/1617 [==============================] - 0s - loss: 0.1000 - acc: 0.9629     \n",
      "Epoch 94/300\n",
      "1617/1617 [==============================] - 0s - loss: 0.0906 - acc: 0.9635     \n",
      "Epoch 95/300\n",
      "1617/1617 [==============================] - 0s - loss: 0.1173 - acc: 0.9598     \n",
      "Epoch 96/300\n",
      "1617/1617 [==============================] - 0s - loss: 0.0976 - acc: 0.9660     \n",
      "Epoch 97/300\n",
      "1617/1617 [==============================] - 0s - loss: 0.1045 - acc: 0.9555     \n",
      "Epoch 98/300\n",
      "1617/1617 [==============================] - 0s - loss: 0.1011 - acc: 0.9617     \n",
      "Epoch 99/300\n",
      "1617/1617 [==============================] - 0s - loss: 0.1012 - acc: 0.9610     \n",
      "Epoch 100/300\n",
      "1617/1617 [==============================] - 0s - loss: 0.0982 - acc: 0.9635     \n",
      "Epoch 101/300\n",
      "1617/1617 [==============================] - 0s - loss: 0.0908 - acc: 0.9654     \n",
      "Epoch 102/300\n",
      "1617/1617 [==============================] - 0s - loss: 0.0981 - acc: 0.9635     \n",
      "Epoch 103/300\n",
      "1617/1617 [==============================] - 0s - loss: 0.0955 - acc: 0.9629     \n",
      "Epoch 104/300\n",
      "1617/1617 [==============================] - 0s - loss: 0.1149 - acc: 0.9573     \n",
      "Epoch 105/300\n",
      "1617/1617 [==============================] - 0s - loss: 0.1111 - acc: 0.9617     \n",
      "Epoch 106/300\n",
      "1617/1617 [==============================] - 0s - loss: 0.0906 - acc: 0.9647     \n",
      "Epoch 107/300\n",
      "1617/1617 [==============================] - 0s - loss: 0.0894 - acc: 0.9647     \n",
      "Epoch 108/300\n",
      "1617/1617 [==============================] - 0s - loss: 0.0924 - acc: 0.9647     \n",
      "Epoch 109/300\n",
      "1617/1617 [==============================] - 0s - loss: 0.1040 - acc: 0.9561     \n",
      "Epoch 110/300\n",
      "1617/1617 [==============================] - 0s - loss: 0.0970 - acc: 0.9660     \n",
      "Epoch 111/300\n",
      "1617/1617 [==============================] - 0s - loss: 0.0812 - acc: 0.9722     \n",
      "Epoch 112/300\n",
      "1617/1617 [==============================] - 0s - loss: 0.0946 - acc: 0.9635     \n",
      "Epoch 113/300\n",
      "1617/1617 [==============================] - 0s - loss: 0.0919 - acc: 0.9604     \n",
      "Epoch 114/300\n",
      "1617/1617 [==============================] - 0s - loss: 0.0940 - acc: 0.9641     \n",
      "Epoch 115/300\n",
      "1617/1617 [==============================] - 0s - loss: 0.0757 - acc: 0.9685     \n",
      "Epoch 116/300\n",
      "1617/1617 [==============================] - 0s - loss: 0.1059 - acc: 0.9604     \n",
      "Epoch 117/300\n",
      "1617/1617 [==============================] - 0s - loss: 0.0831 - acc: 0.9716     \n",
      "Epoch 118/300\n",
      "1617/1617 [==============================] - 0s - loss: 0.0829 - acc: 0.9734     \n",
      "Epoch 119/300\n",
      "1617/1617 [==============================] - 0s - loss: 0.0794 - acc: 0.9703     \n",
      "Epoch 120/300\n",
      "1617/1617 [==============================] - 0s - loss: 0.0817 - acc: 0.9728     \n",
      "Epoch 121/300\n",
      "1617/1617 [==============================] - 0s - loss: 0.0858 - acc: 0.9672     \n",
      "Epoch 122/300\n",
      "1617/1617 [==============================] - 0s - loss: 0.0866 - acc: 0.9697     \n",
      "Epoch 123/300\n",
      "1617/1617 [==============================] - 0s - loss: 0.0874 - acc: 0.9697     \n",
      "Epoch 124/300\n",
      "1617/1617 [==============================] - 0s - loss: 0.0783 - acc: 0.9691     \n",
      "Epoch 125/300\n",
      "1617/1617 [==============================] - 0s - loss: 0.0746 - acc: 0.9691     \n",
      "Epoch 126/300\n",
      "1617/1617 [==============================] - 0s - loss: 0.0726 - acc: 0.9697     \n",
      "Epoch 127/300\n",
      "1617/1617 [==============================] - 0s - loss: 0.0889 - acc: 0.9660     \n",
      "Epoch 128/300\n",
      "1617/1617 [==============================] - 0s - loss: 0.0926 - acc: 0.9623     \n",
      "Epoch 129/300\n",
      "1617/1617 [==============================] - 0s - loss: 0.0841 - acc: 0.9678     \n",
      "Epoch 130/300\n",
      "1617/1617 [==============================] - 0s - loss: 0.0763 - acc: 0.9697     \n",
      "Epoch 131/300\n",
      "1617/1617 [==============================] - 0s - loss: 0.0784 - acc: 0.9697     \n",
      "Epoch 132/300\n",
      "1617/1617 [==============================] - 0s - loss: 0.0789 - acc: 0.9734     \n",
      "Epoch 133/300\n",
      "1617/1617 [==============================] - 0s - loss: 0.0695 - acc: 0.9740     \n",
      "Epoch 134/300\n",
      "1617/1617 [==============================] - 0s - loss: 0.0827 - acc: 0.9660     \n",
      "Epoch 135/300\n",
      "1617/1617 [==============================] - 0s - loss: 0.0735 - acc: 0.9722     \n",
      "Epoch 136/300\n",
      "1617/1617 [==============================] - 0s - loss: 0.0654 - acc: 0.9771     \n",
      "Epoch 137/300\n",
      "1617/1617 [==============================] - 0s - loss: 0.0830 - acc: 0.9716     \n",
      "Epoch 138/300\n",
      "1617/1617 [==============================] - 0s - loss: 0.0698 - acc: 0.9734     \n",
      "Epoch 139/300\n",
      "1617/1617 [==============================] - 0s - loss: 0.0773 - acc: 0.9734     \n",
      "Epoch 140/300\n",
      "1617/1617 [==============================] - 0s - loss: 0.0719 - acc: 0.9740     \n",
      "Epoch 141/300\n",
      "1617/1617 [==============================] - 0s - loss: 0.0748 - acc: 0.9703     \n",
      "Epoch 142/300\n",
      "1617/1617 [==============================] - 0s - loss: 0.0763 - acc: 0.9703     \n",
      "Epoch 143/300\n",
      "1617/1617 [==============================] - 0s - loss: 0.0774 - acc: 0.9709     \n",
      "Epoch 144/300\n",
      "1617/1617 [==============================] - 0s - loss: 0.0617 - acc: 0.9784     \n",
      "Epoch 145/300\n",
      "1617/1617 [==============================] - 0s - loss: 0.0748 - acc: 0.9746     \n",
      "Epoch 146/300\n",
      "1617/1617 [==============================] - 0s - loss: 0.0765 - acc: 0.9716     \n",
      "Epoch 147/300\n",
      "1617/1617 [==============================] - 0s - loss: 0.0711 - acc: 0.9734     \n",
      "Epoch 148/300\n",
      "1617/1617 [==============================] - 0s - loss: 0.0694 - acc: 0.9746     \n",
      "Epoch 149/300\n",
      "1617/1617 [==============================] - 0s - loss: 0.0708 - acc: 0.9709     \n",
      "Epoch 150/300\n",
      "1617/1617 [==============================] - 0s - loss: 0.0633 - acc: 0.9759     \n",
      "Epoch 151/300\n",
      "1617/1617 [==============================] - 0s - loss: 0.0639 - acc: 0.9765     \n",
      "Epoch 152/300\n",
      "1617/1617 [==============================] - 0s - loss: 0.0762 - acc: 0.9722     \n",
      "Epoch 153/300\n",
      "1617/1617 [==============================] - 0s - loss: 0.0668 - acc: 0.9771     \n",
      "Epoch 154/300\n",
      "1617/1617 [==============================] - 0s - loss: 0.0828 - acc: 0.9709     \n",
      "Epoch 155/300\n",
      "1617/1617 [==============================] - 0s - loss: 0.0688 - acc: 0.9709     \n",
      "Epoch 156/300\n",
      "1617/1617 [==============================] - 0s - loss: 0.0689 - acc: 0.9740     \n",
      "Epoch 157/300\n",
      "1617/1617 [==============================] - 0s - loss: 0.0779 - acc: 0.9746     \n",
      "Epoch 158/300\n",
      "1617/1617 [==============================] - 0s - loss: 0.0718 - acc: 0.9746     \n",
      "Epoch 159/300\n",
      "1617/1617 [==============================] - 0s - loss: 0.0773 - acc: 0.9722     \n",
      "Epoch 160/300\n",
      "1617/1617 [==============================] - 0s - loss: 0.0619 - acc: 0.9802     \n",
      "Epoch 161/300\n",
      "1617/1617 [==============================] - 0s - loss: 0.0790 - acc: 0.9734     \n",
      "Epoch 162/300\n",
      "1617/1617 [==============================] - 0s - loss: 0.0773 - acc: 0.9740     \n",
      "Epoch 163/300\n",
      "1617/1617 [==============================] - 0s - loss: 0.0669 - acc: 0.9716     \n",
      "Epoch 164/300\n",
      "1617/1617 [==============================] - 0s - loss: 0.0720 - acc: 0.9759     \n",
      "Epoch 165/300\n",
      "1617/1617 [==============================] - 0s - loss: 0.0618 - acc: 0.9796     \n",
      "Epoch 166/300\n",
      "1617/1617 [==============================] - 0s - loss: 0.0674 - acc: 0.9753     \n",
      "Epoch 167/300\n",
      "1617/1617 [==============================] - 0s - loss: 0.0712 - acc: 0.9728     \n",
      "Epoch 168/300\n",
      "1617/1617 [==============================] - 0s - loss: 0.0572 - acc: 0.9784     \n",
      "Epoch 169/300\n",
      "1617/1617 [==============================] - 0s - loss: 0.0738 - acc: 0.9740     \n",
      "Epoch 170/300\n",
      "1617/1617 [==============================] - 0s - loss: 0.0609 - acc: 0.9777     \n",
      "Epoch 171/300\n",
      "1617/1617 [==============================] - 0s - loss: 0.0699 - acc: 0.9759     \n",
      "Epoch 172/300\n",
      "1617/1617 [==============================] - 0s - loss: 0.0686 - acc: 0.9740     \n",
      "Epoch 173/300\n",
      "1617/1617 [==============================] - 0s - loss: 0.0636 - acc: 0.9753     \n",
      "Epoch 174/300\n",
      "1617/1617 [==============================] - 0s - loss: 0.0629 - acc: 0.9777     \n",
      "Epoch 175/300\n",
      "1617/1617 [==============================] - 0s - loss: 0.0814 - acc: 0.9728     \n",
      "Epoch 176/300\n",
      "1617/1617 [==============================] - 0s - loss: 0.0800 - acc: 0.9678     \n",
      "Epoch 177/300\n",
      "1617/1617 [==============================] - 0s - loss: 0.0736 - acc: 0.9722     \n",
      "Epoch 178/300\n",
      "1617/1617 [==============================] - 0s - loss: 0.0624 - acc: 0.9759     \n",
      "Epoch 179/300\n",
      "1617/1617 [==============================] - 0s - loss: 0.0626 - acc: 0.9784     \n",
      "Epoch 180/300\n",
      "1617/1617 [==============================] - 0s - loss: 0.0615 - acc: 0.9777     \n",
      "Epoch 181/300\n",
      "1617/1617 [==============================] - 0s - loss: 0.0808 - acc: 0.9740     \n",
      "Epoch 182/300\n",
      "1617/1617 [==============================] - 0s - loss: 0.0609 - acc: 0.9796     \n",
      "Epoch 183/300\n",
      "1617/1617 [==============================] - 0s - loss: 0.0714 - acc: 0.9728     \n",
      "Epoch 184/300\n",
      "1617/1617 [==============================] - 0s - loss: 0.0650 - acc: 0.9790     \n",
      "Epoch 185/300\n",
      "1617/1617 [==============================] - 0s - loss: 0.0731 - acc: 0.9740     \n",
      "Epoch 186/300\n",
      "1617/1617 [==============================] - 0s - loss: 0.0624 - acc: 0.9784     \n",
      "Epoch 187/300\n",
      "1617/1617 [==============================] - 0s - loss: 0.0731 - acc: 0.9746     \n",
      "Epoch 188/300\n",
      "1617/1617 [==============================] - 0s - loss: 0.0626 - acc: 0.9759     \n",
      "Epoch 189/300\n",
      "1617/1617 [==============================] - 0s - loss: 0.0659 - acc: 0.9759     \n",
      "Epoch 190/300\n",
      "1617/1617 [==============================] - 0s - loss: 0.0643 - acc: 0.9759     \n",
      "Epoch 191/300\n",
      "1617/1617 [==============================] - 0s - loss: 0.0609 - acc: 0.9759     \n",
      "Epoch 192/300\n",
      "1617/1617 [==============================] - 0s - loss: 0.0603 - acc: 0.9753     \n",
      "Epoch 193/300\n",
      "1617/1617 [==============================] - 0s - loss: 0.0577 - acc: 0.9784     \n",
      "Epoch 194/300\n",
      "1617/1617 [==============================] - 0s - loss: 0.0675 - acc: 0.9722     \n",
      "Epoch 195/300\n",
      "1617/1617 [==============================] - 0s - loss: 0.0831 - acc: 0.9666     \n",
      "Epoch 196/300\n",
      "1617/1617 [==============================] - 0s - loss: 0.0618 - acc: 0.9765     \n",
      "Epoch 197/300\n",
      "1617/1617 [==============================] - 0s - loss: 0.0560 - acc: 0.9784     \n",
      "Epoch 198/300\n",
      "1617/1617 [==============================] - 0s - loss: 0.0573 - acc: 0.9765     \n",
      "Epoch 199/300\n",
      "1617/1617 [==============================] - 0s - loss: 0.0674 - acc: 0.9759     \n",
      "Epoch 200/300\n",
      "1617/1617 [==============================] - 0s - loss: 0.0684 - acc: 0.9771     \n",
      "Epoch 201/300\n",
      "1617/1617 [==============================] - 0s - loss: 0.0498 - acc: 0.9808     \n",
      "Epoch 202/300\n",
      "1617/1617 [==============================] - 0s - loss: 0.0632 - acc: 0.9796     \n",
      "Epoch 203/300\n",
      "1617/1617 [==============================] - 0s - loss: 0.0515 - acc: 0.9808     \n",
      "Epoch 204/300\n",
      "1617/1617 [==============================] - 0s - loss: 0.0562 - acc: 0.9796     \n",
      "Epoch 205/300\n",
      "1617/1617 [==============================] - 0s - loss: 0.0642 - acc: 0.9777     \n",
      "Epoch 206/300\n",
      "1617/1617 [==============================] - 0s - loss: 0.0594 - acc: 0.9777     \n",
      "Epoch 207/300\n",
      "1617/1617 [==============================] - 0s - loss: 0.0682 - acc: 0.9740     \n",
      "Epoch 208/300\n",
      "1617/1617 [==============================] - 0s - loss: 0.0686 - acc: 0.9784     \n",
      "Epoch 209/300\n",
      "1617/1617 [==============================] - 0s - loss: 0.0547 - acc: 0.9839     \n",
      "Epoch 210/300\n",
      "1617/1617 [==============================] - 0s - loss: 0.0471 - acc: 0.9814     \n",
      "Epoch 211/300\n",
      "1617/1617 [==============================] - 0s - loss: 0.0501 - acc: 0.9821     \n",
      "Epoch 212/300\n",
      "1617/1617 [==============================] - 0s - loss: 0.0700 - acc: 0.9765     \n",
      "Epoch 213/300\n",
      "1617/1617 [==============================] - 0s - loss: 0.0498 - acc: 0.9802     \n",
      "Epoch 214/300\n",
      "1617/1617 [==============================] - 0s - loss: 0.0598 - acc: 0.9777     \n",
      "Epoch 215/300\n",
      "1617/1617 [==============================] - 0s - loss: 0.0664 - acc: 0.9771     \n",
      "Epoch 216/300\n",
      "1617/1617 [==============================] - 0s - loss: 0.0547 - acc: 0.9802     \n",
      "Epoch 217/300\n",
      "1617/1617 [==============================] - 0s - loss: 0.0611 - acc: 0.9765     \n",
      "Epoch 218/300\n",
      "1617/1617 [==============================] - 0s - loss: 0.0558 - acc: 0.9814     \n",
      "Epoch 219/300\n",
      "1617/1617 [==============================] - 0s - loss: 0.0554 - acc: 0.9771     \n",
      "Epoch 220/300\n",
      "1617/1617 [==============================] - 0s - loss: 0.0626 - acc: 0.9777     \n",
      "Epoch 221/300\n",
      "1617/1617 [==============================] - 0s - loss: 0.0552 - acc: 0.9771     \n",
      "Epoch 222/300\n",
      "1617/1617 [==============================] - 0s - loss: 0.0552 - acc: 0.9753     \n",
      "Epoch 223/300\n",
      "1617/1617 [==============================] - 0s - loss: 0.0581 - acc: 0.9746     \n",
      "Epoch 224/300\n",
      "1617/1617 [==============================] - 0s - loss: 0.0528 - acc: 0.9821     \n",
      "Epoch 225/300\n",
      "1617/1617 [==============================] - 0s - loss: 0.0506 - acc: 0.9821     \n",
      "Epoch 226/300\n",
      "1617/1617 [==============================] - 0s - loss: 0.0535 - acc: 0.9833     \n",
      "Epoch 227/300\n",
      "1617/1617 [==============================] - 0s - loss: 0.0614 - acc: 0.9784     \n",
      "Epoch 228/300\n",
      "1617/1617 [==============================] - 0s - loss: 0.0469 - acc: 0.9827     \n",
      "Epoch 229/300\n",
      "1617/1617 [==============================] - 0s - loss: 0.0593 - acc: 0.9771     \n",
      "Epoch 230/300\n",
      "1617/1617 [==============================] - 0s - loss: 0.0639 - acc: 0.9777     \n",
      "Epoch 231/300\n",
      "1617/1617 [==============================] - 0s - loss: 0.0524 - acc: 0.9808     \n",
      "Epoch 232/300\n",
      "1617/1617 [==============================] - 0s - loss: 0.0616 - acc: 0.9790     \n",
      "Epoch 233/300\n",
      "1617/1617 [==============================] - 0s - loss: 0.0545 - acc: 0.9790     \n",
      "Epoch 234/300\n",
      "1617/1617 [==============================] - 0s - loss: 0.0697 - acc: 0.9734     \n",
      "Epoch 235/300\n",
      "1617/1617 [==============================] - 0s - loss: 0.0522 - acc: 0.9852     \n",
      "Epoch 236/300\n",
      "1617/1617 [==============================] - 0s - loss: 0.0567 - acc: 0.9802     \n",
      "Epoch 237/300\n",
      "1617/1617 [==============================] - 0s - loss: 0.0488 - acc: 0.9808     \n",
      "Epoch 238/300\n",
      "1617/1617 [==============================] - 0s - loss: 0.0518 - acc: 0.9808     \n",
      "Epoch 239/300\n",
      "1617/1617 [==============================] - 0s - loss: 0.0603 - acc: 0.9728     \n",
      "Epoch 240/300\n",
      "1617/1617 [==============================] - 0s - loss: 0.0631 - acc: 0.9765     \n",
      "Epoch 241/300\n",
      "1617/1617 [==============================] - 0s - loss: 0.0504 - acc: 0.9808     \n",
      "Epoch 242/300\n",
      "1617/1617 [==============================] - 0s - loss: 0.0491 - acc: 0.9784     \n",
      "Epoch 243/300\n",
      "1617/1617 [==============================] - 0s - loss: 0.0627 - acc: 0.9784     \n",
      "Epoch 244/300\n",
      "1617/1617 [==============================] - 0s - loss: 0.0570 - acc: 0.9765     \n",
      "Epoch 245/300\n",
      "1617/1617 [==============================] - 0s - loss: 0.0507 - acc: 0.9796     \n",
      "Epoch 246/300\n",
      "1617/1617 [==============================] - 0s - loss: 0.0452 - acc: 0.9852     \n",
      "Epoch 247/300\n",
      "1617/1617 [==============================] - 0s - loss: 0.0501 - acc: 0.9814     \n",
      "Epoch 248/300\n",
      "1617/1617 [==============================] - 0s - loss: 0.0428 - acc: 0.9845     \n",
      "Epoch 249/300\n",
      "1617/1617 [==============================] - 0s - loss: 0.0511 - acc: 0.9790     \n",
      "Epoch 250/300\n",
      "1617/1617 [==============================] - 0s - loss: 0.0530 - acc: 0.9821     \n",
      "Epoch 251/300\n",
      "1617/1617 [==============================] - 0s - loss: 0.0540 - acc: 0.9821     \n",
      "Epoch 252/300\n",
      "1617/1617 [==============================] - 0s - loss: 0.0534 - acc: 0.9821     \n",
      "Epoch 253/300\n",
      "1617/1617 [==============================] - 0s - loss: 0.0589 - acc: 0.9790     \n",
      "Epoch 254/300\n",
      "1617/1617 [==============================] - 0s - loss: 0.0502 - acc: 0.9814     \n",
      "Epoch 255/300\n",
      "1617/1617 [==============================] - 0s - loss: 0.0471 - acc: 0.9821     \n",
      "Epoch 256/300\n",
      "1617/1617 [==============================] - 0s - loss: 0.0585 - acc: 0.9784     \n",
      "Epoch 257/300\n",
      "1617/1617 [==============================] - 0s - loss: 0.0593 - acc: 0.9753     \n",
      "Epoch 258/300\n",
      "1617/1617 [==============================] - 0s - loss: 0.0596 - acc: 0.9753     \n",
      "Epoch 259/300\n",
      "1617/1617 [==============================] - 0s - loss: 0.0520 - acc: 0.9802     \n",
      "Epoch 260/300\n",
      "1617/1617 [==============================] - 0s - loss: 0.0420 - acc: 0.9852     \n",
      "Epoch 261/300\n",
      "1617/1617 [==============================] - 0s - loss: 0.0510 - acc: 0.9796     \n",
      "Epoch 262/300\n",
      "1617/1617 [==============================] - 0s - loss: 0.0539 - acc: 0.9833     \n",
      "Epoch 263/300\n",
      "1617/1617 [==============================] - 0s - loss: 0.0497 - acc: 0.9796     \n",
      "Epoch 264/300\n",
      "1617/1617 [==============================] - 0s - loss: 0.0431 - acc: 0.9814     \n",
      "Epoch 265/300\n",
      "1617/1617 [==============================] - 0s - loss: 0.0452 - acc: 0.9870     \n",
      "Epoch 266/300\n",
      "1617/1617 [==============================] - 0s - loss: 0.0568 - acc: 0.9771     \n",
      "Epoch 267/300\n",
      "1617/1617 [==============================] - 0s - loss: 0.0440 - acc: 0.9870     \n",
      "Epoch 268/300\n",
      "1617/1617 [==============================] - 0s - loss: 0.0586 - acc: 0.9784     \n",
      "Epoch 269/300\n",
      "1617/1617 [==============================] - 0s - loss: 0.0466 - acc: 0.9808     \n",
      "Epoch 270/300\n",
      "1617/1617 [==============================] - 0s - loss: 0.0448 - acc: 0.9827     \n",
      "Epoch 271/300\n",
      "1617/1617 [==============================] - 0s - loss: 0.0459 - acc: 0.9814     \n",
      "Epoch 272/300\n",
      "1617/1617 [==============================] - 0s - loss: 0.0540 - acc: 0.9784     \n",
      "Epoch 273/300\n",
      "1617/1617 [==============================] - 0s - loss: 0.0459 - acc: 0.9821     \n",
      "Epoch 274/300\n",
      "1617/1617 [==============================] - 0s - loss: 0.0473 - acc: 0.9808     \n",
      "Epoch 275/300\n",
      "1617/1617 [==============================] - 0s - loss: 0.0570 - acc: 0.9784     \n",
      "Epoch 276/300\n",
      "1617/1617 [==============================] - 0s - loss: 0.0527 - acc: 0.9802     \n",
      "Epoch 277/300\n",
      "1617/1617 [==============================] - 0s - loss: 0.0507 - acc: 0.9821     \n",
      "Epoch 278/300\n",
      "1617/1617 [==============================] - 0s - loss: 0.0436 - acc: 0.9858     \n",
      "Epoch 279/300\n",
      "1617/1617 [==============================] - 0s - loss: 0.0467 - acc: 0.9852     \n",
      "Epoch 280/300\n",
      "1617/1617 [==============================] - 0s - loss: 0.0603 - acc: 0.9796     \n",
      "Epoch 281/300\n",
      "1617/1617 [==============================] - 0s - loss: 0.0451 - acc: 0.9839     \n",
      "Epoch 282/300\n",
      "1617/1617 [==============================] - 0s - loss: 0.0510 - acc: 0.9833     \n",
      "Epoch 283/300\n",
      "1617/1617 [==============================] - 0s - loss: 0.0511 - acc: 0.9821     \n",
      "Epoch 284/300\n",
      "1617/1617 [==============================] - 0s - loss: 0.0511 - acc: 0.9814     \n",
      "Epoch 285/300\n",
      "1617/1617 [==============================] - 0s - loss: 0.0428 - acc: 0.9858     \n",
      "Epoch 286/300\n",
      "1617/1617 [==============================] - 0s - loss: 0.0434 - acc: 0.9845     \n",
      "Epoch 287/300\n",
      "1617/1617 [==============================] - 0s - loss: 0.0430 - acc: 0.9839     \n",
      "Epoch 288/300\n",
      "1617/1617 [==============================] - 0s - loss: 0.0394 - acc: 0.9864     \n",
      "Epoch 289/300\n",
      "1617/1617 [==============================] - 0s - loss: 0.0534 - acc: 0.9827     \n",
      "Epoch 290/300\n",
      "1617/1617 [==============================] - 0s - loss: 0.0414 - acc: 0.9845     \n",
      "Epoch 291/300\n",
      "1617/1617 [==============================] - 0s - loss: 0.0315 - acc: 0.9876     \n",
      "Epoch 292/300\n",
      "1617/1617 [==============================] - 0s - loss: 0.0401 - acc: 0.9833     \n",
      "Epoch 293/300\n",
      "1617/1617 [==============================] - 0s - loss: 0.0599 - acc: 0.9765     \n",
      "Epoch 294/300\n",
      "1617/1617 [==============================] - 0s - loss: 0.0501 - acc: 0.9864     \n",
      "Epoch 295/300\n",
      "1617/1617 [==============================] - 0s - loss: 0.0475 - acc: 0.9833     \n",
      "Epoch 296/300\n",
      "1617/1617 [==============================] - 0s - loss: 0.0409 - acc: 0.9839     \n",
      "Epoch 297/300\n",
      "1617/1617 [==============================] - 0s - loss: 0.0535 - acc: 0.9784     \n",
      "Epoch 298/300\n",
      "1617/1617 [==============================] - 0s - loss: 0.0540 - acc: 0.9784     \n",
      "Epoch 299/300\n",
      "1617/1617 [==============================] - 0s - loss: 0.0523 - acc: 0.9839     \n",
      "Epoch 300/300\n",
      "1617/1617 [==============================] - 0s - loss: 0.0438 - acc: 0.9845     \n"
     ]
    }
   ],
   "source": [
    "history2 = model2.fit(X_train_encoded, y_train_encoded.toarray(), nb_epoch=epochs, batch_size=batch_size, verbose=1)"
   ]
  },
  {
   "cell_type": "code",
   "execution_count": 40,
   "metadata": {
    "collapsed": false
   },
   "outputs": [
    {
     "name": "stdout",
     "output_type": "stream",
     "text": [
      "500/693 [====================>.........] - ETA: 0sLoss: 0.14, Accuracy: 96.97%\n"
     ]
    }
   ],
   "source": [
    "loss2, accuracy2 = model2.evaluate(X_test_encoded, y_test_encoded.toarray(), batch_size=batch_size)\n",
    "print(\"Loss: %.2f, Accuracy: %.2f%%\" % (loss2, accuracy2*100))"
   ]
  },
  {
   "cell_type": "markdown",
   "metadata": {},
   "source": [
    "### visualizing learning/loss curve"
   ]
  },
  {
   "cell_type": "code",
   "execution_count": 41,
   "metadata": {
    "collapsed": true
   },
   "outputs": [],
   "source": [
    "import matplotlib.pyplot as plt\n",
    "plt.style.use('ggplot')"
   ]
  },
  {
   "cell_type": "code",
   "execution_count": 42,
   "metadata": {
    "collapsed": false
   },
   "outputs": [
    {
     "data": {
      "image/png": "[encoded data removed]",
      "text/plain": [
       "<matplotlib.figure.Figure at 0x7f27e41e1910>"
      ]
     },
     "metadata": {},
     "output_type": "display_data"
    }
   ],
   "source": [
    "f, (ax1, ax2) = plt.subplots(1, 2, sharey=True, figsize=(12,4))\n",
    "\n",
    "ax1.plot(history.history['acc'], label='acc')\n",
    "ax1.plot(history.history['loss'], label='loss')\n",
    "ax1.set_ylim([0,2])\n",
    "ax1.legend()\n",
    "ax1.set_xlabel('Epochs')\n",
    "ax1.set_title('learning/loss curve with raw data')\n",
    "\n",
    "ax2.plot(history2.history['acc'], label='acc')\n",
    "ax2.plot(history2.history['loss'], label='loss')\n",
    "ax2.legend()\n",
    "ax2.set_xlabel('Epochs')\n",
    "ax2.set_title('learning/loss curve with encoded data')\n",
    "\n",
    "plt.show()"
   ]
  },
  {
   "cell_type": "markdown",
   "metadata": {},
   "source": [
    "## Summary"
   ]
  },
  {
   "cell_type": "code",
   "execution_count": 43,
   "metadata": {
    "collapsed": false
   },
   "outputs": [],
   "source": [
    "raw_values = [\n",
    "    ('linear model', linear_score, 'red'), \n",
    "    ('non-linear svm', svm_score, 'yellow'),\n",
    "    ('knn', knn_score, 'blue'), \n",
    "    ('random forest', tree_score, 'green'), \n",
    "    ('neural network',accuracy, 'magenta')\n",
    "]\n",
    "encoded_values = [\n",
    "    ('linear model',linear_score2, 'red'), \n",
    "    ('non-linear svm', svm_score2, 'yellow'),\n",
    "    ('knn',knn_score2, 'blue'), \n",
    "    ('random forest', tree_score2, 'green'), \n",
    "    ('neural network',accuracy2, 'magenta')\n",
    "]\n",
    "\n",
    "# sort model names and scores\n",
    "raw_models = [i[0] for i in sorted(raw_values, key=lambda x: x[1])]\n",
    "raw_scores = [i[1] for i in sorted(raw_values, key=lambda x: x[1])]\n",
    "raw_colors = [i[2] for i in sorted(raw_values, key=lambda x: x[1])]\n",
    "\n",
    "encoded_models = [i[0] for i in sorted(encoded_values, key=lambda x: x[1])]\n",
    "encoded_scores = [i[1] for i in sorted(encoded_values, key=lambda x: x[1])]\n",
    "encoded_colors = [i[2] for i in sorted(encoded_values, key=lambda x: x[1])]"
   ]
  },
  {
   "cell_type": "code",
   "execution_count": 45,
   "metadata": {
    "collapsed": false
   },
   "outputs": [
    {
     "data": {
      "image/png": "[encoded data removed]",
      "text/plain": [
       "<matplotlib.figure.Figure at 0x7f27e407f650>"
      ]
     },
     "metadata": {},
     "output_type": "display_data"
    }
   ],
   "source": [
    "f, (ax1, ax2) = plt.subplots(2, 1, sharey=False, figsize=(10,10))\n",
    "\n",
    "y = range(len(raw_models))\n",
    "ax1.bar(y, raw_scores, align='center', alpha=0.5, color=raw_colors)\n",
    "ax1.set_ylabel('Accuracy Score')\n",
    "ax1.set_xticks(y)\n",
    "ax1.set_xticklabels(raw_models)\n",
    "ax1.set_title('model ranking with raw data')\n",
    "\n",
    "y2 = range(len(encoded_models))\n",
    "ax2.bar(y2, encoded_scores, align='center', alpha=0.5, color=encoded_colors)\n",
    "ax2.set_ylabel('Accuracy Score')\n",
    "ax2.set_xticks(y2)\n",
    "ax2.set_xticklabels(encoded_models)\n",
    "ax2.set_title('model ranking with encoded data')\n",
    "\n",
    "plt.show()"
   ]
  }
 ],
 "metadata": {
  "anaconda-cloud": {},
  "kernelspec": {
   "display_name": "Python [default]",
   "language": "python",
   "name": "python2"
  },
  "language_info": {
   "codemirror_mode": {
    "name": "ipython",
    "version": 2
   },
   "file_extension": ".py",
   "mimetype": "text/x-python",
   "name": "python",
   "nbconvert_exporter": "python",
   "pygments_lexer": "ipython2",
   "version": "2.7.12"
  }
 },
 "nbformat": 4,
 "nbformat_minor": 1
}
