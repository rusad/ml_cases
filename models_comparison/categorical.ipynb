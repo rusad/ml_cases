{
 "cells": [
  {
   "cell_type": "markdown",
   "metadata": {},
   "source": [
    "# Poker Hand Data Set \n",
    "\n",
    "#### Data Set Information:\n",
    "\n",
    "Each record is an example of a hand consisting of five playing cards drawn from a standard deck of 52. Each card is described using two attributes (suit and rank), for a total of 10 predictive attributes. There is one Class attribute that describes the \"Poker Hand\". The order of cards is important, which is why there are 480 possible Royal Flush hands as compared to 4 (one for each suit - explained in [<a href=\"https://archive.ics.uci.edu/ml/machine-learning-databases/poker/poker-hand.names\">Web Link</a>]).\n",
    "\n",
    "#### Attribute Information:\n",
    "\n",
    "1) S1 \"Suit of card #1\" \n",
    "Ordinal (1-4) representing {Hearts, Spades, Diamonds, Clubs} \n",
    "\n",
    "2) C1 \"Rank of card #1\" \n",
    "Numerical (1-13) representing (Ace, 2, 3, ... , Queen, King) \n",
    "\n",
    "3) S2 \"Suit of card #2\" \n",
    "Ordinal (1-4) representing {Hearts, Spades, Diamonds, Clubs} \n",
    "\n",
    "4) C2 \"Rank of card #2\" \n",
    "Numerical (1-13) representing (Ace, 2, 3, ... , Queen, King) \n",
    "\n",
    "5) S3 \"Suit of card #3\" \n",
    "Ordinal (1-4) representing {Hearts, Spades, Diamonds, Clubs} \n",
    "\n",
    "6) C3 \"Rank of card #3\" \n",
    "Numerical (1-13) representing (Ace, 2, 3, ... , Queen, King) \n",
    "\n",
    "7) S4 \"Suit of card #4\" \n",
    "Ordinal (1-4) representing {Hearts, Spades, Diamonds, Clubs} \n",
    "\n",
    "8) C4 \"Rank of card #4\" \n",
    "Numerical (1-13) representing (Ace, 2, 3, ... , Queen, King) \n",
    "\n",
    "9) S5 \"Suit of card #5\" \n",
    "Ordinal (1-4) representing {Hearts, Spades, Diamonds, Clubs} \n",
    "\n",
    "10) C5 \"Rank of card 5\" \n",
    "Numerical (1-13) representing (Ace, 2, 3, ... , Queen, King) \n",
    "\n",
    "11) CLASS \"Poker Hand\" \n",
    "Ordinal (0-9)\n",
    "    - 0: Nothing in hand; not a recognized poker hand\n",
    "    - 1: One pair; one pair of equal ranks within five cards\n",
    "    - 2: Two pairs; two pairs of equal ranks within five cards\n",
    "    - 3: Three of a kind; three equal ranks within five cards\n",
    "    - 4: Straight; five cards, sequentially ranked with no gaps \n",
    "    - 5: Flush; five cards with the same suit \n",
    "    - 6: Full house; pair + different rank three of a kind \n",
    "    - 7: Four of a kind; four equal ranks within five cards \n",
    "    - 8: Straight flush; straight + flush \n",
    "    - 9: Royal flush; {Ace, King, Queen, Jack, Ten} + flush"
   ]
  },
  {
   "cell_type": "markdown",
   "metadata": {},
   "source": [
    "# Contents Navigation\n",
    "<ul>\n",
    "    <li><a href=\"#Data-Load\">Data Load</a></li>\n",
    "    <li><a href=\"#Data-Preprocessing\">Data Preprocessing</a></li>\n",
    "    <li><a href=\"#Linear-Models\">LinearModels</a></li>\n",
    "    <li><a href=\"#KNN\">KNN</a></li>\n",
    "    <li><a href=\"#Random-Forest\">Random Forest</a></li>\n",
    "    <li><a href=\"#Neural-Network\">Neural Network</a></li>\n",
    "    <li><a href=\"#Summary\">Summary</a></li>\n",
    "</ul>"
   ]
  },
  {
   "cell_type": "code",
   "execution_count": 1,
   "metadata": {
    "collapsed": true
   },
   "outputs": [],
   "source": [
    "import pandas as pd"
   ]
  },
  {
   "cell_type": "markdown",
   "metadata": {},
   "source": [
    "## Data Load"
   ]
  },
  {
   "cell_type": "code",
   "execution_count": 2,
   "metadata": {
    "collapsed": true
   },
   "outputs": [],
   "source": [
    "column_names = ['S1','C1','S2','C2','S3','C3','S4', 'C4', 'S5', 'C5', 'class',]\n",
    "# try to load data from local path\n",
    "# if error occurred then trying to load data from UCI repo\n",
    "try:\n",
    "    train = pd.read_csv('data/poker-hand-training-true1.data', names=column_names)\n",
    "    test = pd.read_csv('data/poker-hand-testing.data', names=column_names)\n",
    "except IOError:\n",
    "    import urllib\n",
    "    \n",
    "    trainurl = \"https://archive.ics.uci.edu/ml/machine-learning-databases/poker/poker-hand-training-true.data\"\n",
    "    testurl = \"https://archive.ics.uci.edu/ml/machine-learning-databases/poker/poker-hand-testing.data\"\n",
    "\n",
    "    raw_train = urllib.urlopen(trainurl)\n",
    "    raw_test = urllib.urlopen(testurl)\n",
    "\n",
    "    train = pd.read_csv(raw_train, names=column_names)\n",
    "    test = pd.read_csv(raw_test, names=column_names)"
   ]
  },
  {
   "cell_type": "code",
   "execution_count": 3,
   "metadata": {
    "collapsed": false
   },
   "outputs": [
    {
     "data": {
      "text/plain": [
       "((25010, 11), (1000000, 11))"
      ]
     },
     "execution_count": 3,
     "metadata": {},
     "output_type": "execute_result"
    }
   ],
   "source": [
    "train.shape, test.shape"
   ]
  },
  {
   "cell_type": "code",
   "execution_count": 4,
   "metadata": {
    "collapsed": true
   },
   "outputs": [],
   "source": [
    "X_train, y_train = train.ix[:,:10], train.ix[:,10]\n",
    "X_test, y_test = test.ix[:,:10], test.ix[:,10]"
   ]
  },
  {
   "cell_type": "markdown",
   "metadata": {},
   "source": [
    "## Data Preprocessing\n",
    "\n",
    "It is obvious that suit and rank of cards is categorical data, so it is useful to make some preprocessing steps before go further. To preprocess such data we transform it with one-hot encoding."
   ]
  },
  {
   "cell_type": "code",
   "execution_count": 5,
   "metadata": {
    "collapsed": false
   },
   "outputs": [
    {
     "name": "stderr",
     "output_type": "stream",
     "text": [
      "Using Theano backend.\n"
     ]
    }
   ],
   "source": [
    "from sklearn import preprocessing\n",
    "from keras.utils import np_utils"
   ]
  },
  {
   "cell_type": "code",
   "execution_count": 6,
   "metadata": {
    "collapsed": false
   },
   "outputs": [
    {
     "data": {
      "text/plain": [
       "((25010, 85), (1000000, 85))"
      ]
     },
     "execution_count": 6,
     "metadata": {},
     "output_type": "execute_result"
    }
   ],
   "source": [
    "# for preprocessing arrays with 2 and more dims using sklearn preprocessing module\n",
    "encoder = preprocessing.OneHotEncoder(sparse = False)\n",
    "X_train_encoded = encoder.fit_transform(X_train.values)\n",
    "X_test_encoded = encoder.fit_transform(X_test.values)\n",
    "\n",
    "X_train_encoded.shape, X_test_encoded.shape"
   ]
  },
  {
   "cell_type": "code",
   "execution_count": 7,
   "metadata": {
    "collapsed": false
   },
   "outputs": [
    {
     "data": {
      "text/plain": [
       "((25010, 10), (1000000, 10))"
      ]
     },
     "execution_count": 7,
     "metadata": {},
     "output_type": "execute_result"
    }
   ],
   "source": [
    "# for preprocessing arrays with 1 dim using keras np_utils module\n",
    "y_train_encoded = np_utils.to_categorical(y_train)\n",
    "y_test_encoded = np_utils.to_categorical(y_test)\n",
    "\n",
    "y_train_encoded.shape, y_test_encoded.shape"
   ]
  },
  {
   "cell_type": "markdown",
   "metadata": {},
   "source": [
    "We try to apply some linear models, KNN, Random Forest and fully-connected Neural Network with raw data and encoded data, then we compare all of this models by its performance."
   ]
  },
  {
   "cell_type": "markdown",
   "metadata": {},
   "source": [
    "## Linear Models"
   ]
  },
  {
   "cell_type": "code",
   "execution_count": 8,
   "metadata": {
    "collapsed": false
   },
   "outputs": [],
   "source": [
    "from sklearn import linear_model, grid_search, cross_validation"
   ]
  },
  {
   "cell_type": "code",
   "execution_count": 9,
   "metadata": {
    "collapsed": false
   },
   "outputs": [],
   "source": [
    "cv = cross_validation.StratifiedShuffleSplit(y_train, n_iter=5, test_size=0.2, random_state=0)\n",
    "\n",
    "parameters = {'loss':['hinge', 'log', 'modified_huber', 'squared_hinge', 'perceptron'],\n",
    "              'penalty':['l2', 'l1', 'elasticnet']}\n",
    "\n",
    "sgd = linear_model.SGDClassifier()"
   ]
  },
  {
   "cell_type": "markdown",
   "metadata": {},
   "source": [
    "### with raw data"
   ]
  },
  {
   "cell_type": "code",
   "execution_count": 10,
   "metadata": {
    "collapsed": false
   },
   "outputs": [],
   "source": [
    "grid = grid_search.GridSearchCV(sgd, parameters, scoring='accuracy', cv=cv).fit(X_train, y_train)"
   ]
  },
  {
   "cell_type": "code",
   "execution_count": 12,
   "metadata": {
    "collapsed": false
   },
   "outputs": [
    {
     "name": "stdout",
     "output_type": "stream",
     "text": [
      "Best training score: 0.460363781731\n",
      "Best linear model params: {'penalty': 'l1', 'loss': 'perceptron'}\n",
      "Accuracy score on test data: 0.444597\n"
     ]
    }
   ],
   "source": [
    "print 'Best training score: {}'.format(grid.best_score_)\n",
    "print 'Best linear model params: {}'.format(grid.best_params_)\n",
    "\n",
    "linear_score = grid.score(X_test, y_test)\n",
    "print 'Accuracy score on test data: {}'.format(linear_score)"
   ]
  },
  {
   "cell_type": "markdown",
   "metadata": {},
   "source": [
    "### with encoded data"
   ]
  },
  {
   "cell_type": "code",
   "execution_count": 13,
   "metadata": {
    "collapsed": true
   },
   "outputs": [],
   "source": [
    "grid2 = grid_search.GridSearchCV(sgd, parameters, scoring='accuracy', cv=cv).fit(X_train_encoded, y_train)"
   ]
  },
  {
   "cell_type": "code",
   "execution_count": 14,
   "metadata": {
    "collapsed": false
   },
   "outputs": [
    {
     "name": "stdout",
     "output_type": "stream",
     "text": [
      "Best training score: 0.482990205876\n",
      "Best linear model params: {'penalty': 'l1', 'loss': 'log'}\n",
      "Accuracy score on test data: 0.493275\n"
     ]
    }
   ],
   "source": [
    "print 'Best training score: {}'.format(grid2.best_score_)\n",
    "print 'Best linear model params: {}'.format(grid2.best_params_)\n",
    "\n",
    "linear_score2 = grid2.score(X_test_encoded, y_test)\n",
    "print 'Accuracy score on test data: {}'.format(linear_score2)"
   ]
  },
  {
   "cell_type": "markdown",
   "metadata": {},
   "source": [
    "## KNN"
   ]
  },
  {
   "cell_type": "code",
   "execution_count": 15,
   "metadata": {
    "collapsed": true
   },
   "outputs": [],
   "source": [
    "from sklearn import neighbors"
   ]
  },
  {
   "cell_type": "markdown",
   "metadata": {},
   "source": [
    "### with raw data"
   ]
  },
  {
   "cell_type": "code",
   "execution_count": 16,
   "metadata": {
    "collapsed": false
   },
   "outputs": [],
   "source": [
    "knn = neighbors.KNeighborsClassifier(n_neighbors=4, weights='distance', \n",
    "                                      algorithm='brute').fit(X_train, y_train)"
   ]
  },
  {
   "cell_type": "code",
   "execution_count": 17,
   "metadata": {
    "collapsed": false
   },
   "outputs": [],
   "source": [
    "# to avoid MemoryError issue let's evaluate the model only on 30000 instances \n",
    "# we do this by batches\n",
    "i , batch_size= 0, 2000\n",
    "scores = []\n",
    "while i < len(X_test[0:30000]):\n",
    "    start = i\n",
    "    end = i + batch_size\n",
    "    score = knn.score(X_test[start:end], y_test[start:end])\n",
    "    scores.append(score)\n",
    "    i += batch_size"
   ]
  },
  {
   "cell_type": "code",
   "execution_count": 18,
   "metadata": {
    "collapsed": false
   },
   "outputs": [
    {
     "name": "stdout",
     "output_type": "stream",
     "text": [
      "Accuracy score on test data: 0.547333333333\n"
     ]
    }
   ],
   "source": [
    "knn_score = sum(scores) / float(len(scores))\n",
    "print 'Accuracy score on test data: {}'.format(knn_score)"
   ]
  },
  {
   "cell_type": "markdown",
   "metadata": {},
   "source": [
    "### with encoded data"
   ]
  },
  {
   "cell_type": "code",
   "execution_count": 19,
   "metadata": {
    "collapsed": true
   },
   "outputs": [],
   "source": [
    "knn2 = neighbors.KNeighborsClassifier(n_neighbors=4, weights='distance', \n",
    "                                      algorithm='brute').fit(X_train_encoded, y_train)"
   ]
  },
  {
   "cell_type": "code",
   "execution_count": 20,
   "metadata": {
    "collapsed": false,
    "scrolled": true
   },
   "outputs": [],
   "source": [
    "i , batch_size= 0, 2000\n",
    "scores2 = []\n",
    "while i < len(X_test[0:30000]):\n",
    "    start = i\n",
    "    end = i + batch_size\n",
    "    score = knn2.score(X_test_encoded[start:end], y_test[start:end])\n",
    "    scores2.append(score)\n",
    "    i += batch_size"
   ]
  },
  {
   "cell_type": "code",
   "execution_count": 21,
   "metadata": {
    "collapsed": false
   },
   "outputs": [
    {
     "name": "stdout",
     "output_type": "stream",
     "text": [
      "Accuracy score on test data: 0.537833333333\n"
     ]
    }
   ],
   "source": [
    "knn_score2 = sum(scores2) / float(len(scores2))\n",
    "print 'Accuracy score on test data: {}'.format(knn_score2)"
   ]
  },
  {
   "cell_type": "markdown",
   "metadata": {},
   "source": [
    "## Random Forest"
   ]
  },
  {
   "cell_type": "code",
   "execution_count": 22,
   "metadata": {
    "collapsed": true
   },
   "outputs": [],
   "source": [
    "from sklearn import ensemble"
   ]
  },
  {
   "cell_type": "markdown",
   "metadata": {},
   "source": [
    "### with raw data"
   ]
  },
  {
   "cell_type": "code",
   "execution_count": 23,
   "metadata": {
    "collapsed": true
   },
   "outputs": [],
   "source": [
    "tree = ensemble.RandomForestClassifier(n_estimators=100, criterion='gini',\n",
    "                                       max_depth=10).fit(X_train, y_train)"
   ]
  },
  {
   "cell_type": "code",
   "execution_count": 24,
   "metadata": {
    "collapsed": false
   },
   "outputs": [
    {
     "name": "stdout",
     "output_type": "stream",
     "text": [
      "Accuracy score on test data: 0.60816\n"
     ]
    }
   ],
   "source": [
    "# to avoid MemoryError issue let's evaluate the model only on 50000 instances \n",
    "tree_score = tree.score(X_test[0:50000], y_test[0:50000])\n",
    "print 'Accuracy score on test data: {}'.format(tree_score)"
   ]
  },
  {
   "cell_type": "markdown",
   "metadata": {},
   "source": [
    "### with encoded data"
   ]
  },
  {
   "cell_type": "code",
   "execution_count": 25,
   "metadata": {
    "collapsed": false
   },
   "outputs": [],
   "source": [
    "tree2 = ensemble.RandomForestClassifier(n_estimators=100, criterion='gini',\n",
    "                                        max_depth=10).fit(X_train_encoded, y_train)"
   ]
  },
  {
   "cell_type": "code",
   "execution_count": 26,
   "metadata": {
    "collapsed": false
   },
   "outputs": [
    {
     "name": "stdout",
     "output_type": "stream",
     "text": [
      "Accuracy score on test data: 0.55844\n"
     ]
    }
   ],
   "source": [
    "tree_score2 = tree2.score(X_test_encoded[0:50000], y_test[0:50000])\n",
    "print 'Accuracy score on test data: {}'.format(tree_score2)"
   ]
  },
  {
   "cell_type": "markdown",
   "metadata": {
    "collapsed": true
   },
   "source": [
    "## Neural Network"
   ]
  },
  {
   "cell_type": "code",
   "execution_count": 27,
   "metadata": {
    "collapsed": false
   },
   "outputs": [],
   "source": [
    "from keras.models import Sequential\n",
    "from keras.layers import Dense, Dropout"
   ]
  },
  {
   "cell_type": "code",
   "execution_count": 28,
   "metadata": {
    "collapsed": true
   },
   "outputs": [],
   "source": [
    "# to avoid AttributeError: 'module' object has no attribute 'control_flow_ops'\n",
    "# https://github.com/fchollet/keras/issues/3857#issuecomment-255156966\n",
    "import tensorflow\n",
    "from tensorflow.python.ops import control_flow_ops\n",
    "tensorflow.python.control_flow_ops = control_flow_ops"
   ]
  },
  {
   "cell_type": "code",
   "execution_count": 29,
   "metadata": {
    "collapsed": true
   },
   "outputs": [],
   "source": [
    "batch_size = 100\n",
    "epochs = 150"
   ]
  },
  {
   "cell_type": "markdown",
   "metadata": {},
   "source": [
    "### with raw data"
   ]
  },
  {
   "cell_type": "code",
   "execution_count": 30,
   "metadata": {
    "collapsed": true
   },
   "outputs": [],
   "source": [
    "# we apply diamond shape of network based on arguments contained \n",
    "# in unit 4.4. of this paper https://arxiv.org/pdf/1601.02376.pdf\n",
    "model = Sequential()\n",
    "model.add(Dense(20, activation='relu', input_dim=X_train.shape[1]))\n",
    "model.add(Dropout(0.2))\n",
    "model.add(Dense(40, activation='relu'))\n",
    "model.add(Dropout(0.2))\n",
    "model.add(Dense(20, activation='relu'))\n",
    "model.add(Dropout(0.2))\n",
    "model.add(Dense(10,activation='softmax'))\n",
    "model.compile(loss='categorical_crossentropy', optimizer='adam', metrics=['accuracy'])"
   ]
  },
  {
   "cell_type": "code",
   "execution_count": 31,
   "metadata": {
    "collapsed": false,
    "scrolled": true
   },
   "outputs": [
    {
     "name": "stdout",
     "output_type": "stream",
     "text": [
      "Epoch 1/150\n",
      "25010/25010 [==============================] - 0s - loss: 1.3303 - acc: 0.4314     \n",
      "Epoch 2/150\n",
      "25010/25010 [==============================] - 0s - loss: 1.0512 - acc: 0.4799     \n",
      "Epoch 3/150\n",
      "25010/25010 [==============================] - 0s - loss: 1.0226 - acc: 0.4898     \n",
      "Epoch 4/150\n",
      "25010/25010 [==============================] - 0s - loss: 1.0112 - acc: 0.4964     \n",
      "Epoch 5/150\n",
      "25010/25010 [==============================] - 0s - loss: 1.0045 - acc: 0.4956     \n",
      "Epoch 6/150\n",
      "25010/25010 [==============================] - 0s - loss: 0.9993 - acc: 0.4983     \n",
      "Epoch 7/150\n",
      "25010/25010 [==============================] - 0s - loss: 0.9948 - acc: 0.5014     \n",
      "Epoch 8/150\n",
      "25010/25010 [==============================] - 0s - loss: 0.9939 - acc: 0.5004     \n",
      "Epoch 9/150\n",
      "25010/25010 [==============================] - 0s - loss: 0.9908 - acc: 0.4987     \n",
      "Epoch 10/150\n",
      "25010/25010 [==============================] - 0s - loss: 0.9888 - acc: 0.5036     \n",
      "Epoch 11/150\n",
      "25010/25010 [==============================] - 0s - loss: 0.9876 - acc: 0.5038     \n",
      "Epoch 12/150\n",
      "25010/25010 [==============================] - 0s - loss: 0.9842 - acc: 0.5055     \n",
      "Epoch 13/150\n",
      "25010/25010 [==============================] - 0s - loss: 0.9816 - acc: 0.5097     \n",
      "Epoch 14/150\n",
      "25010/25010 [==============================] - 0s - loss: 0.9818 - acc: 0.5086     \n",
      "Epoch 15/150\n",
      "25010/25010 [==============================] - 0s - loss: 0.9832 - acc: 0.5082     \n",
      "Epoch 16/150\n",
      "25010/25010 [==============================] - 0s - loss: 0.9807 - acc: 0.5131     \n",
      "Epoch 17/150\n",
      "25010/25010 [==============================] - 0s - loss: 0.9784 - acc: 0.5178     \n",
      "Epoch 18/150\n",
      "25010/25010 [==============================] - 0s - loss: 0.9784 - acc: 0.5167     \n",
      "Epoch 19/150\n",
      "25010/25010 [==============================] - 0s - loss: 0.9798 - acc: 0.5179     \n",
      "Epoch 20/150\n",
      "25010/25010 [==============================] - 0s - loss: 0.9759 - acc: 0.5240     \n",
      "Epoch 21/150\n",
      "25010/25010 [==============================] - 0s - loss: 0.9772 - acc: 0.5192     \n",
      "Epoch 22/150\n",
      "25010/25010 [==============================] - 0s - loss: 0.9763 - acc: 0.5235     \n",
      "Epoch 23/150\n",
      "25010/25010 [==============================] - 0s - loss: 0.9742 - acc: 0.5238     \n",
      "Epoch 24/150\n",
      "25010/25010 [==============================] - 0s - loss: 0.9757 - acc: 0.5241     \n",
      "Epoch 25/150\n",
      "25010/25010 [==============================] - 0s - loss: 0.9745 - acc: 0.5215     \n",
      "Epoch 26/150\n",
      "25010/25010 [==============================] - 0s - loss: 0.9721 - acc: 0.5273     \n",
      "Epoch 27/150\n",
      "25010/25010 [==============================] - 0s - loss: 0.9724 - acc: 0.5240     \n",
      "Epoch 28/150\n",
      "25010/25010 [==============================] - 0s - loss: 0.9703 - acc: 0.5259     \n",
      "Epoch 29/150\n",
      "25010/25010 [==============================] - 0s - loss: 0.9715 - acc: 0.5265     \n",
      "Epoch 30/150\n",
      "25010/25010 [==============================] - 0s - loss: 0.9684 - acc: 0.5283     \n",
      "Epoch 31/150\n",
      "25010/25010 [==============================] - 0s - loss: 0.9704 - acc: 0.5266     \n",
      "Epoch 32/150\n",
      "25010/25010 [==============================] - 0s - loss: 0.9693 - acc: 0.5260     \n",
      "Epoch 33/150\n",
      "25010/25010 [==============================] - 0s - loss: 0.9679 - acc: 0.5291     \n",
      "Epoch 34/150\n",
      "25010/25010 [==============================] - 0s - loss: 0.9666 - acc: 0.5323     \n",
      "Epoch 35/150\n",
      "25010/25010 [==============================] - 0s - loss: 0.9655 - acc: 0.5270     \n",
      "Epoch 36/150\n",
      "25010/25010 [==============================] - 0s - loss: 0.9640 - acc: 0.5329     \n",
      "Epoch 37/150\n",
      "25010/25010 [==============================] - 0s - loss: 0.9639 - acc: 0.5305     \n",
      "Epoch 38/150\n",
      "25010/25010 [==============================] - 0s - loss: 0.9633 - acc: 0.5337     \n",
      "Epoch 39/150\n",
      "25010/25010 [==============================] - 0s - loss: 0.9602 - acc: 0.5339     \n",
      "Epoch 40/150\n",
      "25010/25010 [==============================] - 0s - loss: 0.9612 - acc: 0.5329     \n",
      "Epoch 41/150\n",
      "25010/25010 [==============================] - 0s - loss: 0.9608 - acc: 0.5310     \n",
      "Epoch 42/150\n",
      "25010/25010 [==============================] - 0s - loss: 0.9593 - acc: 0.5328     \n",
      "Epoch 43/150\n",
      "25010/25010 [==============================] - 0s - loss: 0.9593 - acc: 0.5338     \n",
      "Epoch 44/150\n",
      "25010/25010 [==============================] - 0s - loss: 0.9567 - acc: 0.5349     \n",
      "Epoch 45/150\n",
      "25010/25010 [==============================] - 0s - loss: 0.9566 - acc: 0.5362     \n",
      "Epoch 46/150\n",
      "25010/25010 [==============================] - 0s - loss: 0.9548 - acc: 0.5371     \n",
      "Epoch 47/150\n",
      "25010/25010 [==============================] - 0s - loss: 0.9543 - acc: 0.5411     \n",
      "Epoch 48/150\n",
      "25010/25010 [==============================] - 0s - loss: 0.9556 - acc: 0.5363     \n",
      "Epoch 49/150\n",
      "25010/25010 [==============================] - 0s - loss: 0.9528 - acc: 0.5376     \n",
      "Epoch 50/150\n",
      "25010/25010 [==============================] - 0s - loss: 0.9535 - acc: 0.5365     \n",
      "Epoch 51/150\n",
      "25010/25010 [==============================] - 0s - loss: 0.9549 - acc: 0.5389     \n",
      "Epoch 52/150\n",
      "25010/25010 [==============================] - 0s - loss: 0.9515 - acc: 0.5393     \n",
      "Epoch 53/150\n",
      "25010/25010 [==============================] - 0s - loss: 0.9528 - acc: 0.5399     \n",
      "Epoch 54/150\n",
      "25010/25010 [==============================] - 0s - loss: 0.9515 - acc: 0.5441     \n",
      "Epoch 55/150\n",
      "25010/25010 [==============================] - 0s - loss: 0.9530 - acc: 0.5445     \n",
      "Epoch 56/150\n",
      "25010/25010 [==============================] - 0s - loss: 0.9502 - acc: 0.5391     \n",
      "Epoch 57/150\n",
      "25010/25010 [==============================] - 0s - loss: 0.9508 - acc: 0.5403     \n",
      "Epoch 58/150\n",
      "25010/25010 [==============================] - 0s - loss: 0.9486 - acc: 0.5438     \n",
      "Epoch 59/150\n",
      "25010/25010 [==============================] - 0s - loss: 0.9472 - acc: 0.5459     \n",
      "Epoch 60/150\n",
      "25010/25010 [==============================] - 0s - loss: 0.9486 - acc: 0.5467     \n",
      "Epoch 61/150\n",
      "25010/25010 [==============================] - 0s - loss: 0.9492 - acc: 0.5450     \n",
      "Epoch 62/150\n",
      "25010/25010 [==============================] - 0s - loss: 0.9467 - acc: 0.5411     \n",
      "Epoch 63/150\n",
      "25010/25010 [==============================] - 0s - loss: 0.9462 - acc: 0.5449     \n",
      "Epoch 64/150\n",
      "25010/25010 [==============================] - 0s - loss: 0.9477 - acc: 0.5440     \n",
      "Epoch 65/150\n",
      "25010/25010 [==============================] - 0s - loss: 0.9437 - acc: 0.5469     \n",
      "Epoch 66/150\n",
      "25010/25010 [==============================] - 0s - loss: 0.9467 - acc: 0.5463     \n",
      "Epoch 67/150\n",
      "25010/25010 [==============================] - 0s - loss: 0.9436 - acc: 0.5466     \n",
      "Epoch 68/150\n",
      "25010/25010 [==============================] - 0s - loss: 0.9473 - acc: 0.5479     \n",
      "Epoch 69/150\n",
      "25010/25010 [==============================] - 0s - loss: 0.9435 - acc: 0.5494     \n",
      "Epoch 70/150\n",
      "25010/25010 [==============================] - 0s - loss: 0.9443 - acc: 0.5497     \n",
      "Epoch 71/150\n",
      "25010/25010 [==============================] - 0s - loss: 0.9406 - acc: 0.5501     \n",
      "Epoch 72/150\n",
      "25010/25010 [==============================] - 0s - loss: 0.9397 - acc: 0.5522     \n",
      "Epoch 73/150\n",
      "25010/25010 [==============================] - 0s - loss: 0.9437 - acc: 0.5489     \n",
      "Epoch 74/150\n",
      "25010/25010 [==============================] - 0s - loss: 0.9419 - acc: 0.5501     \n",
      "Epoch 75/150\n",
      "25010/25010 [==============================] - 0s - loss: 0.9416 - acc: 0.5484     \n",
      "Epoch 76/150\n",
      "25010/25010 [==============================] - 0s - loss: 0.9411 - acc: 0.5489     \n",
      "Epoch 77/150\n",
      "25010/25010 [==============================] - 0s - loss: 0.9408 - acc: 0.5507     \n",
      "Epoch 78/150\n",
      "25010/25010 [==============================] - 0s - loss: 0.9401 - acc: 0.5525     \n",
      "Epoch 79/150\n",
      "25010/25010 [==============================] - 0s - loss: 0.9384 - acc: 0.5536     \n",
      "Epoch 80/150\n",
      "25010/25010 [==============================] - 0s - loss: 0.9396 - acc: 0.5543     \n",
      "Epoch 81/150\n",
      "25010/25010 [==============================] - 0s - loss: 0.9378 - acc: 0.5544     \n",
      "Epoch 82/150\n",
      "25010/25010 [==============================] - 0s - loss: 0.9366 - acc: 0.5533     \n",
      "Epoch 83/150\n",
      "25010/25010 [==============================] - 0s - loss: 0.9360 - acc: 0.5549     \n",
      "Epoch 84/150\n",
      "25010/25010 [==============================] - 0s - loss: 0.9389 - acc: 0.5520     \n",
      "Epoch 85/150\n",
      "25010/25010 [==============================] - 0s - loss: 0.9375 - acc: 0.5524     \n",
      "Epoch 86/150\n",
      "25010/25010 [==============================] - 0s - loss: 0.9355 - acc: 0.5569     \n",
      "Epoch 87/150\n",
      "25010/25010 [==============================] - 0s - loss: 0.9370 - acc: 0.5567     \n",
      "Epoch 88/150\n",
      "25010/25010 [==============================] - 0s - loss: 0.9356 - acc: 0.5563     \n",
      "Epoch 89/150\n",
      "25010/25010 [==============================] - 0s - loss: 0.9358 - acc: 0.5545     \n",
      "Epoch 90/150\n",
      "25010/25010 [==============================] - 0s - loss: 0.9361 - acc: 0.5536     \n",
      "Epoch 91/150\n",
      "25010/25010 [==============================] - 0s - loss: 0.9342 - acc: 0.5500     \n",
      "Epoch 92/150\n",
      "25010/25010 [==============================] - 0s - loss: 0.9367 - acc: 0.5552     \n",
      "Epoch 93/150\n",
      "25010/25010 [==============================] - 0s - loss: 0.9351 - acc: 0.5534     \n",
      "Epoch 94/150\n",
      "25010/25010 [==============================] - 0s - loss: 0.9338 - acc: 0.5547     \n",
      "Epoch 95/150\n",
      "25010/25010 [==============================] - 0s - loss: 0.9359 - acc: 0.5505     \n",
      "Epoch 96/150\n",
      "25010/25010 [==============================] - 0s - loss: 0.9322 - acc: 0.5565     \n",
      "Epoch 97/150\n",
      "25010/25010 [==============================] - 0s - loss: 0.9336 - acc: 0.5590     \n",
      "Epoch 98/150\n",
      "25010/25010 [==============================] - 0s - loss: 0.9332 - acc: 0.5588     \n",
      "Epoch 99/150\n",
      "25010/25010 [==============================] - 0s - loss: 0.9310 - acc: 0.5563     \n",
      "Epoch 100/150\n",
      "25010/25010 [==============================] - 0s - loss: 0.9326 - acc: 0.5583     \n",
      "Epoch 101/150\n",
      "25010/25010 [==============================] - 0s - loss: 0.9330 - acc: 0.5586     \n",
      "Epoch 102/150\n",
      "25010/25010 [==============================] - 0s - loss: 0.9326 - acc: 0.5565     \n",
      "Epoch 103/150\n",
      "25010/25010 [==============================] - 0s - loss: 0.9296 - acc: 0.5616     \n",
      "Epoch 104/150\n",
      "25010/25010 [==============================] - 0s - loss: 0.9293 - acc: 0.5576     \n",
      "Epoch 105/150\n",
      "25010/25010 [==============================] - 0s - loss: 0.9308 - acc: 0.5590     \n",
      "Epoch 106/150\n",
      "25010/25010 [==============================] - 0s - loss: 0.9337 - acc: 0.5570     \n",
      "Epoch 107/150\n",
      "25010/25010 [==============================] - 0s - loss: 0.9313 - acc: 0.5578     \n",
      "Epoch 108/150\n",
      "25010/25010 [==============================] - 0s - loss: 0.9267 - acc: 0.5609     \n",
      "Epoch 109/150\n",
      "25010/25010 [==============================] - 0s - loss: 0.9300 - acc: 0.5585     \n",
      "Epoch 110/150\n",
      "25010/25010 [==============================] - 0s - loss: 0.9282 - acc: 0.5597     \n",
      "Epoch 111/150\n",
      "25010/25010 [==============================] - 0s - loss: 0.9260 - acc: 0.5631     \n",
      "Epoch 112/150\n",
      "25010/25010 [==============================] - 0s - loss: 0.9298 - acc: 0.5624     \n",
      "Epoch 113/150\n",
      "25010/25010 [==============================] - 0s - loss: 0.9279 - acc: 0.5621     \n",
      "Epoch 114/150\n",
      "25010/25010 [==============================] - 0s - loss: 0.9282 - acc: 0.5593     \n",
      "Epoch 115/150\n",
      "25010/25010 [==============================] - 0s - loss: 0.9275 - acc: 0.5631     \n",
      "Epoch 116/150\n",
      "25010/25010 [==============================] - 0s - loss: 0.9278 - acc: 0.5599     \n",
      "Epoch 117/150\n",
      "25010/25010 [==============================] - 0s - loss: 0.9291 - acc: 0.5608     \n",
      "Epoch 118/150\n",
      "25010/25010 [==============================] - 0s - loss: 0.9259 - acc: 0.5632     \n",
      "Epoch 119/150\n",
      "25010/25010 [==============================] - 0s - loss: 0.9255 - acc: 0.5643     \n",
      "Epoch 120/150\n",
      "25010/25010 [==============================] - 0s - loss: 0.9275 - acc: 0.5621     \n",
      "Epoch 121/150\n",
      "25010/25010 [==============================] - 0s - loss: 0.9243 - acc: 0.5646     \n",
      "Epoch 122/150\n",
      "25010/25010 [==============================] - 0s - loss: 0.9255 - acc: 0.5649     \n",
      "Epoch 123/150\n",
      "25010/25010 [==============================] - 0s - loss: 0.9251 - acc: 0.5651     \n",
      "Epoch 124/150\n",
      "25010/25010 [==============================] - 0s - loss: 0.9254 - acc: 0.5626     \n",
      "Epoch 125/150\n",
      "25010/25010 [==============================] - 0s - loss: 0.9243 - acc: 0.5628     \n",
      "Epoch 126/150\n",
      "25010/25010 [==============================] - 0s - loss: 0.9228 - acc: 0.5677     \n",
      "Epoch 127/150\n",
      "25010/25010 [==============================] - 0s - loss: 0.9232 - acc: 0.5647     \n",
      "Epoch 128/150\n",
      "25010/25010 [==============================] - 0s - loss: 0.9208 - acc: 0.5695     \n",
      "Epoch 129/150\n",
      "25010/25010 [==============================] - 0s - loss: 0.9225 - acc: 0.5675     \n",
      "Epoch 130/150\n",
      "25010/25010 [==============================] - 0s - loss: 0.9250 - acc: 0.5661     \n",
      "Epoch 131/150\n",
      "25010/25010 [==============================] - 0s - loss: 0.9211 - acc: 0.5715     \n",
      "Epoch 132/150\n",
      "25010/25010 [==============================] - 0s - loss: 0.9220 - acc: 0.5652     \n",
      "Epoch 133/150\n",
      "25010/25010 [==============================] - 0s - loss: 0.9223 - acc: 0.5671     \n",
      "Epoch 134/150\n",
      "25010/25010 [==============================] - 0s - loss: 0.9201 - acc: 0.5693     \n",
      "Epoch 135/150\n",
      "25010/25010 [==============================] - 0s - loss: 0.9215 - acc: 0.5661     \n",
      "Epoch 136/150\n",
      "25010/25010 [==============================] - 0s - loss: 0.9209 - acc: 0.5650     \n",
      "Epoch 137/150\n",
      "25010/25010 [==============================] - 0s - loss: 0.9183 - acc: 0.5720     \n",
      "Epoch 138/150\n",
      "25010/25010 [==============================] - 0s - loss: 0.9188 - acc: 0.5706     \n",
      "Epoch 139/150\n",
      "25010/25010 [==============================] - 0s - loss: 0.9206 - acc: 0.5661     \n",
      "Epoch 140/150\n",
      "25010/25010 [==============================] - 0s - loss: 0.9231 - acc: 0.5653     \n",
      "Epoch 141/150\n",
      "25010/25010 [==============================] - 0s - loss: 0.9188 - acc: 0.5705     \n",
      "Epoch 142/150\n",
      "25010/25010 [==============================] - 0s - loss: 0.9213 - acc: 0.5681     \n",
      "Epoch 143/150\n",
      "25010/25010 [==============================] - 0s - loss: 0.9152 - acc: 0.5720     \n",
      "Epoch 144/150\n",
      "25010/25010 [==============================] - 0s - loss: 0.9186 - acc: 0.5671     \n",
      "Epoch 145/150\n",
      "25010/25010 [==============================] - 0s - loss: 0.9167 - acc: 0.5702     \n",
      "Epoch 146/150\n",
      "25010/25010 [==============================] - 0s - loss: 0.9169 - acc: 0.5694     \n",
      "Epoch 147/150\n",
      "25010/25010 [==============================] - 0s - loss: 0.9163 - acc: 0.5724     \n",
      "Epoch 148/150\n",
      "25010/25010 [==============================] - 0s - loss: 0.9163 - acc: 0.5719     \n",
      "Epoch 149/150\n",
      "25010/25010 [==============================] - 0s - loss: 0.9191 - acc: 0.5695     \n",
      "Epoch 150/150\n",
      "25010/25010 [==============================] - 0s - loss: 0.9138 - acc: 0.5732     \n"
     ]
    }
   ],
   "source": [
    "history = model.fit(X_train.values, y_train_encoded, nb_epoch=epochs, batch_size=batch_size, verbose=1)"
   ]
  },
  {
   "cell_type": "code",
   "execution_count": 32,
   "metadata": {
    "collapsed": false
   },
   "outputs": [
    {
     "name": "stdout",
     "output_type": "stream",
     "text": [
      " 999900/1000000 [============================>.] - ETA: 0sLoss: 0.88, Accuracy: 59.97%\n"
     ]
    }
   ],
   "source": [
    "loss, accuracy = model.evaluate(X_test.values, y_test_encoded, batch_size=batch_size)\n",
    "print(\"Loss: %.2f, Accuracy: %.2f%%\" % (loss, accuracy*100))"
   ]
  },
  {
   "cell_type": "markdown",
   "metadata": {},
   "source": [
    "### with encoded data"
   ]
  },
  {
   "cell_type": "code",
   "execution_count": 33,
   "metadata": {
    "collapsed": false
   },
   "outputs": [],
   "source": [
    "model2 = Sequential()\n",
    "model2.add(Dense(85*2, activation='relu', input_dim=X_train_encoded.shape[1]))\n",
    "model2.add(Dropout(0.2))\n",
    "model2.add(Dense(85*4, activation='relu'))\n",
    "model2.add(Dropout(0.2))\n",
    "model2.add(Dense(85*2, activation='relu'))\n",
    "model2.add(Dropout(0.2))\n",
    "model2.add(Dense(10,activation='softmax'))\n",
    "model2.compile(loss='categorical_crossentropy', optimizer='adam', metrics=['accuracy'])"
   ]
  },
  {
   "cell_type": "code",
   "execution_count": 34,
   "metadata": {
    "collapsed": false,
    "scrolled": true
   },
   "outputs": [
    {
     "name": "stdout",
     "output_type": "stream",
     "text": [
      "Epoch 1/150\n",
      "25010/25010 [==============================] - 3s - loss: 1.0414 - acc: 0.4729     \n",
      "Epoch 2/150\n",
      "25010/25010 [==============================] - 3s - loss: 0.9890 - acc: 0.4946     \n",
      "Epoch 3/150\n",
      "25010/25010 [==============================] - 3s - loss: 0.9583 - acc: 0.5299     \n",
      "Epoch 4/150\n",
      "25010/25010 [==============================] - 3s - loss: 0.8363 - acc: 0.6285     \n",
      "Epoch 5/150\n",
      "25010/25010 [==============================] - 3s - loss: 0.6730 - acc: 0.7261     \n",
      "Epoch 6/150\n",
      "25010/25010 [==============================] - 3s - loss: 0.5515 - acc: 0.7908     \n",
      "Epoch 7/150\n",
      "25010/25010 [==============================] - 3s - loss: 0.4592 - acc: 0.8349     \n",
      "Epoch 8/150\n",
      "25010/25010 [==============================] - 3s - loss: 0.3841 - acc: 0.8660     \n",
      "Epoch 9/150\n",
      "25010/25010 [==============================] - 3s - loss: 0.3511 - acc: 0.8824     \n",
      "Epoch 10/150\n",
      "25010/25010 [==============================] - 3s - loss: 0.3233 - acc: 0.8904     \n",
      "Epoch 11/150\n",
      "25010/25010 [==============================] - 4s - loss: 0.2995 - acc: 0.9024     \n",
      "Epoch 12/150\n",
      "25010/25010 [==============================] - 4s - loss: 0.2829 - acc: 0.9076     \n",
      "Epoch 13/150\n",
      "25010/25010 [==============================] - 4s - loss: 0.2547 - acc: 0.9179     \n",
      "Epoch 14/150\n",
      "25010/25010 [==============================] - 3s - loss: 0.2392 - acc: 0.9220     \n",
      "Epoch 15/150\n",
      "25010/25010 [==============================] - 3s - loss: 0.2264 - acc: 0.9265     \n",
      "Epoch 16/150\n",
      "25010/25010 [==============================] - 3s - loss: 0.2134 - acc: 0.9316     \n",
      "Epoch 17/150\n",
      "25010/25010 [==============================] - 3s - loss: 0.1988 - acc: 0.9376     \n",
      "Epoch 18/150\n",
      "25010/25010 [==============================] - 3s - loss: 0.1791 - acc: 0.9437     \n",
      "Epoch 19/150\n",
      "25010/25010 [==============================] - 3s - loss: 0.1668 - acc: 0.9484     \n",
      "Epoch 20/150\n",
      "25010/25010 [==============================] - 3s - loss: 0.1586 - acc: 0.9511     \n",
      "Epoch 21/150\n",
      "25010/25010 [==============================] - 3s - loss: 0.1438 - acc: 0.9566     \n",
      "Epoch 22/150\n",
      "25010/25010 [==============================] - 3s - loss: 0.1391 - acc: 0.9581     \n",
      "Epoch 23/150\n",
      "25010/25010 [==============================] - 3s - loss: 0.1294 - acc: 0.9603     \n",
      "Epoch 24/150\n",
      "25010/25010 [==============================] - 3s - loss: 0.1248 - acc: 0.9630     \n",
      "Epoch 25/150\n",
      "25010/25010 [==============================] - 3s - loss: 0.1208 - acc: 0.9659     \n",
      "Epoch 26/150\n",
      "25010/25010 [==============================] - 3s - loss: 0.1140 - acc: 0.9674     \n",
      "Epoch 27/150\n",
      "25010/25010 [==============================] - 3s - loss: 0.1009 - acc: 0.9707     \n",
      "Epoch 28/150\n",
      "25010/25010 [==============================] - 3s - loss: 0.0994 - acc: 0.9725     \n",
      "Epoch 29/150\n",
      "25010/25010 [==============================] - 3s - loss: 0.0961 - acc: 0.9741     \n",
      "Epoch 30/150\n",
      "25010/25010 [==============================] - 4s - loss: 0.0821 - acc: 0.9783     \n",
      "Epoch 31/150\n",
      "25010/25010 [==============================] - 4s - loss: 0.0872 - acc: 0.9768     \n",
      "Epoch 32/150\n",
      "25010/25010 [==============================] - 4s - loss: 0.0889 - acc: 0.9762     \n",
      "Epoch 33/150\n",
      "25010/25010 [==============================] - 4s - loss: 0.0885 - acc: 0.9763     \n",
      "Epoch 34/150\n",
      "25010/25010 [==============================] - 4s - loss: 0.0886 - acc: 0.9758     \n",
      "Epoch 35/150\n",
      "25010/25010 [==============================] - 4s - loss: 0.0854 - acc: 0.9777     \n",
      "Epoch 36/150\n",
      "25010/25010 [==============================] - 4s - loss: 0.0818 - acc: 0.9780     \n",
      "Epoch 37/150\n",
      "25010/25010 [==============================] - 3s - loss: 0.0819 - acc: 0.9776     \n",
      "Epoch 38/150\n",
      "25010/25010 [==============================] - 3s - loss: 0.0815 - acc: 0.9788     \n",
      "Epoch 39/150\n",
      "25010/25010 [==============================] - 3s - loss: 0.0774 - acc: 0.9804     \n",
      "Epoch 40/150\n",
      "25010/25010 [==============================] - 3s - loss: 0.0775 - acc: 0.9801     \n",
      "Epoch 41/150\n",
      "25010/25010 [==============================] - 3s - loss: 0.0787 - acc: 0.9797     \n",
      "Epoch 42/150\n",
      "25010/25010 [==============================] - 4s - loss: 0.0652 - acc: 0.9832     \n",
      "Epoch 43/150\n",
      "25010/25010 [==============================] - 4s - loss: 0.0697 - acc: 0.9813     \n",
      "Epoch 44/150\n",
      "25010/25010 [==============================] - 3s - loss: 0.0749 - acc: 0.9802     \n",
      "Epoch 45/150\n",
      "25010/25010 [==============================] - 3s - loss: 0.0681 - acc: 0.9822     \n",
      "Epoch 46/150\n",
      "25010/25010 [==============================] - 4s - loss: 0.0671 - acc: 0.9826     \n",
      "Epoch 47/150\n",
      "25010/25010 [==============================] - 3s - loss: 0.0664 - acc: 0.9827     \n",
      "Epoch 48/150\n",
      "25010/25010 [==============================] - 3s - loss: 0.0658 - acc: 0.9827     \n",
      "Epoch 49/150\n",
      "25010/25010 [==============================] - 3s - loss: 0.0626 - acc: 0.9840     \n",
      "Epoch 50/150\n",
      "25010/25010 [==============================] - 3s - loss: 0.0587 - acc: 0.9854     \n",
      "Epoch 51/150\n",
      "25010/25010 [==============================] - 3s - loss: 0.0643 - acc: 0.9843     \n",
      "Epoch 52/150\n",
      "25010/25010 [==============================] - 3s - loss: 0.0624 - acc: 0.9845     \n",
      "Epoch 53/150\n",
      "25010/25010 [==============================] - 3s - loss: 0.0621 - acc: 0.9844     \n",
      "Epoch 54/150\n",
      "25010/25010 [==============================] - 3s - loss: 0.0610 - acc: 0.9844     \n",
      "Epoch 55/150\n",
      "25010/25010 [==============================] - 4s - loss: 0.0599 - acc: 0.9859     \n",
      "Epoch 56/150\n",
      "25010/25010 [==============================] - 3s - loss: 0.0555 - acc: 0.9858     \n",
      "Epoch 57/150\n",
      "25010/25010 [==============================] - 3s - loss: 0.0538 - acc: 0.9863     \n",
      "Epoch 58/150\n",
      "25010/25010 [==============================] - 3s - loss: 0.0534 - acc: 0.9870     \n",
      "Epoch 59/150\n",
      "25010/25010 [==============================] - 4s - loss: 0.0559 - acc: 0.9864     \n",
      "Epoch 60/150\n",
      "25010/25010 [==============================] - 3s - loss: 0.0484 - acc: 0.9880     \n",
      "Epoch 61/150\n",
      "25010/25010 [==============================] - 4s - loss: 0.0542 - acc: 0.9866     \n",
      "Epoch 62/150\n",
      "25010/25010 [==============================] - 4s - loss: 0.0502 - acc: 0.9880     \n",
      "Epoch 63/150\n",
      "25010/25010 [==============================] - 4s - loss: 0.0482 - acc: 0.9885     \n",
      "Epoch 64/150\n",
      "25010/25010 [==============================] - 3s - loss: 0.0504 - acc: 0.9883     \n",
      "Epoch 65/150\n",
      "25010/25010 [==============================] - 4s - loss: 0.0500 - acc: 0.9873     \n",
      "Epoch 66/150\n",
      "25010/25010 [==============================] - 3s - loss: 0.0531 - acc: 0.9874     \n",
      "Epoch 67/150\n",
      "25010/25010 [==============================] - 3s - loss: 0.0478 - acc: 0.9884     \n",
      "Epoch 68/150\n",
      "25010/25010 [==============================] - 3s - loss: 0.0422 - acc: 0.9905     \n",
      "Epoch 69/150\n",
      "25010/25010 [==============================] - 3s - loss: 0.0477 - acc: 0.9886     \n",
      "Epoch 70/150\n",
      "25010/25010 [==============================] - 3s - loss: 0.0467 - acc: 0.9892     \n",
      "Epoch 71/150\n",
      "25010/25010 [==============================] - 3s - loss: 0.0400 - acc: 0.9902     \n",
      "Epoch 72/150\n",
      "25010/25010 [==============================] - 4s - loss: 0.0436 - acc: 0.9899     \n",
      "Epoch 73/150\n",
      "25010/25010 [==============================] - 3s - loss: 0.0472 - acc: 0.9890     \n",
      "Epoch 74/150\n",
      "25010/25010 [==============================] - 4s - loss: 0.0415 - acc: 0.9894     \n",
      "Epoch 75/150\n",
      "25010/25010 [==============================] - 3s - loss: 0.0461 - acc: 0.9892     \n",
      "Epoch 76/150\n",
      "25010/25010 [==============================] - 4s - loss: 0.0446 - acc: 0.9896     \n",
      "Epoch 77/150\n",
      "25010/25010 [==============================] - 4s - loss: 0.0447 - acc: 0.9888     \n",
      "Epoch 78/150\n",
      "25010/25010 [==============================] - 3s - loss: 0.0442 - acc: 0.9895     \n",
      "Epoch 79/150\n",
      "25010/25010 [==============================] - 4s - loss: 0.0423 - acc: 0.9907     \n",
      "Epoch 80/150\n",
      "25010/25010 [==============================] - 4s - loss: 0.0458 - acc: 0.9891     \n",
      "Epoch 81/150\n",
      "25010/25010 [==============================] - 4s - loss: 0.0401 - acc: 0.9905     \n",
      "Epoch 82/150\n",
      "25010/25010 [==============================] - 4s - loss: 0.0394 - acc: 0.9911     \n",
      "Epoch 83/150\n",
      "25010/25010 [==============================] - 4s - loss: 0.0408 - acc: 0.9909     \n",
      "Epoch 84/150\n",
      "25010/25010 [==============================] - 4s - loss: 0.0365 - acc: 0.9915     \n",
      "Epoch 85/150\n",
      "25010/25010 [==============================] - 4s - loss: 0.0416 - acc: 0.9900     \n",
      "Epoch 86/150\n",
      "25010/25010 [==============================] - 4s - loss: 0.0378 - acc: 0.9906     \n",
      "Epoch 87/150\n",
      "25010/25010 [==============================] - 3s - loss: 0.0361 - acc: 0.9921     \n",
      "Epoch 88/150\n",
      "25010/25010 [==============================] - 4s - loss: 0.0444 - acc: 0.9904     \n",
      "Epoch 89/150\n",
      "25010/25010 [==============================] - 4s - loss: 0.0408 - acc: 0.9913     \n",
      "Epoch 90/150\n",
      "25010/25010 [==============================] - 4s - loss: 0.0390 - acc: 0.9906     \n",
      "Epoch 91/150\n",
      "25010/25010 [==============================] - 4s - loss: 0.0397 - acc: 0.9911     \n",
      "Epoch 92/150\n",
      "25010/25010 [==============================] - 4s - loss: 0.0363 - acc: 0.9916     \n",
      "Epoch 93/150\n",
      "25010/25010 [==============================] - 4s - loss: 0.0336 - acc: 0.9926     \n",
      "Epoch 94/150\n",
      "25010/25010 [==============================] - 4s - loss: 0.0378 - acc: 0.9918     \n",
      "Epoch 95/150\n",
      "25010/25010 [==============================] - 4s - loss: 0.0302 - acc: 0.9937     \n",
      "Epoch 96/150\n",
      "25010/25010 [==============================] - 4s - loss: 0.0326 - acc: 0.9930     \n",
      "Epoch 97/150\n",
      "25010/25010 [==============================] - 4s - loss: 0.0333 - acc: 0.9930     \n",
      "Epoch 98/150\n",
      "25010/25010 [==============================] - 4s - loss: 0.0340 - acc: 0.9925     \n",
      "Epoch 99/150\n",
      "25010/25010 [==============================] - 4s - loss: 0.0291 - acc: 0.9935     \n",
      "Epoch 100/150\n",
      "25010/25010 [==============================] - 3s - loss: 0.0322 - acc: 0.9932     \n",
      "Epoch 101/150\n",
      "25010/25010 [==============================] - 3s - loss: 0.0356 - acc: 0.9928     \n",
      "Epoch 102/150\n",
      "25010/25010 [==============================] - 4s - loss: 0.0312 - acc: 0.9938     \n",
      "Epoch 103/150\n",
      "25010/25010 [==============================] - 4s - loss: 0.0294 - acc: 0.9934     \n",
      "Epoch 104/150\n",
      "25010/25010 [==============================] - 3s - loss: 0.0326 - acc: 0.9934     \n",
      "Epoch 105/150\n",
      "25010/25010 [==============================] - 4s - loss: 0.0318 - acc: 0.9938     \n",
      "Epoch 106/150\n",
      "25010/25010 [==============================] - 3s - loss: 0.0345 - acc: 0.9926     \n",
      "Epoch 107/150\n",
      "25010/25010 [==============================] - 4s - loss: 0.0291 - acc: 0.9947     \n",
      "Epoch 108/150\n",
      "25010/25010 [==============================] - 4s - loss: 0.0277 - acc: 0.9942     \n",
      "Epoch 109/150\n",
      "25010/25010 [==============================] - 4s - loss: 0.0303 - acc: 0.9937     \n",
      "Epoch 110/150\n",
      "25010/25010 [==============================] - 4s - loss: 0.0311 - acc: 0.9937     \n",
      "Epoch 111/150\n",
      "25010/25010 [==============================] - 4s - loss: 0.0283 - acc: 0.9938     \n",
      "Epoch 112/150\n",
      "25010/25010 [==============================] - 3s - loss: 0.0284 - acc: 0.9948     \n",
      "Epoch 113/150\n",
      "25010/25010 [==============================] - 3s - loss: 0.0289 - acc: 0.9940     \n",
      "Epoch 114/150\n",
      "25010/25010 [==============================] - 3s - loss: 0.0349 - acc: 0.9930     \n",
      "Epoch 115/150\n",
      "25010/25010 [==============================] - 4s - loss: 0.0314 - acc: 0.9938     \n",
      "Epoch 116/150\n",
      "25010/25010 [==============================] - 3s - loss: 0.0271 - acc: 0.9948     \n",
      "Epoch 117/150\n",
      "25010/25010 [==============================] - 3s - loss: 0.0268 - acc: 0.9952     \n",
      "Epoch 118/150\n",
      "25010/25010 [==============================] - 4s - loss: 0.0282 - acc: 0.9942     \n",
      "Epoch 119/150\n",
      "25010/25010 [==============================] - 3s - loss: 0.0294 - acc: 0.9943     \n",
      "Epoch 120/150\n",
      "25010/25010 [==============================] - 4s - loss: 0.0253 - acc: 0.9948     \n",
      "Epoch 121/150\n",
      "25010/25010 [==============================] - 4s - loss: 0.0294 - acc: 0.9942     \n",
      "Epoch 122/150\n",
      "25010/25010 [==============================] - 4s - loss: 0.0268 - acc: 0.9947     \n",
      "Epoch 123/150\n",
      "25010/25010 [==============================] - 4s - loss: 0.0308 - acc: 0.9938     \n",
      "Epoch 124/150\n",
      "25010/25010 [==============================] - 4s - loss: 0.0330 - acc: 0.9936     \n",
      "Epoch 125/150\n",
      "25010/25010 [==============================] - 4s - loss: 0.0256 - acc: 0.9950     \n",
      "Epoch 126/150\n",
      "25010/25010 [==============================] - 4s - loss: 0.0283 - acc: 0.9945     \n",
      "Epoch 127/150\n",
      "25010/25010 [==============================] - 3s - loss: 0.0259 - acc: 0.9949     \n",
      "Epoch 128/150\n",
      "25010/25010 [==============================] - 4s - loss: 0.0304 - acc: 0.9947     \n",
      "Epoch 129/150\n",
      "25010/25010 [==============================] - 4s - loss: 0.0296 - acc: 0.9946     \n",
      "Epoch 130/150\n",
      "25010/25010 [==============================] - 4s - loss: 0.0254 - acc: 0.9949     \n",
      "Epoch 131/150\n",
      "25010/25010 [==============================] - 3s - loss: 0.0266 - acc: 0.9944     \n",
      "Epoch 132/150\n",
      "25010/25010 [==============================] - 3s - loss: 0.0292 - acc: 0.9942     \n",
      "Epoch 133/150\n",
      "25010/25010 [==============================] - 4s - loss: 0.0318 - acc: 0.9937     \n",
      "Epoch 134/150\n",
      "25010/25010 [==============================] - 3s - loss: 0.0245 - acc: 0.9951     \n",
      "Epoch 135/150\n",
      "25010/25010 [==============================] - 3s - loss: 0.0296 - acc: 0.9943     \n",
      "Epoch 136/150\n",
      "25010/25010 [==============================] - 3s - loss: 0.0295 - acc: 0.9944     \n",
      "Epoch 137/150\n",
      "25010/25010 [==============================] - 4s - loss: 0.0295 - acc: 0.9943     \n",
      "Epoch 138/150\n",
      "25010/25010 [==============================] - 4s - loss: 0.0266 - acc: 0.9946     \n",
      "Epoch 139/150\n",
      "25010/25010 [==============================] - 3s - loss: 0.0242 - acc: 0.9957     \n",
      "Epoch 140/150\n",
      "25010/25010 [==============================] - 4s - loss: 0.0241 - acc: 0.9953     \n",
      "Epoch 141/150\n",
      "25010/25010 [==============================] - 4s - loss: 0.0314 - acc: 0.9942     \n",
      "Epoch 142/150\n",
      "25010/25010 [==============================] - 3s - loss: 0.0273 - acc: 0.9946     \n",
      "Epoch 143/150\n",
      "25010/25010 [==============================] - 4s - loss: 0.0258 - acc: 0.9950     \n",
      "Epoch 144/150\n",
      "25010/25010 [==============================] - 4s - loss: 0.0285 - acc: 0.9943     \n",
      "Epoch 145/150\n",
      "25010/25010 [==============================] - 4s - loss: 0.0336 - acc: 0.9933     \n",
      "Epoch 146/150\n",
      "25010/25010 [==============================] - 4s - loss: 0.0302 - acc: 0.9942     \n",
      "Epoch 147/150\n",
      "25010/25010 [==============================] - 4s - loss: 0.0284 - acc: 0.9948     \n",
      "Epoch 148/150\n",
      "25010/25010 [==============================] - 4s - loss: 0.0255 - acc: 0.9950     \n",
      "Epoch 149/150\n",
      "25010/25010 [==============================] - 4s - loss: 0.0288 - acc: 0.9945     \n",
      "Epoch 150/150\n",
      "25010/25010 [==============================] - 4s - loss: 0.0270 - acc: 0.9947     \n"
     ]
    }
   ],
   "source": [
    "history2 = model2.fit(X_train_encoded, y_train_encoded, nb_epoch=epochs, batch_size=batch_size, verbose=1)"
   ]
  },
  {
   "cell_type": "code",
   "execution_count": 36,
   "metadata": {
    "collapsed": false
   },
   "outputs": [
    {
     "name": "stdout",
     "output_type": "stream",
     "text": [
      "1000000/1000000 [==============================] - 55s    \n",
      "Loss: 0.08, Accuracy: 99.20%\n"
     ]
    }
   ],
   "source": [
    "loss2, accuracy2 = model2.evaluate(X_test_encoded, y_test_encoded, batch_size=batch_size)\n",
    "print(\"Loss: %.2f, Accuracy: %.2f%%\" % (loss2, accuracy2*100))"
   ]
  },
  {
   "cell_type": "markdown",
   "metadata": {},
   "source": [
    "### visualizing learning/loss curve"
   ]
  },
  {
   "cell_type": "code",
   "execution_count": 37,
   "metadata": {
    "collapsed": true
   },
   "outputs": [],
   "source": [
    "import matplotlib.pyplot as plt\n",
    "plt.style.use('ggplot')"
   ]
  },
  {
   "cell_type": "code",
   "execution_count": 38,
   "metadata": {
    "collapsed": false
   },
   "outputs": [
    {
     "data": {
      "image/png": "[encoded data removed]",
      "text/plain": [
       "<matplotlib.figure.Figure at 0x7f1fa965a050>"
      ]
     },
     "metadata": {},
     "output_type": "display_data"
    }
   ],
   "source": [
    "plt.figure(figsize=(10,4))\n",
    "plt.subplot(121)\n",
    "plt.plot(history.history['acc'], label='acc')\n",
    "plt.plot(history.history['loss'], label='loss')\n",
    "plt.legend()\n",
    "plt.xlabel('Epochs')\n",
    "plt.title('learning/loss curve with raw data')\n",
    "\n",
    "plt.subplot(122)\n",
    "plt.plot(history2.history['acc'], label='acc')\n",
    "plt.plot(history2.history['loss'], label='loss')\n",
    "plt.legend()\n",
    "plt.xlabel('Epochs')\n",
    "plt.title('learning/loss curve with encoded data')\n",
    "\n",
    "plt.show()"
   ]
  },
  {
   "cell_type": "markdown",
   "metadata": {},
   "source": [
    "As we can see with encoded data we have solid increasing of model performance."
   ]
  },
  {
   "cell_type": "markdown",
   "metadata": {},
   "source": [
    "## Summary"
   ]
  },
  {
   "cell_type": "code",
   "execution_count": 39,
   "metadata": {
    "collapsed": false
   },
   "outputs": [
    {
     "data": {
      "image/png": "[encoded data removed]",
      "text/plain": [
       "<matplotlib.figure.Figure at 0x7f1fa9190b10>"
      ]
     },
     "metadata": {},
     "output_type": "display_data"
    }
   ],
   "source": [
    "raw_scores = {'linear_model': linear_score, 'knn': knn_score, 'random forest': tree_score, 'neural network':accuracy}\n",
    "encoded_scores = {'linear_model':linear_score2, 'knn':knn_score2, 'random forest': tree_score2, 'neural network':accuracy2}\n",
    "\n",
    "color=['red', 'yellow', 'green', 'blue']\n",
    "\n",
    "f, (ax1, ax2) = plt.subplots(1, 2, sharey=True, figsize=(12,4))\n",
    "\n",
    "y = range(len(raw_scores.keys()))\n",
    "ax1.bar(y, raw_scores.values(), align='center', alpha=0.5, color=color)\n",
    "ax1.set_ylabel('Accuracy Score')\n",
    "ax1.set_xticks(y)\n",
    "ax1.set_xticklabels(raw_scores.keys())\n",
    "ax1.set_title('model ranking with raw data')\n",
    "\n",
    "y2 = range(len(encoded_scores.keys()))\n",
    "ax2.bar(y2, encoded_scores.values(), align='center', alpha=0.5, color=color)\n",
    "ax2.set_xticks(y2)\n",
    "ax2.set_xticklabels(encoded_scores.keys())\n",
    "ax2.set_title('model ranking with encoded data')\n",
    "\n",
    "plt.show()"
   ]
  }
 ],
 "metadata": {
  "anaconda-cloud": {},
  "kernelspec": {
   "display_name": "Python [default]",
   "language": "python",
   "name": "python2"
  },
  "language_info": {
   "codemirror_mode": {
    "name": "ipython",
    "version": 2
   },
   "file_extension": ".py",
   "mimetype": "text/x-python",
   "name": "python",
   "nbconvert_exporter": "python",
   "pygments_lexer": "ipython2",
   "version": "2.7.12"
  }
 },
 "nbformat": 4,
 "nbformat_minor": 1
}
