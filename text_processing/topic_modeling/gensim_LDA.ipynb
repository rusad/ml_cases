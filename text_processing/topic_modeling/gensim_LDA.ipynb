{
 "cells": [
  {
   "cell_type": "code",
   "execution_count": 1,
   "metadata": {
    "collapsed": true
   },
   "outputs": [],
   "source": [
    "import pandas as pd\n",
    "import numpy as np\n",
    "\n",
    "from sklearn.datasets import fetch_20newsgroups\n",
    "\n",
    "from gensim import corpora, models, similarities, matutils\n",
    "from gensim.parsing.preprocessing import STOPWORDS\n",
    "from gensim.utils import simple_preprocess\n",
    "\n",
    "from nltk.stem.porter import PorterStemmer\n",
    "from nltk.tokenize import RegexpTokenizer"
   ]
  },
  {
   "cell_type": "markdown",
   "metadata": {},
   "source": [
    "## Data loading"
   ]
  },
  {
   "cell_type": "code",
   "execution_count": 2,
   "metadata": {
    "collapsed": false
   },
   "outputs": [],
   "source": [
    "categories=['comp.sys.mac.hardware', 'soc.religion.christian', 'rec.sport.hockey', 'sci.med', 'sci.space']\n",
    "\n",
    "dataset = fetch_20newsgroups(subset='train', categories=categories)\n",
    "n_topics = len(categories)"
   ]
  },
  {
   "cell_type": "code",
   "execution_count": 3,
   "metadata": {
    "collapsed": false
   },
   "outputs": [],
   "source": [
    "X = dataset.data[0:100]\n",
    "y = dataset.target[0:100]"
   ]
  },
  {
   "cell_type": "markdown",
   "metadata": {},
   "source": [
    "## Preprocessing"
   ]
  },
  {
   "cell_type": "code",
   "execution_count": 4,
   "metadata": {
    "collapsed": true
   },
   "outputs": [],
   "source": [
    "import matplotlib\n",
    "from matplotlib import pyplot as plt\n",
    "matplotlib.style.use('ggplot')\n",
    "%matplotlib inline\n",
    "\n",
    "# word frequency thresholds\n",
    "max_df=500 \n",
    "min_df=10"
   ]
  },
  {
   "cell_type": "markdown",
   "metadata": {},
   "source": [
    "#### manual approach"
   ]
  },
  {
   "cell_type": "code",
   "execution_count": 5,
   "metadata": {
    "collapsed": false
   },
   "outputs": [
    {
     "name": "stdout",
     "output_type": "stream",
     "text": [
      "Dictionary(8328 unique tokens: [u'cook@varmit.mdc.com', u'writings', u'georgeh@gjhsun', u'considered,', u'method),']...)\n"
     ]
    }
   ],
   "source": [
    "dictionary = corpora.Dictionary(line.lower().split() for line in X)\n",
    "\n",
    "# remove stop words\n",
    "stop_ids = [dictionary.token2id[stopword] for stopword in STOPWORDS\n",
    "            if stopword in dictionary.token2id]\n",
    "\n",
    "# filtering by frequency\n",
    "bad_ids = [tokenid for tokenid, docfreq in dictionary.dfs.iteritems() if docfreq <= min_df | docfreq >= max_df]\n",
    "dictionary.filter_tokens(bad_ids=stop_ids + bad_ids, good_ids=None)\n",
    "\n",
    "# remove gaps in id sequence after words that were removed\n",
    "dictionary.compactify() \n",
    "\n",
    "print (dictionary)"
   ]
  },
  {
   "cell_type": "code",
   "execution_count": 6,
   "metadata": {
    "collapsed": false
   },
   "outputs": [
    {
     "data": {
      "image/png": "[encoded data removed]",
      "text/plain": [
       "<matplotlib.figure.Figure at 0x7fbd1c6b0e10>"
      ]
     },
     "metadata": {},
     "output_type": "display_data"
    }
   ],
   "source": [
    "plt.hist(dictionary.dfs.values(), log=True)\n",
    "plt.xlabel('token')\n",
    "plt.ylabel('frequency')\n",
    "plt.show()"
   ]
  },
  {
   "cell_type": "markdown",
   "metadata": {},
   "source": [
    "#### gensim approach"
   ]
  },
  {
   "cell_type": "code",
   "execution_count": 7,
   "metadata": {
    "collapsed": true
   },
   "outputs": [],
   "source": [
    "def my_tokenizer(doc):\n",
    "    return [token for token in simple_preprocess(doc) if token not in STOPWORDS]"
   ]
  },
  {
   "cell_type": "code",
   "execution_count": 8,
   "metadata": {
    "collapsed": false
   },
   "outputs": [
    {
     "name": "stdout",
     "output_type": "stream",
     "text": [
      "Dictionary(5822 unique tokens: [u'writings', u'foul', u'woods', u'lori', u'lord']...)\n"
     ]
    }
   ],
   "source": [
    "dictionary = corpora.Dictionary(my_tokenizer(doc) for doc in X)\n",
    "\n",
    "# filtering by frequency\n",
    "bad_ids = [tokenid for tokenid, docfreq in dictionary.dfs.iteritems() if docfreq <= min_df | docfreq >= max_df]\n",
    "dictionary.filter_tokens(bad_ids=bad_ids, good_ids=None)\n",
    "\n",
    "# remove gaps in id sequence after words that were removed\n",
    "dictionary.compactify() \n",
    "\n",
    "print (dictionary)"
   ]
  },
  {
   "cell_type": "code",
   "execution_count": 9,
   "metadata": {
    "collapsed": false
   },
   "outputs": [
    {
     "data": {
      "image/png": "[encoded data removed]",
      "text/plain": [
       "<matplotlib.figure.Figure at 0x7fbd5a1fb890>"
      ]
     },
     "metadata": {},
     "output_type": "display_data"
    }
   ],
   "source": [
    "plt.hist(dictionary.dfs.values(), log=True)\n",
    "plt.xlabel('token')\n",
    "plt.ylabel('frequency')\n",
    "plt.show()"
   ]
  },
  {
   "cell_type": "markdown",
   "metadata": {},
   "source": [
    "#### nltk approach"
   ]
  },
  {
   "cell_type": "code",
   "execution_count": 10,
   "metadata": {
    "collapsed": false
   },
   "outputs": [
    {
     "name": "stdout",
     "output_type": "stream",
     "text": [
      "Dictionary(5311 unique tokens: [u'inexperi', u'nwu', u'circuitri', u'doodah', u'foul']...)\n"
     ]
    }
   ],
   "source": [
    "from collections import defaultdict\n",
    "frequency = defaultdict(int)\n",
    "\n",
    "tokenizer = RegexpTokenizer(r'\\w+')\n",
    "p_stemmer = PorterStemmer()\n",
    "# list for tokenized documents in loop\n",
    "texts = []\n",
    "\n",
    "# loop through document list\n",
    "for i in X:\n",
    "    # clean and tokenize document string\n",
    "    raw = i.lower()\n",
    "    tokens = tokenizer.tokenize(raw)\n",
    "    \n",
    "    # remove stop words from tokens\n",
    "    stopped_tokens = [i for i in tokens if not i in STOPWORDS]\n",
    "    \n",
    "    # stem tokens\n",
    "    stemmed_tokens = [p_stemmer.stem(i) for i in stopped_tokens]\n",
    "    \n",
    "    # frequency counting\n",
    "    for token in i:\n",
    "        frequency[token] += 1\n",
    "        \n",
    "    # add tokens to list\n",
    "    texts.append(stemmed_tokens)\n",
    "\n",
    "# filtering by frequency\n",
    "texts = [[token for token in text if (frequency[token] >= min_df) | (frequency[token] <= max_df)]\n",
    "         for text in texts]\n",
    "\n",
    "dictionary = corpora.Dictionary(texts)\n",
    "\n",
    "#bad_ids = [tokenid for tokenid, docfreq in dictionary.dfs.iteritems() if docfreq <= min_df | docfreq >= max_df]\n",
    "\n",
    "#dictionary.filter_tokens(bad_ids=bad_ids, good_ids=None)\n",
    "#dictionary.compactify() \n",
    "\n",
    "print (dictionary)"
   ]
  },
  {
   "cell_type": "code",
   "execution_count": 11,
   "metadata": {
    "collapsed": false
   },
   "outputs": [
    {
     "data": {
      "image/png": "[encoded data removed]",
      "text/plain": [
       "<matplotlib.figure.Figure at 0x7fbd1c54de50>"
      ]
     },
     "metadata": {},
     "output_type": "display_data"
    }
   ],
   "source": [
    "plt.hist(dictionary.dfs.values(), log=True)\n",
    "plt.xlabel('token')\n",
    "plt.ylabel('frequency')\n",
    "plt.show()"
   ]
  },
  {
   "cell_type": "markdown",
   "metadata": {},
   "source": [
    "## LDA"
   ]
  },
  {
   "cell_type": "code",
   "execution_count": 12,
   "metadata": {
    "collapsed": false
   },
   "outputs": [],
   "source": [
    "# create the 'bag of words' representation by counting the number of occurences \n",
    "# of each distinct word, converts the word to its integer word id and returns \n",
    "# the result as a sparse vector\n",
    "\n",
    "corpus = [dictionary.doc2bow(text) for text in texts]"
   ]
  },
  {
   "cell_type": "code",
   "execution_count": 13,
   "metadata": {
    "collapsed": false
   },
   "outputs": [],
   "source": [
    "# transform to term-frequency inverse document-frequency (Tf–idf) scheme\n",
    "tfidf = models.TfidfModel(corpus, normalize=True)\n",
    "corpus_tfidf = tfidf[corpus]"
   ]
  },
  {
   "cell_type": "code",
   "execution_count": 14,
   "metadata": {
    "collapsed": false
   },
   "outputs": [],
   "source": [
    "# initialize LDA model\n",
    "lda = models.ldamodel.LdaModel(corpus_tfidf, num_topics=n_topics, id2word = dictionary, passes=5)"
   ]
  },
  {
   "cell_type": "code",
   "execution_count": 15,
   "metadata": {
    "collapsed": false
   },
   "outputs": [],
   "source": [
    "# transform 'bag fo words' accordaing to LDA model\n",
    "corpus_lda = lda[corpus_tfidf]"
   ]
  },
  {
   "cell_type": "code",
   "execution_count": 16,
   "metadata": {
    "collapsed": false
   },
   "outputs": [
    {
     "name": "stdout",
     "output_type": "stream",
     "text": [
      "Error fraction: 0.8\n"
     ]
    }
   ],
   "source": [
    "# marking up topics labels by maximum probability value\n",
    "classes = np.array([np.argmax([j[1] for j in i], axis=0) for i in corpus_lda])\n",
    "print 'Error fraction:', float(sum(classes != y)) / len(y)"
   ]
  },
  {
   "cell_type": "code",
   "execution_count": 27,
   "metadata": {
    "collapsed": false,
    "scrolled": true
   },
   "outputs": [
    {
     "name": "stdout",
     "output_type": "stream",
     "text": [
      "0.82\n",
      "0.82\n",
      "0.81\n",
      "0.77\n",
      "0.86\n",
      "0.82\n",
      "0.74\n",
      "0.74\n",
      "0.76\n",
      "0.77\n",
      "0.81\n",
      "0.82\n",
      "0.75\n",
      "0.71\n",
      "0.78\n",
      "0.79\n",
      "0.78\n",
      "0.83\n",
      "0.76\n",
      "0.72\n",
      "0.79\n",
      "0.8\n",
      "0.74\n",
      "0.79\n",
      "0.8\n",
      "0.8\n",
      "0.79\n",
      "0.75\n",
      "0.84\n",
      "0.8\n",
      "0.83\n",
      "0.83\n",
      "0.79\n",
      "0.77\n",
      "0.84\n",
      "0.82\n",
      "0.84\n",
      "0.8\n",
      "0.81\n",
      "0.79\n",
      "0.81\n",
      "0.83\n",
      "0.85\n",
      "0.81\n",
      "0.82\n",
      "0.8\n",
      "0.77\n",
      "0.79\n",
      "0.73\n",
      "0.73\n",
      "0.75\n",
      "0.76\n",
      "0.8\n",
      "0.81\n",
      "0.84\n",
      "0.84\n",
      "0.8\n",
      "0.78\n",
      "0.85\n",
      "0.83\n",
      "0.8\n",
      "0.81\n",
      "0.74\n",
      "0.72\n",
      "0.82\n",
      "0.79\n",
      "0.81\n",
      "0.82\n",
      "0.75\n",
      "0.73\n",
      "0.78\n",
      "0.75\n",
      "0.77\n",
      "0.73\n",
      "0.8\n",
      "0.81\n",
      "0.8\n",
      "0.85\n",
      "0.88\n",
      "0.84\n",
      "0.85\n",
      "0.83\n",
      "0.85\n",
      "0.87\n",
      "0.83\n",
      "0.84\n",
      "0.77\n",
      "0.75\n",
      "0.85\n",
      "0.82\n",
      "0.81\n",
      "0.86\n",
      "0.75\n",
      "0.77\n",
      "0.83\n",
      "0.8\n",
      "0.78\n",
      "0.74\n",
      "0.81\n",
      "0.82\n",
      "0.76\n",
      "0.81\n",
      "0.89\n",
      "0.85\n",
      "0.86\n",
      "0.84\n",
      "0.81\n",
      "0.83\n",
      "0.84\n",
      "0.85\n",
      "0.78\n",
      "0.76\n",
      "0.81\n",
      "0.78\n",
      "0.81\n",
      "0.86\n",
      "0.75\n",
      "0.77\n",
      "0.83\n",
      "0.8\n"
     ]
    }
   ],
   "source": [
    "import itertools\n",
    "def validate_with_mappings(preds, target, dataset):\n",
    "    permutations = itertools.permutations([0, 1, 2, 3, 4])\n",
    "    for a, b, c, d, e in permutations:\n",
    "        mapping = {4:a, 3:b, 2:c, 1:d, 0:e}\n",
    "        mapped_preds = [mapping[pred] for pred in preds]\n",
    "        print float(sum(mapped_preds != target)) / len(target)\n",
    "        \n",
    "validate_with_mappings(classes, y, X)"
   ]
  },
  {
   "cell_type": "code",
   "execution_count": 24,
   "metadata": {
    "collapsed": false
   },
   "outputs": [
    {
     "data": {
      "image/png": "[encoded data removed]",
      "text/plain": [
       "<matplotlib.figure.Figure at 0x7fbd1342b8d0>"
      ]
     },
     "metadata": {},
     "output_type": "display_data"
    }
   ],
   "source": [
    "plt.hist(classes)\n",
    "plt.xlabel('topics')\n",
    "plt.ylabel('count')\n",
    "plt.show()"
   ]
  },
  {
   "cell_type": "code",
   "execution_count": 17,
   "metadata": {
    "collapsed": false
   },
   "outputs": [
    {
     "name": "stdout",
     "output_type": "stream",
     "text": [
      "(100, 1016) (100, 5)\n"
     ]
    }
   ],
   "source": [
    "df_before = pd.DataFrame([[j[1] for j in i] for i in corpus]).fillna(0)\n",
    "df_after = pd.DataFrame([[j[1] for j in i] for i in corpus_lda]).fillna(0)\n",
    "\n",
    "print df_before.shape, df_after.shape"
   ]
  },
  {
   "cell_type": "code",
   "execution_count": 18,
   "metadata": {
    "collapsed": false,
    "scrolled": true
   },
   "outputs": [
    {
     "data": {
      "text/plain": [
       "<matplotlib.collections.PathCollection at 0x7fc44a85e510>"
      ]
     },
     "execution_count": 18,
     "metadata": {},
     "output_type": "execute_result"
    },
    {
     "data": {
      "image/png": "[encoded data removed]",
      "text/plain": [
       "<matplotlib.figure.Figure at 0x7fc44a5aee10>"
      ]
     },
     "metadata": {},
     "output_type": "display_data"
    }
   ],
   "source": [
    "from sklearn import manifold\n",
    "import matplotlib.cm as cm\n",
    "\n",
    "colors = cm.rainbow(np.linspace(0, 1, len(df_before)))\n",
    "options = {\n",
    "    'perplexity': 5.0, #is related to the number of nearest neighbors\n",
    "    'early_exaggeration': 2.0,\n",
    "    'learning_rate':1000.0,\n",
    "    'angle': 0.5 # is a tradeoff between performance and accuracy? during optimization process\n",
    "                 # range of 0.2 - 0.8. Angle less than 0.2 has quickly increasing computation \n",
    "                 # time and angle greater 0.8 has quickly increasing error.\n",
    "}\n",
    "\n",
    "tsne = manifold.TSNE(n_components = n_topics, init = 'pca', random_state = 0, perplexity=options['perplexity'], learning_rate=options['learning_rate'], early_exaggeration=options['early_exaggeration'])\n",
    "data_2d_tsne = tsne.fit_transform(df_before)\n",
    "\n",
    "plt.figure(figsize = (10, 6))\n",
    "plt.scatter(data_2d_tsne[:, 0], data_2d_tsne[:, 1], c = colors)"
   ]
  },
  {
   "cell_type": "code",
   "execution_count": 19,
   "metadata": {
    "collapsed": false
   },
   "outputs": [
    {
     "data": {
      "text/plain": [
       "1016"
      ]
     },
     "execution_count": 19,
     "metadata": {},
     "output_type": "execute_result"
    }
   ],
   "source": [
    "l = []\n",
    "for i in corpus:\n",
    "    l.append(len(i))\n",
    "max(l)"
   ]
  },
  {
   "cell_type": "code",
   "execution_count": 20,
   "metadata": {
    "collapsed": false
   },
   "outputs": [
    {
     "data": {
      "text/plain": [
       "<matplotlib.collections.PathCollection at 0x7fc44a5e4d10>"
      ]
     },
     "execution_count": 20,
     "metadata": {},
     "output_type": "execute_result"
    },
    {
     "data": {
      "image/png": "[encoded data removed]",
      "text/plain": [
       "<matplotlib.figure.Figure at 0x7fc44a5aecd0>"
      ]
     },
     "metadata": {},
     "output_type": "display_data"
    }
   ],
   "source": [
    "tsne1 = manifold.TSNE(n_components = n_topics, init = 'pca', random_state = 0, perplexity=options['perplexity'], learning_rate=options['learning_rate'], early_exaggeration=options['early_exaggeration'])\n",
    "data_2d_tsne1 = tsne1.fit_transform(df_after)\n",
    "\n",
    "plt.figure(figsize = (10, 6))\n",
    "plt.scatter(data_2d_tsne1[:, 0], data_2d_tsne1[:, 1],c=y)"
   ]
  },
  {
   "cell_type": "code",
   "execution_count": null,
   "metadata": {
    "collapsed": true
   },
   "outputs": [],
   "source": []
  }
 ],
 "metadata": {
  "kernelspec": {
   "display_name": "Python 2",
   "language": "python",
   "name": "python2"
  },
  "language_info": {
   "codemirror_mode": {
    "name": "ipython",
    "version": 2
   },
   "file_extension": ".py",
   "mimetype": "text/x-python",
   "name": "python",
   "nbconvert_exporter": "python",
   "pygments_lexer": "ipython2",
   "version": "2.7.11"
  }
 },
 "nbformat": 4,
 "nbformat_minor": 0
}
