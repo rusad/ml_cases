{
 "cells": [
  {
   "cell_type": "code",
   "execution_count": 1,
   "metadata": {
    "collapsed": false
   },
   "outputs": [],
   "source": [
    "import datetime as dt\n",
    "import time, os\n",
    "import pandas as pd"
   ]
  },
  {
   "cell_type": "code",
   "execution_count": 2,
   "metadata": {
    "collapsed": true
   },
   "outputs": [],
   "source": [
    "def download(source, target, filename):\n",
    "    \"\"\"\n",
    "    Download file through http request\n",
    "    \"\"\"\n",
    "    import requests, io\n",
    "    \n",
    "    # construct full url\n",
    "    full_source_path = os.path.join(source, filename)\n",
    "\n",
    "    # local path\n",
    "    full_target_path = os.path.join(target, filename)\n",
    "    \n",
    "    # whether downloading file exist\n",
    "    if not os.path.exists(full_target_path):\n",
    "        try:\n",
    "            # make request\n",
    "            req = requests.get(full_source_path)\n",
    "            print('Downloading {}'.format(filename))\n",
    "\n",
    "            # write downloaded file to local path\n",
    "            with io.open(full_target_path, 'wb') as f:\n",
    "                for chunk in req.iter_content(chunk_size=1024):\n",
    "                    if chunk:\n",
    "                        f.write(chunk)\n",
    "            print('Done Downloading {}'.format(full_target_path))\n",
    "\n",
    "        except Exception as e:\n",
    "            print(\"There was an error: {}; {}\".format(e, filename))\n",
    "    \n",
    "    else:\n",
    "        print('{} already exist - Skipping downloading.'.format(full_target_path))\n",
    "        \n",
    "\n",
    "def unzip(full_target_path, *args, **kwargs):\n",
    "    import zipfile\n",
    "\n",
    "    try:\n",
    "        z = zipfile.ZipFile(file=full_target_path, mode='r')\n",
    "        \n",
    "        # if path not specified then extract in current working directory\n",
    "        unzip_path  = kwargs.get('path' , os.getcwd()) \n",
    "        \n",
    "        print('Attempting to unzip {}'.format(full_target_path))\n",
    "        unzipped = []\n",
    "        for fl in z.namelist():\n",
    "            full_unzip_path = os.path.join(unzip_path, fl)\n",
    "            \n",
    "            # whether unzipping file exist\n",
    "            if not os.path.exists(full_unzip_path):\n",
    "                unzipped.append(z.extract(fl, *args, **kwargs))\n",
    "                print('Done unzipping {}'.format(fl))\n",
    "            else:\n",
    "                print('{} already exist - Skip unzipping.'.format(full_unzip_path))\n",
    "                unzipped.append(full_unzip_path)\n",
    "                 \n",
    "        return unzipped\n",
    "        \n",
    "    except zipfile.BadZipfile:\n",
    "        print('Bad zip file for {}, passing.'.format(full_target_path))"
   ]
  },
  {
   "cell_type": "code",
   "execution_count": 3,
   "metadata": {
    "collapsed": true
   },
   "outputs": [],
   "source": [
    "# elements that are present in all the tables but they all differ\n",
    "tables = {\n",
    "    'events': {'sheetname': 'events', 'filename':'export','index_col': 'GLOBALEVENTID', 'date_col': 'DATEADDED'},\n",
    "    'gkg': {'sheetname': 'GKG', 'filename':'gkg','index_col': None, 'date_col': 'V2.1DATE'},\n",
    "    'mentiones' : {'sheetname': 'mentions', 'filename':'mentions','index_col': 'GLOBALEVENTID', 'date_col': 'EVENTTIMEDATE'},\n",
    "}"
   ]
  },
  {
   "cell_type": "code",
   "execution_count": 4,
   "metadata": {
    "collapsed": false
   },
   "outputs": [],
   "source": [
    "# source url\n",
    "URL = \"http://data.gdeltproject.org/gdeltv2/\"\n",
    "\n",
    "# path to download data\n",
    "PATH = \"data/\""
   ]
  },
  {
   "cell_type": "code",
   "execution_count": 5,
   "metadata": {
    "collapsed": false
   },
   "outputs": [],
   "source": [
    "# get column names from file\n",
    "headers = os.path.join(os.getcwd(), PATH, \"header.xlsx\")\n",
    "\n",
    "colnames = pd.read_excel(\n",
    "    headers, \n",
    "    sheetname = tables['events']['sheetname'], \n",
    "    index_col = 'Column ID', \n",
    "    parse_cols = 1\n",
    ")['Field Name']"
   ]
  },
  {
   "cell_type": "code",
   "execution_count": 6,
   "metadata": {
    "collapsed": false
   },
   "outputs": [
    {
     "name": "stdout",
     "output_type": "stream",
     "text": [
      "data/20160810100000.translation.export.CSV.zip already exist - Skipping downloading.\n",
      "Attempting to unzip data/20160810100000.translation.export.CSV.zip\n",
      "data/tmp/20160810100000.translation.export.CSV already exist - Skip unzipping.\n",
      "data/20160810101500.translation.export.CSV.zip already exist - Skipping downloading.\n",
      "Attempting to unzip data/20160810101500.translation.export.CSV.zip\n",
      "data/tmp/20160810101500.translation.export.CSV already exist - Skip unzipping.\n",
      "data/20160810103000.translation.export.CSV.zip already exist - Skipping downloading.\n",
      "Attempting to unzip data/20160810103000.translation.export.CSV.zip\n",
      "data/tmp/20160810103000.translation.export.CSV already exist - Skip unzipping.\n",
      "data/20160810104500.translation.export.CSV.zip already exist - Skipping downloading.\n",
      "Attempting to unzip data/20160810104500.translation.export.CSV.zip\n",
      "data/tmp/20160810104500.translation.export.CSV already exist - Skip unzipping.\n",
      "data/20160810110000.translation.export.CSV.zip already exist - Skipping downloading.\n",
      "Attempting to unzip data/20160810110000.translation.export.CSV.zip\n",
      "data/tmp/20160810110000.translation.export.CSV already exist - Skip unzipping.\n",
      "data/20160810111500.translation.export.CSV.zip already exist - Skipping downloading.\n",
      "Attempting to unzip data/20160810111500.translation.export.CSV.zip\n",
      "data/tmp/20160810111500.translation.export.CSV already exist - Skip unzipping.\n",
      "data/20160810113000.translation.export.CSV.zip already exist - Skipping downloading.\n",
      "Attempting to unzip data/20160810113000.translation.export.CSV.zip\n",
      "data/tmp/20160810113000.translation.export.CSV already exist - Skip unzipping.\n",
      "data/20160810114500.translation.export.CSV.zip already exist - Skipping downloading.\n",
      "Attempting to unzip data/20160810114500.translation.export.CSV.zip\n",
      "data/tmp/20160810114500.translation.export.CSV already exist - Skip unzipping.\n",
      "data/20160810120000.translation.export.CSV.zip already exist - Skipping downloading.\n",
      "Attempting to unzip data/20160810120000.translation.export.CSV.zip\n",
      "data/tmp/20160810120000.translation.export.CSV already exist - Skip unzipping.\n"
     ]
    }
   ],
   "source": [
    "start_date = dt.datetime(2016, 8, 10, 10, 00, 00)\n",
    "end_date = dt.datetime(2016, 8, 10, 12, 00, 00)\n",
    "date = start_date\n",
    "\n",
    "df_list = [] \n",
    "\n",
    "# iterate within dates with 15-mins step and download, unzip and save csv-file\n",
    "# each csv-file content save in pandas dataframe\n",
    "while date <= end_date:\n",
    "    # filename examples:\n",
    "    # 20161027054500.export.CSV.zip / 20161027054500.translation.export.CSV.zip\n",
    "    # 20161027054500.mentions.CSV.zip / 20161027054500.translation.mentions.CSV.zip\n",
    "    # 20161027054500.gkg.csv.zip / 20161027054500.translation.gkg.csv.zip\n",
    "    filename = date.strftime(\"%Y%m%d%H%M%S\") + \".translation.\" + tables['events']['filename'] + \".CSV.zip\"\n",
    "    download(URL, PATH, filename)\n",
    "    unzipped = unzip(os.path.join(PATH, filename), path=os.path.join(PATH, 'tmp/'))\n",
    "    \n",
    "    df_list.append(pd.read_csv(\n",
    "        unzipped[0], \n",
    "        sep='\\t', \n",
    "        header = None, \n",
    "        dtype = str,\n",
    "        names = colnames, \n",
    "        index_col = [tables['events']['index_col']],\n",
    "        parse_dates = [tables['events']['date_col']])\n",
    "    )\n",
    " \n",
    "    time.sleep(15) # 15 secs pause to avoid server overloading\n",
    "    date += dt.timedelta(seconds=60*15) # 15 minutes step\n",
    "\n",
    "# concatenate dataframes\n",
    "df = pd.concat(df_list)"
   ]
  },
  {
   "cell_type": "code",
   "execution_count": 7,
   "metadata": {
    "collapsed": true
   },
   "outputs": [],
   "source": [
    "# storing data\n",
    "storing_name = start_date.strftime(\"%Y.%m.%d_%H.%M\") + '-' + end_date.strftime(\"%Y.%m.%d_%H.%M\") + '_' + tables['events']['filename'] + '.pkl'\n",
    "df.to_pickle(os.path.join(PATH, storing_name))"
   ]
  }
 ],
 "metadata": {
  "anaconda-cloud": {},
  "kernelspec": {
   "display_name": "Python [default]",
   "language": "python",
   "name": "python2"
  },
  "language_info": {
   "codemirror_mode": {
    "name": "ipython",
    "version": 2
   },
   "file_extension": ".py",
   "mimetype": "text/x-python",
   "name": "python",
   "nbconvert_exporter": "python",
   "pygments_lexer": "ipython2",
   "version": "2.7.12"
  }
 },
 "nbformat": 4,
 "nbformat_minor": 1
}
